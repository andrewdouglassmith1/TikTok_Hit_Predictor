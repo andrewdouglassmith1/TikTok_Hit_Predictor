{
 "cells": [
  {
   "cell_type": "markdown",
   "id": "thorough-grave",
   "metadata": {},
   "source": [
    "# Notebook Summary\n",
    "In this notebook, I create a list of Artists for each song on Spotify.  I cannot apply the Chartmetric artists names directly to the Spotify artist names from the outside dataset. "
   ]
  },
  {
   "cell_type": "code",
   "execution_count": 4,
   "id": "unnecessary-cargo",
   "metadata": {},
   "outputs": [
    {
     "ename": "SyntaxError",
     "evalue": "invalid decimal literal (<ipython-input-4-d4274b34f8ca>, line 6)",
     "output_type": "error",
     "traceback": [
      "\u001b[1;36m  File \u001b[1;32m\"<ipython-input-4-d4274b34f8ca>\"\u001b[1;36m, line \u001b[1;32m6\u001b[0m\n\u001b[1;33m    import 4_Spotify_Feature_Extraction\u001b[0m\n\u001b[1;37m            ^\u001b[0m\n\u001b[1;31mSyntaxError\u001b[0m\u001b[1;31m:\u001b[0m invalid decimal literal\n"
     ]
    }
   ],
   "source": [
    "import autoreload\n",
    "%load_ext autoreload\n",
    "%autoreload 2\n",
    "%reload_ext autoreload\n",
    "import config\n",
    "import 4_Spotify_Feature_Extraction"
   ]
  },
  {
   "cell_type": "code",
   "execution_count": null,
   "id": "double-hayes",
   "metadata": {},
   "outputs": [],
   "source": [
    "import pickle\n",
    "import pandas as pd\n",
    "import numpy as np"
   ]
  },
  {
   "cell_type": "markdown",
   "id": "sunset-contrary",
   "metadata": {},
   "source": [
    "# Pickle in data"
   ]
  },
  {
   "cell_type": "code",
   "execution_count": null,
   "id": "classical-rwanda",
   "metadata": {},
   "outputs": [],
   "source": [
    "# Designate path\n",
    "\n",
    "path = r\"C:\\Users\\Andrew\\Documents\\Metis\\TikTok_Hit_Predictor\\Pickle\\df_agg.pkl\"\n",
    "\n",
    "df = pickle.load(open(path,'rb'))\n",
    "df.head()"
   ]
  },
  {
   "cell_type": "markdown",
   "id": "automotive-coral",
   "metadata": {},
   "source": [
    "# Extract Artist Name"
   ]
  },
  {
   "cell_type": "code",
   "execution_count": null,
   "id": "numerical-monday",
   "metadata": {},
   "outputs": [],
   "source": []
  }
 ],
 "metadata": {
  "kernelspec": {
   "display_name": "Python 3",
   "language": "python",
   "name": "python3"
  }
 },
 "nbformat": 4,
 "nbformat_minor": 5
}
