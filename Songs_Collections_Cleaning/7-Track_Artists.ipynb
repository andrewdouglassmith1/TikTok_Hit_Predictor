{
 "cells": [
  {
   "cell_type": "markdown",
   "id": "thorough-grave",
   "metadata": {},
   "source": [
    "# Notebook Summary\n",
    "In this notebook, I create a list of Artists for each song on Spotify.  I cannot apply the Chartmetric artists names directly to the Spotify artist names from the outside dataset. "
   ]
  },
  {
   "cell_type": "code",
   "execution_count": null,
   "id": "unnecessary-cargo",
   "metadata": {},
   "outputs": [],
   "source": [
    "import autoreload\n",
    "%load_ext autoreload\n",
    "%autoreload 2\n",
    "%reload_ext autoreload\n",
    "import config"
   ]
  },
  {
   "cell_type": "code",
   "execution_count": null,
   "id": "double-hayes",
   "metadata": {},
   "outputs": [],
   "source": [
    "import requests\n",
    "import base64\n",
    "import datetime\n",
    "from urllib.parse import urlencode\n",
    "import pickle\n",
    "import pandas as pd\n",
    "import Spotify_Extraction"
   ]
  },
  {
   "cell_type": "markdown",
   "id": "sunset-contrary",
   "metadata": {},
   "source": [
    "# Pickle in data"
   ]
  },
  {
   "cell_type": "code",
   "execution_count": null,
   "id": "classical-rwanda",
   "metadata": {},
   "outputs": [],
   "source": [
    "# Designate path\n",
    "\n",
    "path = r\"C:\\Users\\Andrew\\Documents\\Metis\\TikTok_Hit_Predictor\\Pickle\\df_agg.pkl\"\n",
    "\n",
    "df = pickle.load(open(path,'rb'))\n",
    "df.head()"
   ]
  },
  {
   "cell_type": "markdown",
   "id": "automotive-coral",
   "metadata": {},
   "source": [
    "# Extract Artist Name"
   ]
  },
  {
   "cell_type": "code",
   "execution_count": null,
   "id": "numerical-monday",
   "metadata": {},
   "outputs": [],
   "source": [
    "spotify = Spotify_Extraction.SpotifyAPI(config.client_id, config.client_secret)"
   ]
  },
  {
   "cell_type": "code",
   "execution_count": null,
   "id": "complimentary-balloon",
   "metadata": {},
   "outputs": [],
   "source": [
    "# Function to extract artists\n",
    "\n",
    "def extract_artists(isrc):\n",
    "    try: \n",
    "        song_dict = spotify.search(f\"isrc:{isrc}\", search_type = \"Track\")\n",
    "        artists = []\n",
    "        for i in song_dict.get('tracks').get('items')[0].get('artists'):\n",
    "            artists.append(i.get('name'))\n",
    "    except:\n",
    "        artists = []\n",
    "    return artists"
   ]
  },
  {
   "cell_type": "code",
   "execution_count": null,
   "id": "adjacent-lancaster",
   "metadata": {},
   "outputs": [],
   "source": [
    "# Create a spotify artists column\n",
    "\n",
    "df['spotify_artists'] = df['ISRC'].apply(lambda x : extract_artists(x))"
   ]
  },
  {
   "cell_type": "code",
   "execution_count": null,
   "id": "different-request",
   "metadata": {},
   "outputs": [],
   "source": [
    "# Inspect\n",
    "df.head()"
   ]
  },
  {
   "cell_type": "markdown",
   "id": "optimum-growing",
   "metadata": {},
   "source": [
    "# Pickle Dump"
   ]
  },
  {
   "cell_type": "code",
   "execution_count": null,
   "id": "micro-warrant",
   "metadata": {},
   "outputs": [],
   "source": [
    "path = r\"C:\\Users\\Andrew\\Documents\\Metis\\TikTok_Hit_Predictor\\Pickle\\df_agg_w_artists.pkl\"\n",
    "\n",
    "with open(path, 'wb') as f:\n",
    "    pickle.dump(df, f)"
   ]
  },
  {
   "cell_type": "code",
   "execution_count": null,
   "id": "civilian-ethiopia",
   "metadata": {},
   "outputs": [],
   "source": []
  }
 ],
 "metadata": {
  "kernelspec": {
   "display_name": "Python 3",
   "language": "python",
   "name": "python3"
  },
  "language_info": {
   "codemirror_mode": {
    "name": "ipython",
    "version": 3
   },
   "file_extension": ".py",
   "mimetype": "text/x-python",
   "name": "python",
   "nbconvert_exporter": "python",
   "pygments_lexer": "ipython3",
   "version": "3.8.8"
  }
 },
 "nbformat": 4,
 "nbformat_minor": 5
}
