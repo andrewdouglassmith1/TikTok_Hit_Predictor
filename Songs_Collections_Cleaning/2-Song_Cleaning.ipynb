{
 "cells": [
  {
   "cell_type": "markdown",
   "id": "exposed-junior",
   "metadata": {},
   "source": [
    "# Notebook Summary\n",
    "In this notebook I will concat all individual rolling weekly csvs into a single csv, all daily csvs into a single csv and then pull out all unique songs with their metadata."
   ]
  },
  {
   "cell_type": "code",
   "execution_count": 3,
   "id": "human-perspective",
   "metadata": {},
   "outputs": [],
   "source": [
    "import os\n",
    "import glob\n",
    "import pandas as pd\n",
    "import pickle"
   ]
  },
  {
   "cell_type": "markdown",
   "id": "extraordinary-announcement",
   "metadata": {},
   "source": [
    "# Starting with daily csvs"
   ]
  },
  {
   "cell_type": "code",
   "execution_count": 13,
   "id": "native-tactics",
   "metadata": {},
   "outputs": [],
   "source": [
    "# Designate path\n",
    "\n",
    "os.chdir('C:\\\\Users\\\\Andrew\\\\Documents\\\\Metis\\\\TikTok_Song_Predictor\\\\Songs_Data\\\\Daily')"
   ]
  },
  {
   "cell_type": "code",
   "execution_count": 17,
   "id": "sublime-anthropology",
   "metadata": {},
   "outputs": [],
   "source": [
    "# Create a list of all filenames \n",
    "\n",
    "extension = 'csv'\n",
    "all_filenames = [i for i in glob.glob('*.{}'.format(extension))]"
   ]
  },
  {
   "cell_type": "code",
   "execution_count": 18,
   "id": "massive-terry",
   "metadata": {},
   "outputs": [],
   "source": [
    "# Combine all files in the list\n",
    "\n",
    "daily_combined_csv = pd.concat([pd.read_csv(f) for f in all_filenames])\n",
    "\n",
    "#export to csv\n",
    "daily_combined_csv.to_csv( \"combined_csv.csv\", index=False, encoding='utf-8-sig')"
   ]
  },
  {
   "cell_type": "markdown",
   "id": "promotional-pizza",
   "metadata": {},
   "source": [
    "# Next daily top songs calculated based on a 7 day moving average"
   ]
  },
  {
   "cell_type": "code",
   "execution_count": 20,
   "id": "fossil-moses",
   "metadata": {},
   "outputs": [],
   "source": [
    "# Designate path\n",
    "\n",
    "os.chdir('C:\\\\Users\\\\Andrew\\\\Documents\\\\Metis\\\\TikTok_Song_Predictor\\\\Songs_Data\\\\Rolling_Weekly')"
   ]
  },
  {
   "cell_type": "code",
   "execution_count": 22,
   "id": "royal-aviation",
   "metadata": {},
   "outputs": [],
   "source": [
    "# Create a list of all filenames \n",
    "\n",
    "extension = 'csv'\n",
    "all_filenames = [i for i in glob.glob('*.{}'.format(extension))]"
   ]
  },
  {
   "cell_type": "code",
   "execution_count": 23,
   "id": "clear-horizon",
   "metadata": {},
   "outputs": [],
   "source": [
    "# Combine all files in the list\n",
    "\n",
    "rolling_combined_csv = pd.concat([pd.read_csv(f) for f in all_filenames])\n",
    "\n",
    "#export to csv\n",
    "rolling_combined_csv.to_csv( \"combined_csv.csv\", index=False, encoding='utf-8-sig')"
   ]
  },
  {
   "cell_type": "markdown",
   "id": "saved-gospel",
   "metadata": {},
   "source": [
    "# Selecting out unique songs and combine into a single dataframe"
   ]
  },
  {
   "cell_type": "markdown",
   "id": "white-malpractice",
   "metadata": {},
   "source": [
    "#### Start with rolling 7 day daily ranking"
   ]
  },
  {
   "cell_type": "code",
   "execution_count": 57,
   "id": "realistic-companion",
   "metadata": {},
   "outputs": [],
   "source": [
    "# Create a new datafrane where each row is the maximum rank for each song\n",
    "\n",
    "unique_combined_rolling = rolling_combined_csv.sort_values('Rank',ascending=True).drop_duplicates(['tiktok_track_id'])"
   ]
  },
  {
   "cell_type": "code",
   "execution_count": 65,
   "id": "alive-horse",
   "metadata": {},
   "outputs": [
    {
     "data": {
      "text/plain": [
       "(11382, 19)"
      ]
     },
     "execution_count": 65,
     "metadata": {},
     "output_type": "execute_result"
    }
   ],
   "source": [
    "unique_combined_rolling.shape"
   ]
  },
  {
   "cell_type": "markdown",
   "id": "artistic-punch",
   "metadata": {},
   "source": [
    "#### Next Daily ranking"
   ]
  },
  {
   "cell_type": "code",
   "execution_count": 59,
   "id": "raising-check",
   "metadata": {},
   "outputs": [],
   "source": [
    "# Create a new datafrane where each row is the maximum rank for each song\n",
    "\n",
    "unique_combined_daily = daily_combined_csv.sort_values('Rank',ascending=True).drop_duplicates(['tiktok_track_id'])"
   ]
  },
  {
   "cell_type": "code",
   "execution_count": 64,
   "id": "stone-monday",
   "metadata": {},
   "outputs": [
    {
     "data": {
      "text/plain": [
       "(11563, 18)"
      ]
     },
     "execution_count": 64,
     "metadata": {},
     "output_type": "execute_result"
    }
   ],
   "source": [
    "unique_combined_daily.shape"
   ]
  },
  {
   "cell_type": "markdown",
   "id": "chubby-rough",
   "metadata": {},
   "source": [
    "#### Combine unique dataframes"
   ]
  },
  {
   "cell_type": "code",
   "execution_count": 67,
   "id": "hispanic-reporter",
   "metadata": {},
   "outputs": [
    {
     "data": {
      "text/plain": [
       "Index(['Playlist Add Date', 'Record Label', 'UPC', 'Album Name', 'ISRC',\n",
       "       'name', 'Peak Position', 'Peak Date', 'Rank', 'Historical Positions',\n",
       "       'Time on Chart', 'Artist(s)', 'tiktok_track_id', 'Velocity',\n",
       "       'Weekly Posts', 'Historical Posts', 'TikTok Link', 'Release Date',\n",
       "       'Position Change'],\n",
       "      dtype='object')"
      ]
     },
     "execution_count": 67,
     "metadata": {},
     "output_type": "execute_result"
    }
   ],
   "source": [
    "# Check the columns for both\n",
    "\n",
    "unique_combined_rolling.columns"
   ]
  },
  {
   "cell_type": "code",
   "execution_count": 68,
   "id": "different-indian",
   "metadata": {},
   "outputs": [
    {
     "data": {
      "text/plain": [
       "Index(['Playlist Add Date', 'Record Label', 'UPC', 'Album Name', 'ISRC',\n",
       "       'name', 'Peak Position', 'Peak Date', 'Rank', 'Historical Positions',\n",
       "       'Time on Chart', 'Artist(s)', 'tiktok_track_id', 'Velocity',\n",
       "       'Historical Posts', 'TikTok Link', 'Release Date', 'Position Change'],\n",
       "      dtype='object')"
      ]
     },
     "execution_count": 68,
     "metadata": {},
     "output_type": "execute_result"
    }
   ],
   "source": [
    "unique_combined_daily.columns"
   ]
  },
  {
   "cell_type": "code",
   "execution_count": 70,
   "id": "collect-wrapping",
   "metadata": {},
   "outputs": [],
   "source": [
    "# Let's drop the 'Weekly Posts' column before concating the two dataframes\n",
    "\n",
    "unique_combined_rolling.drop(['Weekly Posts'],axis = 1,inplace=True)"
   ]
  },
  {
   "cell_type": "code",
   "execution_count": null,
   "id": "athletic-score",
   "metadata": {},
   "outputs": [],
   "source": [
    "# Concat both dataframes"
   ]
  },
  {
   "cell_type": "code",
   "execution_count": 72,
   "id": "confident-filename",
   "metadata": {},
   "outputs": [],
   "source": [
    "agg_combined = pd.concat([unique_combined_daily,unique_combined_rolling])"
   ]
  },
  {
   "cell_type": "code",
   "execution_count": 89,
   "id": "parallel-karen",
   "metadata": {},
   "outputs": [],
   "source": [
    "# Delete duplicates by only selecting the min rank again\n",
    "\n",
    "agg_combined = agg_combined.sort_values('Rank',ascending=True).drop_duplicates(['tiktok_track_id'])"
   ]
  },
  {
   "cell_type": "markdown",
   "id": "cordless-paintball",
   "metadata": {},
   "source": [
    "#### Pickle agg_combined dataframe"
   ]
  },
  {
   "cell_type": "code",
   "execution_count": 92,
   "id": "romance-longitude",
   "metadata": {},
   "outputs": [],
   "source": [
    "# Designate path\n",
    "\n",
    "path = r\"C:\\Users\\Andrew\\Documents\\Metis\\TikTok_Song_Predictor\\Pickle\\Pickle.pkl\"\n",
    "with open(path, 'wb') as f:\n",
    "    pickle.dump(agg_combined, f)"
   ]
  }
 ],
 "metadata": {
  "kernelspec": {
   "display_name": "Python 3",
   "language": "python",
   "name": "python3"
  },
  "language_info": {
   "codemirror_mode": {
    "name": "ipython",
    "version": 3
   },
   "file_extension": ".py",
   "mimetype": "text/x-python",
   "name": "python",
   "nbconvert_exporter": "python",
   "pygments_lexer": "ipython3",
   "version": "3.8.8"
  }
 },
 "nbformat": 4,
 "nbformat_minor": 5
}
