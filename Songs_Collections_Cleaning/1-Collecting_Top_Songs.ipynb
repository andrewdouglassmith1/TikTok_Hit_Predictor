{
 "cells": [
  {
   "cell_type": "markdown",
   "id": "tough-emperor",
   "metadata": {},
   "source": [
    "## Import libraries"
   ]
  },
  {
   "cell_type": "code",
   "execution_count": 72,
   "id": "refined-syndrome",
   "metadata": {},
   "outputs": [
    {
     "name": "stdout",
     "output_type": "stream",
     "text": [
      "The autoreload extension is already loaded. To reload it, use:\n",
      "  %reload_ext autoreload\n"
     ]
    }
   ],
   "source": [
    "import autoreload\n",
    "%load_ext autoreload\n",
    "%autoreload 2\n",
    "%reload_ext autoreload\n",
    "from config import username, password\n",
    "from datetime import timedelta, date\n",
    "import pandas as pd\n",
    "import Classes\n",
    "import os\n",
    "import config\n",
    "import time\n",
    "import random"
   ]
  },
  {
   "cell_type": "code",
   "execution_count": 62,
   "id": "broke-democracy",
   "metadata": {},
   "outputs": [],
   "source": [
    "# Setup chromedriver\n",
    "from selenium import webdriver\n",
    "from selenium.webdriver.common.keys import Keys\n",
    "from selenium.webdriver.common.by import By"
   ]
  },
  {
   "cell_type": "markdown",
   "id": "polar-lincoln",
   "metadata": {},
   "source": [
    "## Collect top daily Tiktok Daily Songs \n",
    "- I paid for the Chartmetric subscription given they have the most extensive (and really only) database of TikTok charts                         "
   ]
  },
  {
   "cell_type": "markdown",
   "id": "general-accountability",
   "metadata": {},
   "source": [
    "#### Chartmetrics daily charts can be accessed using a particular combination of a url + date format"
   ]
  },
  {
   "cell_type": "code",
   "execution_count": 37,
   "id": "acceptable-april",
   "metadata": {},
   "outputs": [],
   "source": [
    "# Creat list of urls for daily tiktok charts"
   ]
  },
  {
   "cell_type": "code",
   "execution_count": 38,
   "id": "distributed-fishing",
   "metadata": {},
   "outputs": [],
   "source": [
    "# End date for daily urls function\n",
    "end_date = date(2021,3,8)"
   ]
  },
  {
   "cell_type": "code",
   "execution_count": 39,
   "id": "harmful-easter",
   "metadata": {},
   "outputs": [],
   "source": [
    "# Contains all links to each daily chart\n",
    "lst_daily_urls = Classes.daily_urls(end_date)"
   ]
  },
  {
   "cell_type": "code",
   "execution_count": 40,
   "id": "rapid-dependence",
   "metadata": {},
   "outputs": [],
   "source": [
    "# Specify the path wheere I want all csvs to be downloaded\n",
    "\n",
    "options = webdriver.ChromeOptions()\n",
    "\n",
    "preferences = {\"download.default_directory\":\"C:\\\\Users\\\\Andrew\\\\Documents\\\\Metis\\\\TikTok_Hit_Predictor\\\\Songs_Data\"}"
   ]
  },
  {
   "cell_type": "code",
   "execution_count": 41,
   "id": "anonymous-french",
   "metadata": {},
   "outputs": [],
   "source": [
    "# Add preferences to options\n",
    "options.add_experimental_option(\"prefs\",preferences)"
   ]
  },
  {
   "cell_type": "code",
   "execution_count": 42,
   "id": "powered-airport",
   "metadata": {},
   "outputs": [],
   "source": [
    "# Create executable path for chromedriver\n",
    "chromedriver = '/Program Files/Google/Chrome/Application/chromedriver.exe' # path to the chromedriver executable\n",
    "os.environ[\"webdriver.chrome.driver\"] = chromedriver"
   ]
  },
  {
   "cell_type": "code",
   "execution_count": 43,
   "id": "occasional-leisure",
   "metadata": {},
   "outputs": [],
   "source": [
    "# Define email and password xpaths\n",
    "email_xpath = '//*[@id=\"email\"]'\n",
    "\n",
    "password_xpath = '//*[@id=\"password\"]'\n",
    "\n",
    "login_xpath = '/html/body/div[1]/div[2]/login/div/section/div/form/div[4]/button'"
   ]
  },
  {
   "cell_type": "code",
   "execution_count": 56,
   "id": "tropical-championship",
   "metadata": {},
   "outputs": [],
   "source": [
    "# Create driver\n",
    "driver = webdriver.Chrome(chromedriver,options=options)"
   ]
  },
  {
   "cell_type": "code",
   "execution_count": 57,
   "id": "electronic-delicious",
   "metadata": {},
   "outputs": [],
   "source": [
    "for index, url in enumerate(lst_daily_urls):\n",
    "    if index == 0:\n",
    "        driver.get(url)\n",
    "        driver.refresh()\n",
    "        time.sleep(5+5*random.random())\n",
    "        # Input username and password\n",
    "        driver.find_element(By.XPATH,email_xpath).send_keys(config.username)\n",
    "        driver.find_element(By.XPATH,password_xpath).send_keys(config.password)\n",
    "        driver.find_element(By.XPATH,login_xpath).click()\n",
    "        time.sleep(2+5*random.random())\n",
    "        driver.get(url)\n",
    "        driver.refresh()\n",
    "        time.sleep(20+5*random.random())\n",
    "        driver.find_element(By.XPATH,\"/html/body/div[1]/div[2]/div/div[3]/ui-view/div[2]/div/div/div[1]/div/export-csv-button\").click()\n",
    "    else:\n",
    "        try: \n",
    "            driver.get(url)\n",
    "            driver.refresh()\n",
    "            time.sleep(5+5*random.random())\n",
    "            driver.find_element(By.XPATH,\"/html/body/div[1]/div[2]/div/div[3]/ui-view/div[2]/div/div/div[1]/div/export-csv-button\").click() \n",
    "        except:\n",
    "            driver.get(url)\n",
    "            driver.refresh()\n",
    "            time.sleep(15+5*random.random())\n",
    "            driver.find_element(By.XPATH,\"/html/body/div[1]/div[2]/div/div[3]/ui-view/div[2]/div/div/div[1]/div/export-csv-button\").click()            \n"
   ]
  },
  {
   "cell_type": "markdown",
   "id": "alpha-anniversary",
   "metadata": {},
   "source": [
    "## Collect Weekly Top TikTok Songs\n",
    "There is a database for 7 day rolling top songs.  To ensure we have a robust dataset, I also download all of these csvs."
   ]
  },
  {
   "cell_type": "code",
   "execution_count": 78,
   "id": "dense-grace",
   "metadata": {},
   "outputs": [],
   "source": [
    "# Create a list of urls "
   ]
  },
  {
   "cell_type": "code",
   "execution_count": 79,
   "id": "endless-search",
   "metadata": {},
   "outputs": [],
   "source": [
    "# End date for 7 day rolling urls function\n",
    "end_date = date(2021,3,9)"
   ]
  },
  {
   "cell_type": "code",
   "execution_count": 80,
   "id": "wireless-phrase",
   "metadata": {},
   "outputs": [],
   "source": [
    "# Contains all links to each 7 day rolling chart\n",
    "lst_weekly_rolling_urls = Classes.weekly_rolling_urls(end_date)"
   ]
  },
  {
   "cell_type": "code",
   "execution_count": 81,
   "id": "corresponding-entertainment",
   "metadata": {},
   "outputs": [],
   "source": [
    "# Specify the path wheere I want all csvs to be downloaded\n",
    "\n",
    "options = webdriver.ChromeOptions()\n",
    "\n",
    "preferences = {\"download.default_directory\":\"C:\\\\Users\\\\Andrew\\\\Documents\\\\Metis\\\\TikTok_Hit_Predictor\\\\Songs_Data\\\\Rolling_Weekly\"}"
   ]
  },
  {
   "cell_type": "code",
   "execution_count": 82,
   "id": "eastern-keyboard",
   "metadata": {},
   "outputs": [],
   "source": [
    "# Add preferences to options\n",
    "options.add_experimental_option(\"prefs\",preferences)"
   ]
  },
  {
   "cell_type": "code",
   "execution_count": 83,
   "id": "unexpected-faculty",
   "metadata": {},
   "outputs": [],
   "source": [
    "# Create executable path for chromedriver\n",
    "chromedriver = '/Program Files/Google/Chrome/Application/chromedriver.exe' # path to the chromedriver executable\n",
    "os.environ[\"webdriver.chrome.driver\"] = chromedriver"
   ]
  },
  {
   "cell_type": "code",
   "execution_count": 84,
   "id": "conventional-lyric",
   "metadata": {},
   "outputs": [],
   "source": [
    "# Define email and password xpaths\n",
    "email_xpath = '//*[@id=\"email\"]'\n",
    "\n",
    "password_xpath = '//*[@id=\"password\"]'\n",
    "\n",
    "login_xpath = '/html/body/div[1]/div[2]/login/div/section/div/form/div[4]/button'\n",
    "\n",
    "csv_xpath = '/html/body/div[1]/div[2]/div/div[3]/ui-view/div[2]/div/div/div[1]/div/export-csv-button/button'"
   ]
  },
  {
   "cell_type": "code",
   "execution_count": 93,
   "id": "common-richards",
   "metadata": {},
   "outputs": [],
   "source": [
    "# Create driver\n",
    "driver = webdriver.Chrome(chromedriver,options=options)"
   ]
  },
  {
   "cell_type": "code",
   "execution_count": 94,
   "id": "searching-reverse",
   "metadata": {},
   "outputs": [],
   "source": [
    "for index, url in enumerate(lst_weekly_rolling_urls[24:]):\n",
    "    if index == 0:\n",
    "        driver.get(url)\n",
    "        driver.refresh()\n",
    "        time.sleep(5+5*random.random())\n",
    "        # Input username and password\n",
    "        driver.find_element(By.XPATH,email_xpath).send_keys(config.username)\n",
    "        driver.find_element(By.XPATH,password_xpath).send_keys(config.password)\n",
    "        driver.find_element(By.XPATH,login_xpath).click()\n",
    "        time.sleep(2+5*random.random())\n",
    "        driver.get(url)\n",
    "        driver.refresh()\n",
    "        time.sleep(20+5*random.random())\n",
    "        driver.find_element(By.XPATH,csv_xpath).click()\n",
    "    else:\n",
    "        try: \n",
    "            driver.get(url)\n",
    "            driver.refresh()\n",
    "            time.sleep(2+5*random.random())\n",
    "            driver.find_element(By.XPATH,csv_xpath).click() \n",
    "        except:\n",
    "            try:        \n",
    "                driver.get(url)\n",
    "                driver.refresh()\n",
    "                time.sleep(15+5*random.random())\n",
    "                driver.find_element(By.XPATH,csv_xpath).click()\n",
    "            except:\n",
    "                driver.get(url)\n",
    "                driver.refresh()\n",
    "                time.sleep(15+5*random.random())\n",
    "                driver.find_element(By.XPATH,csv_xpath).click()"
   ]
  }
 ],
 "metadata": {
  "kernelspec": {
   "display_name": "Python 3",
   "language": "python",
   "name": "python3"
  },
  "language_info": {
   "codemirror_mode": {
    "name": "ipython",
    "version": 3
   },
   "file_extension": ".py",
   "mimetype": "text/x-python",
   "name": "python",
   "nbconvert_exporter": "python",
   "pygments_lexer": "ipython3",
   "version": "3.8.8"
  }
 },
 "nbformat": 4,
 "nbformat_minor": 5
}
