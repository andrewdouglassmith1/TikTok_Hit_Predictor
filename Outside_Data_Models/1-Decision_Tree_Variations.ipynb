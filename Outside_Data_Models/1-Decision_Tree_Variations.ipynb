{
 "cells": [
  {
   "cell_type": "markdown",
   "id": "revised-lightweight",
   "metadata": {},
   "source": [
    "# Notebook Summary\n",
    "In this notebook I test various decision tree based models"
   ]
  },
  {
   "cell_type": "code",
   "execution_count": 1,
   "id": "handy-intake",
   "metadata": {},
   "outputs": [],
   "source": [
    "import autoreload\n",
    "%load_ext autoreload\n",
    "%autoreload 2\n",
    "%reload_ext autoreload\n",
    "import Classes"
   ]
  },
  {
   "cell_type": "code",
   "execution_count": 2,
   "id": "endless-turkey",
   "metadata": {},
   "outputs": [],
   "source": [
    "import pickle\n",
    "from sklearn.model_selection import train_test_split\n",
    "import pandas as pd\n",
    "from sklearn.preprocessing import StandardScaler\n",
    "from sklearn.metrics import f1_score\n",
    "from sklearn.metrics import precision_score, recall_score, precision_recall_curve,f1_score, fbeta_score, accuracy_score\n",
    "from imblearn.over_sampling import ADASYN\n",
    "from sklearn.ensemble import RandomForestClassifier\n",
    "from imblearn.ensemble import BalancedBaggingClassifier\n",
    "from imblearn.ensemble import BalancedRandomForestClassifier\n",
    "from sklearn.metrics import confusion_matrix\n",
    "import matplotlib.pyplot as plt\n",
    "import seaborn as sns\n",
    "import os"
   ]
  },
  {
   "cell_type": "markdown",
   "id": "short-athletics",
   "metadata": {},
   "source": [
    "# Pickle in Data"
   ]
  },
  {
   "cell_type": "code",
   "execution_count": 3,
   "id": "another-basket",
   "metadata": {},
   "outputs": [
    {
     "data": {
      "text/html": [
       "<div>\n",
       "<style scoped>\n",
       "    .dataframe tbody tr th:only-of-type {\n",
       "        vertical-align: middle;\n",
       "    }\n",
       "\n",
       "    .dataframe tbody tr th {\n",
       "        vertical-align: top;\n",
       "    }\n",
       "\n",
       "    .dataframe thead th {\n",
       "        text-align: right;\n",
       "    }\n",
       "</style>\n",
       "<table border=\"1\" class=\"dataframe\">\n",
       "  <thead>\n",
       "    <tr style=\"text-align: right;\">\n",
       "      <th></th>\n",
       "      <th>danceability</th>\n",
       "      <th>energy</th>\n",
       "      <th>key</th>\n",
       "      <th>loudness</th>\n",
       "      <th>mode</th>\n",
       "      <th>speechiness</th>\n",
       "      <th>acousticness</th>\n",
       "      <th>instrumentalness</th>\n",
       "      <th>liveness</th>\n",
       "      <th>valence</th>\n",
       "      <th>tempo</th>\n",
       "      <th>year</th>\n",
       "      <th>spotify_artists</th>\n",
       "      <th>success</th>\n",
       "    </tr>\n",
       "  </thead>\n",
       "  <tbody>\n",
       "    <tr>\n",
       "      <th>0</th>\n",
       "      <td>0.880</td>\n",
       "      <td>0.501</td>\n",
       "      <td>2.0</td>\n",
       "      <td>-6.774</td>\n",
       "      <td>1.0</td>\n",
       "      <td>0.062</td>\n",
       "      <td>0.0494</td>\n",
       "      <td>0.0695</td>\n",
       "      <td>0.4360</td>\n",
       "      <td>0.459</td>\n",
       "      <td>120.038</td>\n",
       "      <td>2020.0</td>\n",
       "      <td>0</td>\n",
       "      <td>1.0</td>\n",
       "    </tr>\n",
       "    <tr>\n",
       "      <th>1</th>\n",
       "      <td>0.935</td>\n",
       "      <td>0.454</td>\n",
       "      <td>1.0</td>\n",
       "      <td>-7.509</td>\n",
       "      <td>1.0</td>\n",
       "      <td>0.375</td>\n",
       "      <td>0.0194</td>\n",
       "      <td>0.0000</td>\n",
       "      <td>0.0824</td>\n",
       "      <td>0.357</td>\n",
       "      <td>133.073</td>\n",
       "      <td>2018.0</td>\n",
       "      <td>1</td>\n",
       "      <td>1.0</td>\n",
       "    </tr>\n",
       "  </tbody>\n",
       "</table>\n",
       "</div>"
      ],
      "text/plain": [
       "   danceability  energy  key  loudness  mode  speechiness  acousticness  \\\n",
       "0         0.880   0.501  2.0    -6.774   1.0        0.062        0.0494   \n",
       "1         0.935   0.454  1.0    -7.509   1.0        0.375        0.0194   \n",
       "\n",
       "   instrumentalness  liveness  valence    tempo    year  spotify_artists  \\\n",
       "0            0.0695    0.4360    0.459  120.038  2020.0                0   \n",
       "1            0.0000    0.0824    0.357  133.073  2018.0                1   \n",
       "\n",
       "   success  \n",
       "0      1.0  \n",
       "1      1.0  "
      ]
     },
     "execution_count": 3,
     "metadata": {},
     "output_type": "execute_result"
    }
   ],
   "source": [
    "# Pickle in factorized data\n",
    "\n",
    "path = r\"C:\\Users\\Andrew\\Documents\\Metis\\TikTok_Hit_Predictor\\Pickle\\supervised_factorized.pkl\"\n",
    "\n",
    "df_factorized = pickle.load(open(path,'rb'))\n",
    "df_factorized.head(2)"
   ]
  },
  {
   "cell_type": "code",
   "execution_count": 4,
   "id": "manual-jordan",
   "metadata": {},
   "outputs": [
    {
     "data": {
      "text/html": [
       "<div>\n",
       "<style scoped>\n",
       "    .dataframe tbody tr th:only-of-type {\n",
       "        vertical-align: middle;\n",
       "    }\n",
       "\n",
       "    .dataframe tbody tr th {\n",
       "        vertical-align: top;\n",
       "    }\n",
       "\n",
       "    .dataframe thead th {\n",
       "        text-align: right;\n",
       "    }\n",
       "</style>\n",
       "<table border=\"1\" class=\"dataframe\">\n",
       "  <thead>\n",
       "    <tr style=\"text-align: right;\">\n",
       "      <th></th>\n",
       "      <th>danceability</th>\n",
       "      <th>energy</th>\n",
       "      <th>key</th>\n",
       "      <th>loudness</th>\n",
       "      <th>mode</th>\n",
       "      <th>speechiness</th>\n",
       "      <th>acousticness</th>\n",
       "      <th>instrumentalness</th>\n",
       "      <th>liveness</th>\n",
       "      <th>valence</th>\n",
       "      <th>...</th>\n",
       "      <th>spotify_artists_Yes</th>\n",
       "      <th>spotify_artists_Yusuf / Cat Stevens</th>\n",
       "      <th>spotify_artists_Yves Montand</th>\n",
       "      <th>spotify_artists_ZZ Top</th>\n",
       "      <th>spotify_artists_Zofia Dromlewiczowa</th>\n",
       "      <th>spotify_artists_blink-182</th>\n",
       "      <th>spotify_artists_other</th>\n",
       "      <th>spotify_artists_Трумен Капоте</th>\n",
       "      <th>spotify_artists_Эрих Мария Ремарк</th>\n",
       "      <th>spotify_artists_Эрнест Хемингуэй</th>\n",
       "    </tr>\n",
       "  </thead>\n",
       "  <tbody>\n",
       "    <tr>\n",
       "      <th>0</th>\n",
       "      <td>0.880</td>\n",
       "      <td>0.501</td>\n",
       "      <td>2.0</td>\n",
       "      <td>-6.774</td>\n",
       "      <td>1.0</td>\n",
       "      <td>0.062</td>\n",
       "      <td>0.0494</td>\n",
       "      <td>0.0695</td>\n",
       "      <td>0.4360</td>\n",
       "      <td>0.459</td>\n",
       "      <td>...</td>\n",
       "      <td>0</td>\n",
       "      <td>0</td>\n",
       "      <td>0</td>\n",
       "      <td>0</td>\n",
       "      <td>0</td>\n",
       "      <td>0</td>\n",
       "      <td>1</td>\n",
       "      <td>0</td>\n",
       "      <td>0</td>\n",
       "      <td>0</td>\n",
       "    </tr>\n",
       "    <tr>\n",
       "      <th>1</th>\n",
       "      <td>0.935</td>\n",
       "      <td>0.454</td>\n",
       "      <td>1.0</td>\n",
       "      <td>-7.509</td>\n",
       "      <td>1.0</td>\n",
       "      <td>0.375</td>\n",
       "      <td>0.0194</td>\n",
       "      <td>0.0000</td>\n",
       "      <td>0.0824</td>\n",
       "      <td>0.357</td>\n",
       "      <td>...</td>\n",
       "      <td>0</td>\n",
       "      <td>0</td>\n",
       "      <td>0</td>\n",
       "      <td>0</td>\n",
       "      <td>0</td>\n",
       "      <td>0</td>\n",
       "      <td>1</td>\n",
       "      <td>0</td>\n",
       "      <td>0</td>\n",
       "      <td>0</td>\n",
       "    </tr>\n",
       "  </tbody>\n",
       "</table>\n",
       "<p>2 rows × 529 columns</p>\n",
       "</div>"
      ],
      "text/plain": [
       "   danceability  energy  key  loudness  mode  speechiness  acousticness  \\\n",
       "0         0.880   0.501  2.0    -6.774   1.0        0.062        0.0494   \n",
       "1         0.935   0.454  1.0    -7.509   1.0        0.375        0.0194   \n",
       "\n",
       "   instrumentalness  liveness  valence  ...  spotify_artists_Yes  \\\n",
       "0            0.0695    0.4360    0.459  ...                    0   \n",
       "1            0.0000    0.0824    0.357  ...                    0   \n",
       "\n",
       "   spotify_artists_Yusuf / Cat Stevens  spotify_artists_Yves Montand  \\\n",
       "0                                    0                             0   \n",
       "1                                    0                             0   \n",
       "\n",
       "   spotify_artists_ZZ Top  spotify_artists_Zofia Dromlewiczowa  \\\n",
       "0                       0                                    0   \n",
       "1                       0                                    0   \n",
       "\n",
       "   spotify_artists_blink-182  spotify_artists_other  \\\n",
       "0                          0                      1   \n",
       "1                          0                      1   \n",
       "\n",
       "   spotify_artists_Трумен Капоте  spotify_artists_Эрих Мария Ремарк  \\\n",
       "0                              0                                  0   \n",
       "1                              0                                  0   \n",
       "\n",
       "   spotify_artists_Эрнест Хемингуэй  \n",
       "0                                 0  \n",
       "1                                 0  \n",
       "\n",
       "[2 rows x 529 columns]"
      ]
     },
     "execution_count": 4,
     "metadata": {},
     "output_type": "execute_result"
    }
   ],
   "source": [
    "# Pickle in dummied data\n",
    "\n",
    "path = r\"C:\\Users\\Andrew\\Documents\\Metis\\TikTok_Hit_Predictor\\Pickle\\supervised_dummy.pkl\"\n",
    "\n",
    "df_dummy = pickle.load(open(path,'rb'))\n",
    "df_dummy.head(2)"
   ]
  },
  {
   "cell_type": "markdown",
   "id": "funny-binary",
   "metadata": {},
   "source": [
    "# 1.A) Random Forest - Factorized artists"
   ]
  },
  {
   "cell_type": "code",
   "execution_count": 5,
   "id": "comprehensive-radiation",
   "metadata": {},
   "outputs": [],
   "source": [
    "# Seperate features from label\n",
    "\n",
    "X = df_factorized.loc[:,['danceability', 'energy', 'key', 'loudness', 'mode', 'speechiness',\n",
    "       'acousticness', 'instrumentalness', 'liveness', 'valence', 'tempo','year','spotify_artists']]\n",
    "\n",
    "y = df_factorized['success']"
   ]
  },
  {
   "cell_type": "markdown",
   "id": "detected-immunology",
   "metadata": {},
   "source": [
    "I elect to only use a train / test split due to a limited dataset ~7,500 rows"
   ]
  },
  {
   "cell_type": "code",
   "execution_count": 6,
   "id": "relative-actress",
   "metadata": {},
   "outputs": [],
   "source": [
    "#Split data into 3: 80% train,20% test\n",
    "X_train, X_test, y_train, y_test = train_test_split(X, y, test_size=0.2, stratify=y)"
   ]
  },
  {
   "cell_type": "code",
   "execution_count": 7,
   "id": "sophisticated-filing",
   "metadata": {},
   "outputs": [],
   "source": [
    "# Oversample training data\n",
    "ada = ADASYN(random_state=42)\n",
    "X_adasyn_tr, y_adasyn_tr = ada.fit_resample(X_train,y_train)"
   ]
  },
  {
   "cell_type": "code",
   "execution_count": 8,
   "id": "processed-disclosure",
   "metadata": {},
   "outputs": [],
   "source": [
    "# run random forest\n",
    "clf = RandomForestClassifier()\n",
    "clf.fit(X_adasyn_tr, y_adasyn_tr)\n",
    "y_predict = clf.predict(X_test)"
   ]
  },
  {
   "cell_type": "code",
   "execution_count": 9,
   "id": "supported-charm",
   "metadata": {},
   "outputs": [
    {
     "name": "stdout",
     "output_type": "stream",
     "text": [
      "Train Scores\n",
      "Accuracy score: 100.00%\n"
     ]
    }
   ],
   "source": [
    "Classes.train_scores(clf,X_adasyn_tr, y_adasyn_tr)"
   ]
  },
  {
   "cell_type": "code",
   "execution_count": 10,
   "id": "cosmetic-puzzle",
   "metadata": {},
   "outputs": [
    {
     "name": "stdout",
     "output_type": "stream",
     "text": [
      "Test Scores\n",
      "Score:  93.81%\n",
      "F1 score:  78.84%\n",
      "Precision:  68.34%,  Test Recall:  93.16%\n"
     ]
    }
   ],
   "source": [
    "Classes.test_scores(y_test,y_predict)"
   ]
  },
  {
   "cell_type": "markdown",
   "id": "numerical-conditioning",
   "metadata": {},
   "source": [
    "# 1.B) Random Forest - Dummy artists"
   ]
  },
  {
   "cell_type": "code",
   "execution_count": 11,
   "id": "unable-bridge",
   "metadata": {},
   "outputs": [],
   "source": [
    "# Seperate features from label\n",
    "\n",
    "X = df_dummy.drop(['success'],axis=1)\n",
    "\n",
    "y = df_dummy['success']"
   ]
  },
  {
   "cell_type": "code",
   "execution_count": 12,
   "id": "consecutive-recording",
   "metadata": {},
   "outputs": [],
   "source": [
    "#Split data into 3: 80% train,20% test\n",
    "X_train, X_test, y_train, y_test = train_test_split(X, y, test_size=0.2, stratify=y)"
   ]
  },
  {
   "cell_type": "code",
   "execution_count": 13,
   "id": "expected-turtle",
   "metadata": {},
   "outputs": [],
   "source": [
    "# Oversample training data\n",
    "ada = ADASYN(random_state=42)\n",
    "X_adasyn_tr, y_adasyn_tr = ada.fit_resample(X_train,y_train)"
   ]
  },
  {
   "cell_type": "code",
   "execution_count": 14,
   "id": "illegal-member",
   "metadata": {},
   "outputs": [],
   "source": [
    "# run random forest\n",
    "clf = RandomForestClassifier()\n",
    "clf.fit(X_adasyn_tr, y_adasyn_tr)\n",
    "y_predict = clf.predict(X_test)"
   ]
  },
  {
   "cell_type": "code",
   "execution_count": 15,
   "id": "excited-double",
   "metadata": {},
   "outputs": [
    {
     "name": "stdout",
     "output_type": "stream",
     "text": [
      "Train Scores\n",
      "Accuracy score: 100.00%\n"
     ]
    }
   ],
   "source": [
    "Classes.train_scores(clf,X_adasyn_tr, y_adasyn_tr)"
   ]
  },
  {
   "cell_type": "code",
   "execution_count": 16,
   "id": "american-victorian",
   "metadata": {},
   "outputs": [
    {
     "name": "stdout",
     "output_type": "stream",
     "text": [
      "Test Scores\n",
      "Score:  81.89%\n",
      "F1 score:  26.06%\n",
      "Precision:  26.34%,  Test Recall:  25.79%\n"
     ]
    }
   ],
   "source": [
    "Classes.test_scores(y_test,y_predict)"
   ]
  },
  {
   "cell_type": "markdown",
   "id": "governing-heath",
   "metadata": {},
   "source": [
    "It seems that we have dimensionality problems here and so the score is much lower"
   ]
  },
  {
   "cell_type": "markdown",
   "id": "desirable-honolulu",
   "metadata": {},
   "source": [
    "# 2A) Balanced Random Forest Classifier "
   ]
  },
  {
   "cell_type": "code",
   "execution_count": 35,
   "id": "amended-fellow",
   "metadata": {},
   "outputs": [],
   "source": [
    "# Seperate features from label\n",
    "\n",
    "X = df_factorized.loc[:,['danceability', 'energy', 'key', 'loudness', 'mode', 'speechiness',\n",
    "       'acousticness', 'instrumentalness', 'liveness', 'valence', 'tempo','year','spotify_artists']]\n",
    "\n",
    "y = df_factorized['success']"
   ]
  },
  {
   "cell_type": "code",
   "execution_count": 36,
   "id": "cordless-prairie",
   "metadata": {},
   "outputs": [],
   "source": [
    "#Split data into 3: 80% train,20% test\n",
    "X_train, X_test, y_train, y_test = train_test_split(X, y, test_size=0.2, stratify=y)"
   ]
  },
  {
   "cell_type": "code",
   "execution_count": 37,
   "id": "million-printing",
   "metadata": {},
   "outputs": [],
   "source": [
    "model = BalancedRandomForestClassifier(n_estimators=10)"
   ]
  },
  {
   "cell_type": "code",
   "execution_count": 38,
   "id": "suspected-people",
   "metadata": {},
   "outputs": [],
   "source": [
    "# run model\n",
    "model.fit(X_train, y_train)\n",
    "y_predict = model.predict(X_test)"
   ]
  },
  {
   "cell_type": "code",
   "execution_count": 39,
   "id": "cosmetic-diving",
   "metadata": {},
   "outputs": [
    {
     "name": "stdout",
     "output_type": "stream",
     "text": [
      "Train Scores\n",
      "Accuracy score:  94.19%\n"
     ]
    }
   ],
   "source": [
    "Classes.train_scores(model,X_train, y_train)"
   ]
  },
  {
   "cell_type": "code",
   "execution_count": 40,
   "id": "dangerous-netscape",
   "metadata": {},
   "outputs": [
    {
     "name": "stdout",
     "output_type": "stream",
     "text": [
      "Test Scores\n",
      "Score:  94.01%\n",
      "F1 score:  80.17%\n",
      "Precision:  67.88%,  Test Recall:  97.89%\n"
     ]
    }
   ],
   "source": [
    "Classes.test_scores(y_test,y_predict)"
   ]
  },
  {
   "cell_type": "code",
   "execution_count": 47,
   "id": "previous-preliminary",
   "metadata": {},
   "outputs": [
    {
     "data": {
      "text/plain": [
       "Text(93.77777777777786, 0.5, 'actual')"
      ]
     },
     "execution_count": 47,
     "metadata": {},
     "output_type": "execute_result"
    },
    {
     "data": {
      "image/png": "[encoded data removed]",
      "text/plain": [
       "<Figure size 480x320 with 2 Axes>"
      ]
     },
     "metadata": {
      "needs_background": "light"
     },
     "output_type": "display_data"
    }
   ],
   "source": [
    "# Plot confusion matrix\n",
    "success_confusion = confusion_matrix(y_test, y_predict)\n",
    "plt.figure(dpi=80)\n",
    "sns.heatmap(success_confusion, cmap=plt.cm.Blues, annot=True, square=True, fmt='d',\n",
    "        xticklabels=['not a success', 'success'],\n",
    "        yticklabels=['not a success', 'success']);\n",
    "plt.xlabel('prediction')\n",
    "plt.ylabel('actual')"
   ]
  },
  {
   "cell_type": "code",
   "execution_count": 48,
   "id": "buried-vinyl",
   "metadata": {},
   "outputs": [],
   "source": [
    "feature_importances = pd.DataFrame(model.feature_importances_,\n",
    "                                   index = X_train.columns,\n",
    "                                    columns=['importance']).sort_values('importance', ascending=False)"
   ]
  },
  {
   "cell_type": "code",
   "execution_count": 49,
   "id": "gothic-living",
   "metadata": {},
   "outputs": [
    {
     "data": {
      "text/html": [
       "<div>\n",
       "<style scoped>\n",
       "    .dataframe tbody tr th:only-of-type {\n",
       "        vertical-align: middle;\n",
       "    }\n",
       "\n",
       "    .dataframe tbody tr th {\n",
       "        vertical-align: top;\n",
       "    }\n",
       "\n",
       "    .dataframe thead th {\n",
       "        text-align: right;\n",
       "    }\n",
       "</style>\n",
       "<table border=\"1\" class=\"dataframe\">\n",
       "  <thead>\n",
       "    <tr style=\"text-align: right;\">\n",
       "      <th></th>\n",
       "      <th>importance</th>\n",
       "    </tr>\n",
       "  </thead>\n",
       "  <tbody>\n",
       "    <tr>\n",
       "      <th>spotify_artists</th>\n",
       "      <td>0.600176</td>\n",
       "    </tr>\n",
       "    <tr>\n",
       "      <th>year</th>\n",
       "      <td>0.181952</td>\n",
       "    </tr>\n",
       "    <tr>\n",
       "      <th>danceability</th>\n",
       "      <td>0.032358</td>\n",
       "    </tr>\n",
       "    <tr>\n",
       "      <th>acousticness</th>\n",
       "      <td>0.027420</td>\n",
       "    </tr>\n",
       "    <tr>\n",
       "      <th>liveness</th>\n",
       "      <td>0.025121</td>\n",
       "    </tr>\n",
       "    <tr>\n",
       "      <th>speechiness</th>\n",
       "      <td>0.024282</td>\n",
       "    </tr>\n",
       "    <tr>\n",
       "      <th>valence</th>\n",
       "      <td>0.023688</td>\n",
       "    </tr>\n",
       "    <tr>\n",
       "      <th>energy</th>\n",
       "      <td>0.022499</td>\n",
       "    </tr>\n",
       "    <tr>\n",
       "      <th>loudness</th>\n",
       "      <td>0.017514</td>\n",
       "    </tr>\n",
       "    <tr>\n",
       "      <th>instrumentalness</th>\n",
       "      <td>0.016586</td>\n",
       "    </tr>\n",
       "    <tr>\n",
       "      <th>tempo</th>\n",
       "      <td>0.013442</td>\n",
       "    </tr>\n",
       "    <tr>\n",
       "      <th>key</th>\n",
       "      <td>0.011929</td>\n",
       "    </tr>\n",
       "    <tr>\n",
       "      <th>mode</th>\n",
       "      <td>0.003034</td>\n",
       "    </tr>\n",
       "  </tbody>\n",
       "</table>\n",
       "</div>"
      ],
      "text/plain": [
       "                  importance\n",
       "spotify_artists     0.600176\n",
       "year                0.181952\n",
       "danceability        0.032358\n",
       "acousticness        0.027420\n",
       "liveness            0.025121\n",
       "speechiness         0.024282\n",
       "valence             0.023688\n",
       "energy              0.022499\n",
       "loudness            0.017514\n",
       "instrumentalness    0.016586\n",
       "tempo               0.013442\n",
       "key                 0.011929\n",
       "mode                0.003034"
      ]
     },
     "execution_count": 49,
     "metadata": {},
     "output_type": "execute_result"
    }
   ],
   "source": [
    "feature_importances"
   ]
  },
  {
   "cell_type": "markdown",
   "id": "south-microwave",
   "metadata": {},
   "source": [
    "### Save feature importance as a csv"
   ]
  },
  {
   "cell_type": "code",
   "execution_count": 52,
   "id": "likely-turkey",
   "metadata": {},
   "outputs": [],
   "source": [
    "# Designate path\n",
    "\n",
    "path='C:\\\\Users\\\\Andrew\\\\Documents\\\\Metis\\\\TikTok_Hit_Predictor\\\\Pickle\\\\'\n",
    "\n",
    "feature_importances.to_csv(os.path.join(path,r'brfc_feature_importance.csv'))"
   ]
  },
  {
   "cell_type": "markdown",
   "id": "spiritual-spare",
   "metadata": {},
   "source": [
    "### Pickle Model"
   ]
  },
  {
   "cell_type": "code",
   "execution_count": 50,
   "id": "sunrise-cleaning",
   "metadata": {},
   "outputs": [],
   "source": [
    "# Pickle the model\n",
    "\n",
    "# Pickle model\n",
    "path = r\"C:\\Users\\Andrew\\Documents\\Metis\\TikTok_Hit_Predictor\\Pickle\\brfc_model.pkl\"\n",
    "pickle.dump(model, open(path, 'wb'))"
   ]
  },
  {
   "cell_type": "markdown",
   "id": "executed-train",
   "metadata": {},
   "source": [
    "# 2B) Balanced Random Forest Classifier - no artists"
   ]
  },
  {
   "cell_type": "code",
   "execution_count": 6,
   "id": "fewer-remainder",
   "metadata": {},
   "outputs": [],
   "source": [
    "# Seperate features from label\n",
    "\n",
    "X = df_factorized.loc[:,['danceability', 'energy', 'key', 'loudness', 'mode', 'speechiness',\n",
    "       'acousticness', 'instrumentalness', 'liveness', 'valence', 'tempo','year']]\n",
    "\n",
    "y = df_factorized['success']"
   ]
  },
  {
   "cell_type": "code",
   "execution_count": 7,
   "id": "outdoor-sailing",
   "metadata": {},
   "outputs": [],
   "source": [
    "#Split data into 3: 80% train,20% test\n",
    "X_train, X_test, y_train, y_test = train_test_split(X, y, test_size=0.2, stratify=y)"
   ]
  },
  {
   "cell_type": "code",
   "execution_count": 8,
   "id": "inside-mauritius",
   "metadata": {},
   "outputs": [],
   "source": [
    "model = BalancedRandomForestClassifier(n_estimators=10)"
   ]
  },
  {
   "cell_type": "code",
   "execution_count": 9,
   "id": "crucial-darwin",
   "metadata": {},
   "outputs": [],
   "source": [
    "# run model\n",
    "model.fit(X_train, y_train)\n",
    "y_predict = model.predict(X_test)"
   ]
  },
  {
   "cell_type": "code",
   "execution_count": 10,
   "id": "french-palestine",
   "metadata": {},
   "outputs": [
    {
     "name": "stdout",
     "output_type": "stream",
     "text": [
      "Train Scores\n",
      "Accuracy score:  75.94%\n"
     ]
    }
   ],
   "source": [
    "Classes.train_scores(model,X_train, y_train)"
   ]
  },
  {
   "cell_type": "code",
   "execution_count": 11,
   "id": "current-mattress",
   "metadata": {},
   "outputs": [
    {
     "name": "stdout",
     "output_type": "stream",
     "text": [
      "Test Scores\n",
      "Score:  66.45%\n",
      "F1 score:  33.03%\n",
      "Precision:  21.93%,  Test Recall:  66.84%\n"
     ]
    }
   ],
   "source": [
    "Classes.test_scores(y_test,y_predict)"
   ]
  },
  {
   "cell_type": "markdown",
   "id": "minus-riding",
   "metadata": {},
   "source": [
    "I don't like how the BRFC with artists depends so much on artists and essentiall excludes all other features.  However, without Artists's model performance suffers significantly"
   ]
  },
  {
   "cell_type": "markdown",
   "id": "monetary-expense",
   "metadata": {},
   "source": [
    "# 3) Balanced Bagging Classifier"
   ]
  },
  {
   "cell_type": "code",
   "execution_count": 29,
   "id": "electric-serve",
   "metadata": {},
   "outputs": [],
   "source": [
    "# Seperate features from label\n",
    "\n",
    "X = df_factorized.loc[:,['danceability', 'energy', 'key', 'loudness', 'mode', 'speechiness',\n",
    "       'acousticness', 'instrumentalness', 'liveness', 'valence', 'tempo','year','spotify_artists']]\n",
    "\n",
    "y = df_factorized['success']"
   ]
  },
  {
   "cell_type": "code",
   "execution_count": 30,
   "id": "artistic-software",
   "metadata": {},
   "outputs": [],
   "source": [
    "#Split data into 3: 60% train, 20% validation, 20% test\n",
    "X_train, X_test, y_train, y_test = train_test_split(X, y, test_size=0.2, stratify=y)"
   ]
  },
  {
   "cell_type": "code",
   "execution_count": 31,
   "id": "expected-secret",
   "metadata": {},
   "outputs": [],
   "source": [
    "# define model\n",
    "model = BalancedBaggingClassifier()"
   ]
  },
  {
   "cell_type": "code",
   "execution_count": 32,
   "id": "reverse-adaptation",
   "metadata": {},
   "outputs": [],
   "source": [
    "# run model\n",
    "model.fit(X_train, y_train)\n",
    "y_predict = model.predict(X_test)"
   ]
  },
  {
   "cell_type": "code",
   "execution_count": 33,
   "id": "christian-ancient",
   "metadata": {},
   "outputs": [
    {
     "name": "stdout",
     "output_type": "stream",
     "text": [
      "Train Scores\n",
      "Accuracy score:  94.79%\n"
     ]
    }
   ],
   "source": [
    "Classes.train_scores(model,X_train, y_train)"
   ]
  },
  {
   "cell_type": "code",
   "execution_count": 34,
   "id": "skilled-stereo",
   "metadata": {},
   "outputs": [
    {
     "name": "stdout",
     "output_type": "stream",
     "text": [
      "Test Scores\n",
      "Score:  92.96%\n",
      "F1 score:  77.59%\n",
      "Precision:  64.04%,  Test Recall:  98.42%\n"
     ]
    }
   ],
   "source": [
    "Classes.test_scores(y_test,y_predict)"
   ]
  }
 ],
 "metadata": {
  "kernelspec": {
   "display_name": "Python 3",
   "language": "python",
   "name": "python3"
  },
  "language_info": {
   "codemirror_mode": {
    "name": "ipython",
    "version": 3
   },
   "file_extension": ".py",
   "mimetype": "text/x-python",
   "name": "python",
   "nbconvert_exporter": "python",
   "pygments_lexer": "ipython3",
   "version": "3.8.8"
  }
 },
 "nbformat": 4,
 "nbformat_minor": 5
}
