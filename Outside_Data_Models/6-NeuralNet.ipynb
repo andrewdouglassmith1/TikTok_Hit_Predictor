{
 "cells": [
  {
   "cell_type": "markdown",
   "id": "stunning-minneapolis",
   "metadata": {},
   "source": [
    "# Notebook\n",
    "In this notebook I train a Neural Net"
   ]
  },
  {
   "cell_type": "code",
   "execution_count": 1,
   "id": "executive-pharmaceutical",
   "metadata": {},
   "outputs": [],
   "source": [
    "import autoreload\n",
    "%load_ext autoreload\n",
    "%autoreload 2\n",
    "%reload_ext autoreload\n",
    "import Classes"
   ]
  },
  {
   "cell_type": "code",
   "execution_count": 2,
   "id": "conscious-documentation",
   "metadata": {},
   "outputs": [],
   "source": [
    "import tensorflow as tf\n",
    "from tensorflow import keras\n",
    "from tensorflow.keras import layers\n",
    "\n",
    "from sklearn.preprocessing import StandardScaler\n",
    "from sklearn.model_selection import train_test_split\n",
    "\n",
    "import matplotlib.pyplot as plt"
   ]
  },
  {
   "cell_type": "code",
   "execution_count": 3,
   "id": "desirable-drunk",
   "metadata": {},
   "outputs": [],
   "source": [
    "import pickle\n",
    "import pandas as pd\n",
    "from sklearn.model_selection import train_test_split\n",
    "import numpy as np\n",
    "from sklearn.metrics import precision_score, recall_score, precision_recall_curve,f1_score, fbeta_score, accuracy_score\n",
    "from collections import Counter\n",
    "from imblearn.over_sampling import ADASYN"
   ]
  },
  {
   "cell_type": "markdown",
   "id": "falling-munich",
   "metadata": {},
   "source": [
    "# Pickle in Data"
   ]
  },
  {
   "cell_type": "code",
   "execution_count": 4,
   "id": "beginning-priest",
   "metadata": {},
   "outputs": [
    {
     "data": {
      "text/html": [
       "<div>\n",
       "<style scoped>\n",
       "    .dataframe tbody tr th:only-of-type {\n",
       "        vertical-align: middle;\n",
       "    }\n",
       "\n",
       "    .dataframe tbody tr th {\n",
       "        vertical-align: top;\n",
       "    }\n",
       "\n",
       "    .dataframe thead th {\n",
       "        text-align: right;\n",
       "    }\n",
       "</style>\n",
       "<table border=\"1\" class=\"dataframe\">\n",
       "  <thead>\n",
       "    <tr style=\"text-align: right;\">\n",
       "      <th></th>\n",
       "      <th>level_0</th>\n",
       "      <th>danceability</th>\n",
       "      <th>energy</th>\n",
       "      <th>key</th>\n",
       "      <th>loudness</th>\n",
       "      <th>mode</th>\n",
       "      <th>speechiness</th>\n",
       "      <th>acousticness</th>\n",
       "      <th>instrumentalness</th>\n",
       "      <th>liveness</th>\n",
       "      <th>...</th>\n",
       "      <th>TikTok Link</th>\n",
       "      <th>Release Date</th>\n",
       "      <th>Position Change</th>\n",
       "      <th>spotify_uri</th>\n",
       "      <th>audio_analysis</th>\n",
       "      <th>feature_analysis</th>\n",
       "      <th>success</th>\n",
       "      <th>year</th>\n",
       "      <th>top_albums</th>\n",
       "      <th>top_artists</th>\n",
       "    </tr>\n",
       "  </thead>\n",
       "  <tbody>\n",
       "    <tr>\n",
       "      <th>0</th>\n",
       "      <td>0</td>\n",
       "      <td>0.880</td>\n",
       "      <td>0.501</td>\n",
       "      <td>2.0</td>\n",
       "      <td>-6.774</td>\n",
       "      <td>1.0</td>\n",
       "      <td>0.062</td>\n",
       "      <td>0.0494</td>\n",
       "      <td>0.0695</td>\n",
       "      <td>0.4360</td>\n",
       "      <td>...</td>\n",
       "      <td>https://www.tiktok.com/music/All-TikTok-Mashup...</td>\n",
       "      <td>2020-08-17</td>\n",
       "      <td>23.0</td>\n",
       "      <td>5TpvLkESnw1g9wDz52efeO</td>\n",
       "      <td>{'meta': {'analyzer_version': '4.0.0', 'platfo...</td>\n",
       "      <td>{'danceability': 0.88, 'energy': 0.501, 'key':...</td>\n",
       "      <td>1</td>\n",
       "      <td>2020.0</td>\n",
       "      <td>Other</td>\n",
       "      <td>Other</td>\n",
       "    </tr>\n",
       "    <tr>\n",
       "      <th>1</th>\n",
       "      <td>162</td>\n",
       "      <td>0.935</td>\n",
       "      <td>0.454</td>\n",
       "      <td>1.0</td>\n",
       "      <td>-7.509</td>\n",
       "      <td>1.0</td>\n",
       "      <td>0.375</td>\n",
       "      <td>0.0194</td>\n",
       "      <td>0.0000</td>\n",
       "      <td>0.0824</td>\n",
       "      <td>...</td>\n",
       "      <td>https://www.tiktok.com/music/WAP-Megan-Thee-St...</td>\n",
       "      <td>2018-03-22</td>\n",
       "      <td>15.0</td>\n",
       "      <td>4Oun2ylbjFKMPTiaSbbCih</td>\n",
       "      <td>{'meta': {'analyzer_version': '4.0.0', 'platfo...</td>\n",
       "      <td>{'danceability': 0.935, 'energy': 0.454, 'key'...</td>\n",
       "      <td>1</td>\n",
       "      <td>2018.0</td>\n",
       "      <td>Other</td>\n",
       "      <td>Cardi B</td>\n",
       "    </tr>\n",
       "  </tbody>\n",
       "</table>\n",
       "<p>2 rows × 45 columns</p>\n",
       "</div>"
      ],
      "text/plain": [
       "   level_0  danceability  energy  key  loudness  mode  speechiness  \\\n",
       "0        0         0.880   0.501  2.0    -6.774   1.0        0.062   \n",
       "1      162         0.935   0.454  1.0    -7.509   1.0        0.375   \n",
       "\n",
       "   acousticness  instrumentalness  liveness  ...  \\\n",
       "0        0.0494            0.0695    0.4360  ...   \n",
       "1        0.0194            0.0000    0.0824  ...   \n",
       "\n",
       "                                         TikTok Link  Release Date  \\\n",
       "0  https://www.tiktok.com/music/All-TikTok-Mashup...    2020-08-17   \n",
       "1  https://www.tiktok.com/music/WAP-Megan-Thee-St...    2018-03-22   \n",
       "\n",
       "  Position Change             spotify_uri  \\\n",
       "0            23.0  5TpvLkESnw1g9wDz52efeO   \n",
       "1            15.0  4Oun2ylbjFKMPTiaSbbCih   \n",
       "\n",
       "                                      audio_analysis  \\\n",
       "0  {'meta': {'analyzer_version': '4.0.0', 'platfo...   \n",
       "1  {'meta': {'analyzer_version': '4.0.0', 'platfo...   \n",
       "\n",
       "                                    feature_analysis success    year  \\\n",
       "0  {'danceability': 0.88, 'energy': 0.501, 'key':...       1  2020.0   \n",
       "1  {'danceability': 0.935, 'energy': 0.454, 'key'...       1  2018.0   \n",
       "\n",
       "   top_albums top_artists  \n",
       "0       Other       Other  \n",
       "1       Other     Cardi B  \n",
       "\n",
       "[2 rows x 45 columns]"
      ]
     },
     "execution_count": 4,
     "metadata": {},
     "output_type": "execute_result"
    }
   ],
   "source": [
    "# Pickle in cleaned dataframe\n",
    "\n",
    "# Designate path\n",
    "\n",
    "path = r\"C:\\Users\\Andrew\\Documents\\Metis\\TikTok_Song_Predictor\\Pickle\\df_agg.pkl\"\n",
    "\n",
    "df = pickle.load(open(path,'rb'))\n",
    "df.head(2)"
   ]
  },
  {
   "cell_type": "markdown",
   "id": "drawn-republic",
   "metadata": {},
   "source": [
    "# 2) Model - class imbalance (directly altering class weight)"
   ]
  },
  {
   "cell_type": "code",
   "execution_count": 16,
   "id": "atmospheric-alias",
   "metadata": {},
   "outputs": [],
   "source": [
    "# Seperate features from label\n",
    "\n",
    "X = df.loc[:,['danceability', 'energy', 'key', 'loudness', 'mode', 'speechiness',\n",
    "       'acousticness', 'instrumentalness', 'liveness', 'valence', 'tempo',\n",
    "       'time_signature', 'year']]\n",
    "\n",
    "y = df['success']"
   ]
  },
  {
   "cell_type": "code",
   "execution_count": 17,
   "id": "stuffed-romance",
   "metadata": {},
   "outputs": [],
   "source": [
    "#Split data into 3: 60% train, 20% validation, 20% test\n",
    "X_train, X_test, y_train, y_test = train_test_split(X, y, test_size=0.2, stratify=y)"
   ]
  },
  {
   "cell_type": "code",
   "execution_count": 18,
   "id": "checked-binary",
   "metadata": {},
   "outputs": [],
   "source": [
    "# Scale data\n",
    "\n",
    "ss = StandardScaler()\n",
    "\n",
    "x_train_scaled = ss.fit_transform(X_train)\n",
    "\n",
    "x_test_scaled = ss.transform(X_test)"
   ]
  },
  {
   "cell_type": "code",
   "execution_count": 19,
   "id": "academic-ceramic",
   "metadata": {},
   "outputs": [
    {
     "name": "stdout",
     "output_type": "stream",
     "text": [
      "Number of positive samples in training data: 758 (12.35% of total)\n"
     ]
    }
   ],
   "source": [
    "# Analyze imbalance\n",
    "counts = Counter(y_train)\n",
    "print(\n",
    "    \"Number of positive samples in training data: {} ({:.2f}% of total)\".format(\n",
    "        counts[1], 100 * float(counts[1]) / len(y_train)\n",
    "    )\n",
    ")\n",
    "\n",
    "weight_for_0 = 1.0 / counts[0]\n",
    "weight_for_1 = 1.0 / counts[1]"
   ]
  },
  {
   "cell_type": "code",
   "execution_count": 20,
   "id": "breathing-tooth",
   "metadata": {},
   "outputs": [],
   "source": [
    "# Our vectorized labels\n",
    "#y_train = np.asarray(y_train).astype('float32').reshape((-1,1))\n",
    "#y_test = np.asarray(y_test).astype('float32').reshape((-1,1))"
   ]
  },
  {
   "cell_type": "code",
   "execution_count": 21,
   "id": "accessible-dayton",
   "metadata": {},
   "outputs": [],
   "source": [
    "# Define metrics\n",
    "metrics = [\n",
    "    keras.metrics.FalseNegatives(name=\"fn\"),\n",
    "    keras.metrics.FalsePositives(name=\"fp\"),\n",
    "    keras.metrics.TrueNegatives(name=\"tn\"),\n",
    "    keras.metrics.TruePositives(name=\"tp\"),\n",
    "    keras.metrics.Precision(name=\"precision\"),\n",
    "    keras.metrics.Recall(name=\"recall\"),\n",
    "]"
   ]
  },
  {
   "cell_type": "code",
   "execution_count": 22,
   "id": "latest-cabinet",
   "metadata": {},
   "outputs": [
    {
     "name": "stdout",
     "output_type": "stream",
     "text": [
      "Model: \"sequential_1\"\n",
      "_________________________________________________________________\n",
      "Layer (type)                 Output Shape              Param #   \n",
      "=================================================================\n",
      "dense_3 (Dense)              (None, 100)               1400      \n",
      "_________________________________________________________________\n",
      "dense_4 (Dense)              (None, 50)                5050      \n",
      "_________________________________________________________________\n",
      "dense_5 (Dense)              (None, 1)                 51        \n",
      "=================================================================\n",
      "Total params: 6,501\n",
      "Trainable params: 6,501\n",
      "Non-trainable params: 0\n",
      "_________________________________________________________________\n"
     ]
    }
   ],
   "source": [
    "model = keras.Sequential()\n",
    "model.add(layers.InputLayer(input_shape=(13,)))\n",
    "model.add(layers.Dense(100, activation='relu'))\n",
    "model.add(layers.Dense(50, activation='relu'))\n",
    "model.add(layers.Dense(1, activation='sigmoid'))\n",
    "model.summary()"
   ]
  },
  {
   "cell_type": "code",
   "execution_count": 23,
   "id": "indirect-portrait",
   "metadata": {},
   "outputs": [],
   "source": [
    "# Compile\n",
    "model.compile(\n",
    "    optimizer='adam', loss=\"binary_crossentropy\", metrics=metrics\n",
    ")"
   ]
  },
  {
   "cell_type": "code",
   "execution_count": 24,
   "id": "interior-prisoner",
   "metadata": {},
   "outputs": [],
   "source": [
    "callbacks = [keras.callbacks.ModelCheckpoint(\"models/song_model_at_epoch_{epoch}.h5\")]\n",
    "class_weight = {0: weight_for_0, 1: weight_for_1}"
   ]
  },
  {
   "cell_type": "code",
   "execution_count": 25,
   "id": "revolutionary-netherlands",
   "metadata": {},
   "outputs": [
    {
     "name": "stdout",
     "output_type": "stream",
     "text": [
      "Epoch 1/30\n",
      "154/154 - 2s - loss: 1.9356e-04 - fn: 144.0000 - fp: 1703.0000 - tn: 2609.0000 - tp: 456.0000 - precision: 0.2112 - recall: 0.7600 - val_loss: 0.5491 - val_fn: 10.0000 - val_fp: 488.0000 - val_tn: 582.0000 - val_tp: 148.0000 - val_precision: 0.2327 - val_recall: 0.9367\n",
      "Epoch 2/30\n",
      "154/154 - 0s - loss: 1.6740e-04 - fn: 48.0000 - fp: 1968.0000 - tn: 2344.0000 - tp: 552.0000 - precision: 0.2190 - recall: 0.9200 - val_loss: 0.6454 - val_fn: 5.0000 - val_fp: 560.0000 - val_tn: 510.0000 - val_tp: 153.0000 - val_precision: 0.2146 - val_recall: 0.9684\n",
      "Epoch 3/30\n",
      "154/154 - 0s - loss: 1.6527e-04 - fn: 46.0000 - fp: 1995.0000 - tn: 2317.0000 - tp: 554.0000 - precision: 0.2173 - recall: 0.9233 - val_loss: 0.5703 - val_fn: 7.0000 - val_fp: 511.0000 - val_tn: 559.0000 - val_tp: 151.0000 - val_precision: 0.2281 - val_recall: 0.9557\n",
      "Epoch 4/30\n",
      "154/154 - 0s - loss: 1.6257e-04 - fn: 59.0000 - fp: 1909.0000 - tn: 2403.0000 - tp: 541.0000 - precision: 0.2208 - recall: 0.9017 - val_loss: 0.5867 - val_fn: 5.0000 - val_fp: 531.0000 - val_tn: 539.0000 - val_tp: 153.0000 - val_precision: 0.2237 - val_recall: 0.9684\n",
      "Epoch 5/30\n",
      "154/154 - 0s - loss: 1.6057e-04 - fn: 33.0000 - fp: 1973.0000 - tn: 2339.0000 - tp: 567.0000 - precision: 0.2232 - recall: 0.9450 - val_loss: 0.5302 - val_fn: 25.0000 - val_fp: 448.0000 - val_tn: 622.0000 - val_tp: 133.0000 - val_precision: 0.2289 - val_recall: 0.8418\n",
      "Epoch 6/30\n",
      "154/154 - 0s - loss: 1.6014e-04 - fn: 50.0000 - fp: 1837.0000 - tn: 2475.0000 - tp: 550.0000 - precision: 0.2304 - recall: 0.9167 - val_loss: 0.5982 - val_fn: 6.0000 - val_fp: 545.0000 - val_tn: 525.0000 - val_tp: 152.0000 - val_precision: 0.2181 - val_recall: 0.9620\n",
      "Epoch 7/30\n",
      "154/154 - 0s - loss: 1.5904e-04 - fn: 40.0000 - fp: 1903.0000 - tn: 2409.0000 - tp: 560.0000 - precision: 0.2274 - recall: 0.9333 - val_loss: 0.5609 - val_fn: 14.0000 - val_fp: 504.0000 - val_tn: 566.0000 - val_tp: 144.0000 - val_precision: 0.2222 - val_recall: 0.9114\n",
      "Epoch 8/30\n",
      "154/154 - 0s - loss: 1.5741e-04 - fn: 47.0000 - fp: 1866.0000 - tn: 2446.0000 - tp: 553.0000 - precision: 0.2286 - recall: 0.9217 - val_loss: 0.5175 - val_fn: 29.0000 - val_fp: 446.0000 - val_tn: 624.0000 - val_tp: 129.0000 - val_precision: 0.2243 - val_recall: 0.8165\n",
      "Epoch 9/30\n",
      "154/154 - 0s - loss: 1.5628e-04 - fn: 50.0000 - fp: 1782.0000 - tn: 2530.0000 - tp: 550.0000 - precision: 0.2358 - recall: 0.9167 - val_loss: 0.5357 - val_fn: 16.0000 - val_fp: 482.0000 - val_tn: 588.0000 - val_tp: 142.0000 - val_precision: 0.2276 - val_recall: 0.8987\n",
      "Epoch 10/30\n",
      "154/154 - 0s - loss: 1.5477e-04 - fn: 39.0000 - fp: 1853.0000 - tn: 2459.0000 - tp: 561.0000 - precision: 0.2324 - recall: 0.9350 - val_loss: 0.5810 - val_fn: 19.0000 - val_fp: 480.0000 - val_tn: 590.0000 - val_tp: 139.0000 - val_precision: 0.2246 - val_recall: 0.8797\n",
      "Epoch 11/30\n",
      "154/154 - 0s - loss: 1.5438e-04 - fn: 47.0000 - fp: 1757.0000 - tn: 2555.0000 - tp: 553.0000 - precision: 0.2394 - recall: 0.9217 - val_loss: 0.5518 - val_fn: 26.0000 - val_fp: 458.0000 - val_tn: 612.0000 - val_tp: 132.0000 - val_precision: 0.2237 - val_recall: 0.8354\n",
      "Epoch 12/30\n",
      "154/154 - 0s - loss: 1.5297e-04 - fn: 32.0000 - fp: 1771.0000 - tn: 2541.0000 - tp: 568.0000 - precision: 0.2428 - recall: 0.9467 - val_loss: 0.5982 - val_fn: 16.0000 - val_fp: 504.0000 - val_tn: 566.0000 - val_tp: 142.0000 - val_precision: 0.2198 - val_recall: 0.8987\n",
      "Epoch 13/30\n",
      "154/154 - 0s - loss: 1.5194e-04 - fn: 45.0000 - fp: 1747.0000 - tn: 2565.0000 - tp: 555.0000 - precision: 0.2411 - recall: 0.9250 - val_loss: 0.5636 - val_fn: 28.0000 - val_fp: 461.0000 - val_tn: 609.0000 - val_tp: 130.0000 - val_precision: 0.2200 - val_recall: 0.8228\n",
      "Epoch 14/30\n",
      "154/154 - 0s - loss: 1.5063e-04 - fn: 48.0000 - fp: 1696.0000 - tn: 2616.0000 - tp: 552.0000 - precision: 0.2456 - recall: 0.9200 - val_loss: 0.5799 - val_fn: 21.0000 - val_fp: 477.0000 - val_tn: 593.0000 - val_tp: 137.0000 - val_precision: 0.2231 - val_recall: 0.8671\n",
      "Epoch 15/30\n",
      "154/154 - 0s - loss: 1.4975e-04 - fn: 38.0000 - fp: 1741.0000 - tn: 2571.0000 - tp: 562.0000 - precision: 0.2440 - recall: 0.9367 - val_loss: 0.5690 - val_fn: 24.0000 - val_fp: 447.0000 - val_tn: 623.0000 - val_tp: 134.0000 - val_precision: 0.2306 - val_recall: 0.8481\n",
      "Epoch 16/30\n",
      "154/154 - 0s - loss: 1.4796e-04 - fn: 48.0000 - fp: 1678.0000 - tn: 2634.0000 - tp: 552.0000 - precision: 0.2475 - recall: 0.9200 - val_loss: 0.5088 - val_fn: 39.0000 - val_fp: 413.0000 - val_tn: 657.0000 - val_tp: 119.0000 - val_precision: 0.2237 - val_recall: 0.7532\n",
      "Epoch 17/30\n",
      "154/154 - 0s - loss: 1.4567e-04 - fn: 35.0000 - fp: 1642.0000 - tn: 2670.0000 - tp: 565.0000 - precision: 0.2560 - recall: 0.9417 - val_loss: 0.5075 - val_fn: 45.0000 - val_fp: 393.0000 - val_tn: 677.0000 - val_tp: 113.0000 - val_precision: 0.2233 - val_recall: 0.7152\n",
      "Epoch 18/30\n",
      "154/154 - 0s - loss: 1.4548e-04 - fn: 51.0000 - fp: 1532.0000 - tn: 2780.0000 - tp: 549.0000 - precision: 0.2638 - recall: 0.9150 - val_loss: 0.6071 - val_fn: 24.0000 - val_fp: 480.0000 - val_tn: 590.0000 - val_tp: 134.0000 - val_precision: 0.2182 - val_recall: 0.8481\n",
      "Epoch 19/30\n",
      "154/154 - 0s - loss: 1.4309e-04 - fn: 45.0000 - fp: 1562.0000 - tn: 2750.0000 - tp: 555.0000 - precision: 0.2622 - recall: 0.9250 - val_loss: 0.5750 - val_fn: 29.0000 - val_fp: 459.0000 - val_tn: 611.0000 - val_tp: 129.0000 - val_precision: 0.2194 - val_recall: 0.8165\n",
      "Epoch 20/30\n",
      "154/154 - 0s - loss: 1.4171e-04 - fn: 40.0000 - fp: 1549.0000 - tn: 2763.0000 - tp: 560.0000 - precision: 0.2655 - recall: 0.9333 - val_loss: 0.5986 - val_fn: 27.0000 - val_fp: 456.0000 - val_tn: 614.0000 - val_tp: 131.0000 - val_precision: 0.2232 - val_recall: 0.8291\n",
      "Epoch 21/30\n",
      "154/154 - 0s - loss: 1.4052e-04 - fn: 39.0000 - fp: 1531.0000 - tn: 2781.0000 - tp: 561.0000 - precision: 0.2682 - recall: 0.9350 - val_loss: 0.5190 - val_fn: 50.0000 - val_fp: 376.0000 - val_tn: 694.0000 - val_tp: 108.0000 - val_precision: 0.2231 - val_recall: 0.6835\n",
      "Epoch 22/30\n",
      "154/154 - 0s - loss: 1.3930e-04 - fn: 43.0000 - fp: 1493.0000 - tn: 2819.0000 - tp: 557.0000 - precision: 0.2717 - recall: 0.9283 - val_loss: 0.5082 - val_fn: 54.0000 - val_fp: 346.0000 - val_tn: 724.0000 - val_tp: 104.0000 - val_precision: 0.2311 - val_recall: 0.6582\n",
      "Epoch 23/30\n",
      "154/154 - 0s - loss: 1.3781e-04 - fn: 54.0000 - fp: 1387.0000 - tn: 2925.0000 - tp: 546.0000 - precision: 0.2825 - recall: 0.9100 - val_loss: 0.6166 - val_fn: 30.0000 - val_fp: 453.0000 - val_tn: 617.0000 - val_tp: 128.0000 - val_precision: 0.2203 - val_recall: 0.8101\n",
      "Epoch 24/30\n",
      "154/154 - 0s - loss: 1.3532e-04 - fn: 35.0000 - fp: 1414.0000 - tn: 2898.0000 - tp: 565.0000 - precision: 0.2855 - recall: 0.9417 - val_loss: 0.5431 - val_fn: 47.0000 - val_fp: 384.0000 - val_tn: 686.0000 - val_tp: 111.0000 - val_precision: 0.2242 - val_recall: 0.7025\n",
      "Epoch 25/30\n",
      "154/154 - 0s - loss: 1.3331e-04 - fn: 33.0000 - fp: 1371.0000 - tn: 2941.0000 - tp: 567.0000 - precision: 0.2926 - recall: 0.9450 - val_loss: 0.5245 - val_fn: 55.0000 - val_fp: 360.0000 - val_tn: 710.0000 - val_tp: 103.0000 - val_precision: 0.2225 - val_recall: 0.6519\n",
      "Epoch 26/30\n",
      "154/154 - 0s - loss: 1.3257e-04 - fn: 42.0000 - fp: 1334.0000 - tn: 2978.0000 - tp: 558.0000 - precision: 0.2949 - recall: 0.9300 - val_loss: 0.5814 - val_fn: 47.0000 - val_fp: 393.0000 - val_tn: 677.0000 - val_tp: 111.0000 - val_precision: 0.2202 - val_recall: 0.7025\n",
      "Epoch 27/30\n",
      "154/154 - 0s - loss: 1.3193e-04 - fn: 49.0000 - fp: 1331.0000 - tn: 2981.0000 - tp: 551.0000 - precision: 0.2928 - recall: 0.9183 - val_loss: 0.5441 - val_fn: 55.0000 - val_fp: 361.0000 - val_tn: 709.0000 - val_tp: 103.0000 - val_precision: 0.2220 - val_recall: 0.6519\n",
      "Epoch 28/30\n",
      "154/154 - 0s - loss: 1.2888e-04 - fn: 37.0000 - fp: 1286.0000 - tn: 3026.0000 - tp: 563.0000 - precision: 0.3045 - recall: 0.9383 - val_loss: 0.5407 - val_fn: 59.0000 - val_fp: 367.0000 - val_tn: 703.0000 - val_tp: 99.0000 - val_precision: 0.2124 - val_recall: 0.6266\n",
      "Epoch 29/30\n",
      "154/154 - 0s - loss: 1.2732e-04 - fn: 34.0000 - fp: 1244.0000 - tn: 3068.0000 - tp: 566.0000 - precision: 0.3127 - recall: 0.9433 - val_loss: 0.6402 - val_fn: 39.0000 - val_fp: 448.0000 - val_tn: 622.0000 - val_tp: 119.0000 - val_precision: 0.2099 - val_recall: 0.7532\n",
      "Epoch 30/30\n",
      "154/154 - 0s - loss: 1.2668e-04 - fn: 39.0000 - fp: 1249.0000 - tn: 3063.0000 - tp: 561.0000 - precision: 0.3099 - recall: 0.9350 - val_loss: 0.5963 - val_fn: 55.0000 - val_fp: 401.0000 - val_tn: 669.0000 - val_tp: 103.0000 - val_precision: 0.2044 - val_recall: 0.6519\n"
     ]
    }
   ],
   "source": [
    "# Fit on training data\n",
    "\n",
    "history = model.fit(x_train_scaled, y_train,       \n",
    "                    epochs=30,             \n",
    "                    validation_split=.2,\n",
    "                    verbose=2,\n",
    "                    callbacks=callbacks,\n",
    "                    class_weight = class_weight,\n",
    "                   )"
   ]
  },
  {
   "cell_type": "code",
   "execution_count": 26,
   "id": "passive-retirement",
   "metadata": {},
   "outputs": [
    {
     "name": "stderr",
     "output_type": "stream",
     "text": [
      "C:\\Users\\Andrew\\AppData\\Roaming\\Python\\Python38\\site-packages\\tensorflow\\python\\keras\\engine\\sequential.py:450: UserWarning: `model.predict_classes()` is deprecated and will be removed after 2021-01-01. Please use instead:* `np.argmax(model.predict(x), axis=-1)`,   if your model does multi-class classification   (e.g. if it uses a `softmax` last-layer activation).* `(model.predict(x) > 0.5).astype(\"int32\")`,   if your model does binary classification   (e.g. if it uses a `sigmoid` last-layer activation).\n",
      "  warnings.warn('`model.predict_classes()` is deprecated and '\n"
     ]
    }
   ],
   "source": [
    "# Predict classes\n",
    "yhat_classes = model.predict_classes(X_test, verbose=0)"
   ]
  },
  {
   "cell_type": "code",
   "execution_count": 27,
   "id": "exotic-advisory",
   "metadata": {},
   "outputs": [
    {
     "name": "stdout",
     "output_type": "stream",
     "text": [
      "Accuracy: 0.523127\n",
      "Precision: 0.205435\n",
      "Recall: 0.994737\n",
      "F1 score: 0.340541\n"
     ]
    }
   ],
   "source": [
    "# accuracy: (tp + tn) / (p + n)\n",
    "accuracy = accuracy_score(y_test, yhat_classes)\n",
    "print('Accuracy: %f' % accuracy)\n",
    "# precision tp / (tp + fp)\n",
    "precision = precision_score(y_test, yhat_classes)\n",
    "print('Precision: %f' % precision)\n",
    "# recall: tp / (tp + fn)\n",
    "recall = recall_score(y_test, yhat_classes)\n",
    "print('Recall: %f' % recall)\n",
    "# f1: 2 tp / (2 tp + fp + fn)\n",
    "f1 = f1_score(y_test, yhat_classes)\n",
    "print('F1 score: %f' % f1)"
   ]
  },
  {
   "cell_type": "markdown",
   "id": "developing-budapest",
   "metadata": {},
   "source": [
    "# 3 ) Model - Oversampling"
   ]
  },
  {
   "cell_type": "code",
   "execution_count": 28,
   "id": "absolute-scholarship",
   "metadata": {},
   "outputs": [],
   "source": [
    "# Seperate features from label\n",
    "\n",
    "X = df.loc[:,['danceability', 'energy', 'key', 'loudness', 'mode', 'speechiness',\n",
    "       'acousticness', 'instrumentalness', 'liveness', 'valence', 'tempo',\n",
    "       'time_signature', 'year']]\n",
    "\n",
    "y = df['success']"
   ]
  },
  {
   "cell_type": "code",
   "execution_count": 29,
   "id": "historical-diameter",
   "metadata": {},
   "outputs": [],
   "source": [
    "#Split data into 3: 60% train, 20% validation, 20% test\n",
    "X_train, X_test, y_train, y_test = train_test_split(X, y, test_size=0.2, stratify=y)"
   ]
  },
  {
   "cell_type": "code",
   "execution_count": 30,
   "id": "intellectual-rebate",
   "metadata": {},
   "outputs": [],
   "source": [
    "# Scale data\n",
    "\n",
    "ss = StandardScaler()\n",
    "\n",
    "x_train_scaled = ss.fit_transform(X_train)\n",
    "\n",
    "x_test_scaled = ss.transform(X_test)"
   ]
  },
  {
   "cell_type": "code",
   "execution_count": 31,
   "id": "handy-equation",
   "metadata": {},
   "outputs": [],
   "source": [
    "# Oversample training data\n",
    "ada = ADASYN(random_state=42)\n",
    "X_adasyn_tr, y_adasyn_tr = ada.fit_resample(x_train_scaled,y_train)"
   ]
  },
  {
   "cell_type": "code",
   "execution_count": 32,
   "id": "thrown-beverage",
   "metadata": {},
   "outputs": [],
   "source": [
    "# Our vectorized labels\n",
    "y_train = np.asarray(y_train).astype('float32').reshape((-1,1))\n",
    "y_test = np.asarray(y_test).astype('float32').reshape((-1,1))"
   ]
  },
  {
   "cell_type": "code",
   "execution_count": 33,
   "id": "palestinian-sampling",
   "metadata": {},
   "outputs": [
    {
     "name": "stdout",
     "output_type": "stream",
     "text": [
      "Model: \"sequential_2\"\n",
      "_________________________________________________________________\n",
      "Layer (type)                 Output Shape              Param #   \n",
      "=================================================================\n",
      "dense_6 (Dense)              (None, 100)               1400      \n",
      "_________________________________________________________________\n",
      "dense_7 (Dense)              (None, 50)                5050      \n",
      "_________________________________________________________________\n",
      "dense_8 (Dense)              (None, 1)                 51        \n",
      "=================================================================\n",
      "Total params: 6,501\n",
      "Trainable params: 6,501\n",
      "Non-trainable params: 0\n",
      "_________________________________________________________________\n"
     ]
    }
   ],
   "source": [
    "model = keras.Sequential()\n",
    "model.add(layers.InputLayer(input_shape=(13,)))\n",
    "model.add(layers.Dense(100, activation='relu'))\n",
    "model.add(layers.Dense(50, activation='relu'))\n",
    "model.add(layers.Dense(1, activation='sigmoid'))\n",
    "model.summary()"
   ]
  },
  {
   "cell_type": "code",
   "execution_count": 34,
   "id": "judicial-studio",
   "metadata": {},
   "outputs": [],
   "source": [
    "# Compile the model\n",
    "model.compile(optimizer='adam', \n",
    "              loss=\"binary_crossentropy\", \n",
    "              metrics=['accuracy'])"
   ]
  },
  {
   "cell_type": "code",
   "execution_count": 35,
   "id": "alpha-practitioner",
   "metadata": {},
   "outputs": [],
   "source": [
    "# Fit on training data\n",
    "\n",
    "history = model.fit(x_train_scaled, y_train,       \n",
    "                    epochs=500,             \n",
    "                    validation_split=.2,\n",
    "                    verbose=False,\n",
    "                    callbacks=[keras.callbacks.ModelCheckpoint('models/songs_balanced.{epoch:02d}-{val_loss:.2f}.hdf5',\n",
    "                                                               save_best_only=True)])"
   ]
  },
  {
   "cell_type": "code",
   "execution_count": 36,
   "id": "supported-garage",
   "metadata": {},
   "outputs": [
    {
     "name": "stdout",
     "output_type": "stream",
     "text": [
      "Accuracy on training data: 0.5190553665161133% \n",
      " Error on training data: 0.4809446334838867\n",
      "Accuracy on test data: 0.5394136905670166% \n",
      " Error on test data: 0.4605863094329834\n"
     ]
    }
   ],
   "source": [
    "# Accuracy Scores\n",
    "pred_train= model.predict(X_train)\n",
    "scores = model.evaluate(X_train, y_train, verbose=0)\n",
    "print('Accuracy on training data: {}% \\n Error on training data: {}'.format(scores[1], 1 - scores[1]))   \n",
    " \n",
    "pred_test= model.predict(X_test)\n",
    "scores2 = model.evaluate(X_test, y_test, verbose=0)\n",
    "print('Accuracy on test data: {}% \\n Error on test data: {}'.format(scores2[1], 1 - scores2[1]))    "
   ]
  },
  {
   "cell_type": "code",
   "execution_count": 37,
   "id": "round-design",
   "metadata": {},
   "outputs": [
    {
     "name": "stderr",
     "output_type": "stream",
     "text": [
      "C:\\Users\\Andrew\\AppData\\Roaming\\Python\\Python38\\site-packages\\tensorflow\\python\\keras\\engine\\sequential.py:450: UserWarning: `model.predict_classes()` is deprecated and will be removed after 2021-01-01. Please use instead:* `np.argmax(model.predict(x), axis=-1)`,   if your model does multi-class classification   (e.g. if it uses a `softmax` last-layer activation).* `(model.predict(x) > 0.5).astype(\"int32\")`,   if your model does binary classification   (e.g. if it uses a `sigmoid` last-layer activation).\n",
      "  warnings.warn('`model.predict_classes()` is deprecated and '\n"
     ]
    }
   ],
   "source": [
    "# Predict classes\n",
    "yhat_classes = model.predict_classes(X_test, verbose=0)"
   ]
  },
  {
   "cell_type": "code",
   "execution_count": 38,
   "id": "imposed-joining",
   "metadata": {},
   "outputs": [
    {
     "name": "stdout",
     "output_type": "stream",
     "text": [
      "Accuracy: 0.539414\n",
      "Precision: 0.211817\n",
      "Recall: 1.000000\n",
      "F1 score: 0.349586\n"
     ]
    }
   ],
   "source": [
    "# accuracy: (tp + tn) / (p + n)\n",
    "accuracy = accuracy_score(y_test, yhat_classes)\n",
    "print('Accuracy: %f' % accuracy)\n",
    "# precision tp / (tp + fp)\n",
    "precision = precision_score(y_test, yhat_classes)\n",
    "print('Precision: %f' % precision)\n",
    "# recall: tp / (tp + fn)\n",
    "recall = recall_score(y_test, yhat_classes)\n",
    "print('Recall: %f' % recall)\n",
    "# f1: 2 tp / (2 tp + fp + fn)\n",
    "f1 = f1_score(y_test, yhat_classes)\n",
    "print('F1 score: %f' % f1)"
   ]
  }
 ],
 "metadata": {
  "kernelspec": {
   "display_name": "tf",
   "language": "python",
   "name": "tf"
  },
  "language_info": {
   "codemirror_mode": {
    "name": "ipython",
    "version": 3
   },
   "file_extension": ".py",
   "mimetype": "text/x-python",
   "name": "python",
   "nbconvert_exporter": "python",
   "pygments_lexer": "ipython3",
   "version": "3.8.8"
  }
 },
 "nbformat": 4,
 "nbformat_minor": 5
}
