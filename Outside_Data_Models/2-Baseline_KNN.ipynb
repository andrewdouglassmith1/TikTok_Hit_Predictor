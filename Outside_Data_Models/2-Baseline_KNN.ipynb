{
 "cells": [
  {
   "cell_type": "markdown",
   "id": "spoken-intersection",
   "metadata": {},
   "source": [
    "# Notebook Summary"
   ]
  },
  {
   "cell_type": "markdown",
   "id": "accessible-neighborhood",
   "metadata": {},
   "source": [
    "In this notebook I optimize a KNN model"
   ]
  },
  {
   "cell_type": "code",
   "execution_count": 1,
   "id": "stone-training",
   "metadata": {},
   "outputs": [],
   "source": [
    "import autoreload\n",
    "%load_ext autoreload\n",
    "%autoreload 2\n",
    "%reload_ext autoreload\n",
    "import Classes"
   ]
  },
  {
   "cell_type": "code",
   "execution_count": 112,
   "id": "furnished-bangkok",
   "metadata": {},
   "outputs": [],
   "source": [
    "import pickle\n",
    "from sklearn.linear_model import LogisticRegression\n",
    "import sklearn.model_selection\n",
    "from sklearn.model_selection import train_test_split\n",
    "import pandas as pd\n",
    "from sklearn.preprocessing import StandardScaler\n",
    "from sklearn.metrics import f1_score\n",
    "from sklearn.metrics import make_scorer, accuracy_score, precision_score, recall_score, f1_score\n",
    "from sklearn.model_selection import RandomizedSearchCV\n",
    "from sklearn.model_selection import GridSearchCV\n",
    "from imblearn.over_sampling import ADASYN\n",
    "from sklearn.neighbors import KNeighborsClassifier\n",
    "from sklearn.model_selection import cross_validate\n",
    "from sklearn.metrics import confusion_matrix\n",
    "import matplotlib.pyplot as plt\n",
    "import seaborn as sns\n",
    "from sklearn.metrics import make_scorer"
   ]
  },
  {
   "cell_type": "markdown",
   "id": "animated-health",
   "metadata": {},
   "source": [
    "# Pickle in Data"
   ]
  },
  {
   "cell_type": "code",
   "execution_count": 3,
   "id": "apparent-seven",
   "metadata": {},
   "outputs": [
    {
     "data": {
      "text/html": [
       "<div>\n",
       "<style scoped>\n",
       "    .dataframe tbody tr th:only-of-type {\n",
       "        vertical-align: middle;\n",
       "    }\n",
       "\n",
       "    .dataframe tbody tr th {\n",
       "        vertical-align: top;\n",
       "    }\n",
       "\n",
       "    .dataframe thead th {\n",
       "        text-align: right;\n",
       "    }\n",
       "</style>\n",
       "<table border=\"1\" class=\"dataframe\">\n",
       "  <thead>\n",
       "    <tr style=\"text-align: right;\">\n",
       "      <th></th>\n",
       "      <th>danceability</th>\n",
       "      <th>energy</th>\n",
       "      <th>key</th>\n",
       "      <th>loudness</th>\n",
       "      <th>mode</th>\n",
       "      <th>speechiness</th>\n",
       "      <th>acousticness</th>\n",
       "      <th>instrumentalness</th>\n",
       "      <th>liveness</th>\n",
       "      <th>valence</th>\n",
       "      <th>tempo</th>\n",
       "      <th>year</th>\n",
       "      <th>spotify_artists</th>\n",
       "      <th>success</th>\n",
       "    </tr>\n",
       "  </thead>\n",
       "  <tbody>\n",
       "    <tr>\n",
       "      <th>0</th>\n",
       "      <td>0.880</td>\n",
       "      <td>0.501</td>\n",
       "      <td>2.0</td>\n",
       "      <td>-6.774</td>\n",
       "      <td>1.0</td>\n",
       "      <td>0.062</td>\n",
       "      <td>0.0494</td>\n",
       "      <td>0.0695</td>\n",
       "      <td>0.4360</td>\n",
       "      <td>0.459</td>\n",
       "      <td>120.038</td>\n",
       "      <td>2020.0</td>\n",
       "      <td>0</td>\n",
       "      <td>1.0</td>\n",
       "    </tr>\n",
       "    <tr>\n",
       "      <th>1</th>\n",
       "      <td>0.935</td>\n",
       "      <td>0.454</td>\n",
       "      <td>1.0</td>\n",
       "      <td>-7.509</td>\n",
       "      <td>1.0</td>\n",
       "      <td>0.375</td>\n",
       "      <td>0.0194</td>\n",
       "      <td>0.0000</td>\n",
       "      <td>0.0824</td>\n",
       "      <td>0.357</td>\n",
       "      <td>133.073</td>\n",
       "      <td>2018.0</td>\n",
       "      <td>1</td>\n",
       "      <td>1.0</td>\n",
       "    </tr>\n",
       "  </tbody>\n",
       "</table>\n",
       "</div>"
      ],
      "text/plain": [
       "   danceability  energy  key  loudness  mode  speechiness  acousticness  \\\n",
       "0         0.880   0.501  2.0    -6.774   1.0        0.062        0.0494   \n",
       "1         0.935   0.454  1.0    -7.509   1.0        0.375        0.0194   \n",
       "\n",
       "   instrumentalness  liveness  valence    tempo    year  spotify_artists  \\\n",
       "0            0.0695    0.4360    0.459  120.038  2020.0                0   \n",
       "1            0.0000    0.0824    0.357  133.073  2018.0                1   \n",
       "\n",
       "   success  \n",
       "0      1.0  \n",
       "1      1.0  "
      ]
     },
     "execution_count": 3,
     "metadata": {},
     "output_type": "execute_result"
    }
   ],
   "source": [
    "# Pickle in factorized data\n",
    "\n",
    "path = r\"C:\\Users\\Andrew\\Documents\\Metis\\TikTok_Hit_Predictor\\Pickle\\supervised_factorized.pkl\"\n",
    "\n",
    "df = pickle.load(open(path,'rb'))\n",
    "df.head(2)"
   ]
  },
  {
   "cell_type": "markdown",
   "id": "smooth-cabinet",
   "metadata": {},
   "source": [
    "# Part 1 Including Artists"
   ]
  },
  {
   "cell_type": "markdown",
   "id": "typical-russia",
   "metadata": {},
   "source": [
    "# CV KNN"
   ]
  },
  {
   "cell_type": "code",
   "execution_count": 13,
   "id": "noticed-uruguay",
   "metadata": {},
   "outputs": [],
   "source": [
    "# Seperate features from label\n",
    "\n",
    "X = df.loc[:,['danceability', 'energy', 'key', 'loudness', 'mode', 'speechiness',\n",
    "       'acousticness', 'instrumentalness', 'liveness', 'valence', 'tempo','year','spotify_artists']]\n",
    "\n",
    "y = df['success']"
   ]
  },
  {
   "cell_type": "code",
   "execution_count": 14,
   "id": "average-supply",
   "metadata": {},
   "outputs": [],
   "source": [
    "#Split data into 2: 60% train, 8% test\n",
    "X_train, X_test, y_train, y_test = train_test_split(X, y, test_size=0.2, stratify=y)"
   ]
  },
  {
   "cell_type": "code",
   "execution_count": 15,
   "id": "preliminary-approach",
   "metadata": {},
   "outputs": [],
   "source": [
    "# Oversample\n",
    "\n",
    "ada = ADASYN(random_state=42)\n",
    "\n",
    "# Oversample training data\n",
    "X_adasyn_tr, y_adasyn_tr = ada.fit_resample(X_train,y_train)"
   ]
  },
  {
   "cell_type": "code",
   "execution_count": 16,
   "id": "transparent-efficiency",
   "metadata": {},
   "outputs": [],
   "source": [
    "# Scale features \n",
    "scaler = StandardScaler()\n",
    "X_adasyn_tr = scaler.fit_transform(X_adasyn_tr)"
   ]
  },
  {
   "cell_type": "code",
   "execution_count": 17,
   "id": "adequate-hygiene",
   "metadata": {},
   "outputs": [],
   "source": [
    "# specify \"parameter distributions\" rather than a \"parameter grid\"\n",
    "k_range = list(range(1, 31))\n",
    "weight_options = ['uniform', 'distance']\n",
    "param_dist = dict(n_neighbors=k_range, weights=weight_options)"
   ]
  },
  {
   "cell_type": "code",
   "execution_count": 18,
   "id": "increased-philadelphia",
   "metadata": {},
   "outputs": [
    {
     "name": "stdout",
     "output_type": "stream",
     "text": [
      "{'n_neighbors': [1, 2, 3, 4, 5, 6, 7, 8, 9, 10, 11, 12, 13, 14, 15, 16, 17, 18, 19, 20, 21, 22, 23, 24, 25, 26, 27, 28, 29, 30], 'weights': ['uniform', 'distance']}\n"
     ]
    }
   ],
   "source": [
    "# create a parameter grid: map the parameter names to the values that should be searched\n",
    "param_grid = dict(n_neighbors=k_range, weights=weight_options)\n",
    "print(param_grid)"
   ]
  },
  {
   "cell_type": "code",
   "execution_count": 19,
   "id": "confused-metropolitan",
   "metadata": {},
   "outputs": [],
   "source": [
    "# Define KNN\n",
    "knn = KNeighborsClassifier()"
   ]
  },
  {
   "cell_type": "code",
   "execution_count": 20,
   "id": "suspended-luther",
   "metadata": {},
   "outputs": [
    {
     "data": {
      "text/plain": [
       "{'mean_fit_time': array([0.02301886, 0.02297039, 0.02228544, 0.02429276, 0.02208788,\n",
       "        0.02287917, 0.02305613, 0.02266903, 0.0238107 , 0.02386217]),\n",
       " 'std_fit_time': array([0.00075591, 0.00063849, 0.00046279, 0.00144649, 0.00030154,\n",
       "        0.00051997, 0.00071991, 0.00044569, 0.00149124, 0.0014239 ]),\n",
       " 'mean_score_time': array([0.09649801, 0.11381836, 0.20261364, 0.19710577, 0.14388981,\n",
       "        0.21995687, 0.18234768, 0.21348929, 0.17221842, 0.20595117]),\n",
       " 'std_score_time': array([0.00421537, 0.00533509, 0.00941647, 0.00510034, 0.00464044,\n",
       "        0.00627905, 0.00490991, 0.00349659, 0.0086474 , 0.00850547]),\n",
       " 'param_weights': masked_array(data=['uniform', 'distance', 'uniform', 'distance',\n",
       "                    'distance', 'uniform', 'distance', 'uniform',\n",
       "                    'uniform', 'distance'],\n",
       "              mask=[False, False, False, False, False, False, False, False,\n",
       "                    False, False],\n",
       "        fill_value='?',\n",
       "             dtype=object),\n",
       " 'param_n_neighbors': masked_array(data=[1, 3, 19, 23, 7, 28, 17, 25, 7, 29],\n",
       "              mask=[False, False, False, False, False, False, False, False,\n",
       "                    False, False],\n",
       "        fill_value='?',\n",
       "             dtype=object),\n",
       " 'params': [{'weights': 'uniform', 'n_neighbors': 1},\n",
       "  {'weights': 'distance', 'n_neighbors': 3},\n",
       "  {'weights': 'uniform', 'n_neighbors': 19},\n",
       "  {'weights': 'distance', 'n_neighbors': 23},\n",
       "  {'weights': 'distance', 'n_neighbors': 7},\n",
       "  {'weights': 'uniform', 'n_neighbors': 28},\n",
       "  {'weights': 'distance', 'n_neighbors': 17},\n",
       "  {'weights': 'uniform', 'n_neighbors': 25},\n",
       "  {'weights': 'uniform', 'n_neighbors': 7},\n",
       "  {'weights': 'distance', 'n_neighbors': 29}],\n",
       " 'split0_test_score': array([0.9024839 , 0.87672493, 0.850046  , 0.85280589, 0.87396504,\n",
       "        0.84636615, 0.86108556, 0.84452622, 0.87028519, 0.85464581]),\n",
       " 'split1_test_score': array([0.91720331, 0.90432383, 0.87856486, 0.88408464, 0.90064397,\n",
       "        0.8675253 , 0.88776449, 0.87212511, 0.89696412, 0.87580497]),\n",
       " 'split2_test_score': array([0.9199632 , 0.90984361, 0.86292548, 0.87212511, 0.89328427,\n",
       "        0.86292548, 0.88040478, 0.85924563, 0.88868445, 0.8675253 ]),\n",
       " 'split3_test_score': array([0.93560258, 0.91812328, 0.87948482, 0.88132475, 0.90984361,\n",
       "        0.87580497, 0.88960442, 0.87304508, 0.90800368, 0.874885  ]),\n",
       " 'split4_test_score': array([0.91628335, 0.89972401, 0.87120515, 0.88316467, 0.89604416,\n",
       "        0.87856486, 0.87764489, 0.87672493, 0.89236431, 0.87856486]),\n",
       " 'split5_test_score': array([0.92357274, 0.9106814 , 0.87016575, 0.87384899, 0.89042357,\n",
       "        0.87016575, 0.87384899, 0.86556169, 0.8839779 , 0.87108656]),\n",
       " 'split6_test_score': array([0.92357274, 0.91528545, 0.88305709, 0.8839779 , 0.90976059,\n",
       "        0.87845304, 0.88858195, 0.87661142, 0.90791897, 0.88305709]),\n",
       " 'split7_test_score': array([0.91804788, 0.90239411, 0.87845304, 0.87661142, 0.88950276,\n",
       "        0.87200737, 0.88766114, 0.86556169, 0.88581952, 0.8664825 ]),\n",
       " 'split8_test_score': array([0.91896869, 0.91252302, 0.86187845, 0.86556169, 0.90515654,\n",
       "        0.85911602, 0.87016575, 0.85819521, 0.893186  , 0.86279926]),\n",
       " 'split9_test_score': array([0.93001842, 0.91252302, 0.87569061, 0.88305709, 0.90239411,\n",
       "        0.86095764, 0.88858195, 0.87016575, 0.90055249, 0.87108656]),\n",
       " 'mean_test_score': array([0.92057168, 0.90621466, 0.87114712, 0.87565622, 0.89710186,\n",
       "        0.86718866, 0.88053439, 0.86617627, 0.89277566, 0.87059379]),\n",
       " 'std_test_score': array([0.00836298, 0.011255  , 0.00969605, 0.00961382, 0.01039894,\n",
       "        0.00958377, 0.0092395 , 0.00948611, 0.01089917, 0.00778678]),\n",
       " 'rank_test_score': array([ 1,  2,  7,  6,  3,  9,  5, 10,  4,  8])}"
      ]
     },
     "execution_count": 20,
     "metadata": {},
     "output_type": "execute_result"
    }
   ],
   "source": [
    "# n_iter controls the number of searches\n",
    "rand = RandomizedSearchCV(knn, param_dist, cv=10, scoring='accuracy', n_iter=10, random_state=42)\n",
    "rand.fit(X_adasyn_tr, y_adasyn_tr)\n",
    "rand.cv_results_"
   ]
  },
  {
   "cell_type": "code",
   "execution_count": 21,
   "id": "precise-alpha",
   "metadata": {},
   "outputs": [
    {
     "name": "stdout",
     "output_type": "stream",
     "text": [
      "0.920571681736782\n",
      "{'weights': 'uniform', 'n_neighbors': 1}\n",
      "KNeighborsClassifier(n_neighbors=1)\n"
     ]
    }
   ],
   "source": [
    "# examine the best model\n",
    "print(rand.best_score_)\n",
    "print(rand.best_params_)\n",
    "print(rand.best_estimator_)"
   ]
  },
  {
   "cell_type": "markdown",
   "id": "general-banks",
   "metadata": {},
   "source": [
    "# Applying best params"
   ]
  },
  {
   "cell_type": "code",
   "execution_count": 22,
   "id": "representative-defensive",
   "metadata": {},
   "outputs": [],
   "source": [
    "# Seperate features from label\n",
    "\n",
    "X = df.loc[:,['danceability', 'energy', 'key', 'loudness', 'mode', 'speechiness',\n",
    "       'acousticness', 'instrumentalness', 'liveness', 'valence', 'tempo','year','spotify_artists']]\n",
    "\n",
    "y = df['success']"
   ]
  },
  {
   "cell_type": "code",
   "execution_count": 23,
   "id": "joint-royal",
   "metadata": {},
   "outputs": [],
   "source": [
    "#Split data into 2: 80% train, 20% test\n",
    "X_train, X_test, y_train, y_test = train_test_split(X, y, test_size=0.2, stratify=y)"
   ]
  },
  {
   "cell_type": "code",
   "execution_count": 24,
   "id": "chubby-sheffield",
   "metadata": {},
   "outputs": [],
   "source": [
    "# Oversample\n",
    "\n",
    "ada = ADASYN(random_state=42)\n",
    "\n",
    "# Oversample training data\n",
    "X_adasyn_tr, y_adasyn_tr = ada.fit_resample(X_train,y_train)"
   ]
  },
  {
   "cell_type": "code",
   "execution_count": 27,
   "id": "square-soccer",
   "metadata": {},
   "outputs": [],
   "source": [
    "# Scale features \n",
    "scaler = StandardScaler()\n",
    "X_adasyn_tr = scaler.fit_transform(X_adasyn_tr)\n",
    "X_test = scaler.fit_transform(X_test)"
   ]
  },
  {
   "cell_type": "code",
   "execution_count": 58,
   "id": "requested-horizon",
   "metadata": {},
   "outputs": [],
   "source": [
    "# run initial logistic regression\n",
    "# Define KNN\n",
    "model = KNeighborsClassifier(n_neighbors = 1, weights = 'uniform')\n",
    "model.fit(X_adasyn_tr, y_adasyn_tr)\n",
    "y_predict = model.predict(X_test)"
   ]
  },
  {
   "cell_type": "code",
   "execution_count": 59,
   "id": "friendly-outside",
   "metadata": {},
   "outputs": [
    {
     "name": "stdout",
     "output_type": "stream",
     "text": [
      "Train Scores\n",
      "Accuracy score: 100.00%\n"
     ]
    }
   ],
   "source": [
    "Classes.train_scores(model,X_adasyn_tr, y_adasyn_tr)"
   ]
  },
  {
   "cell_type": "code",
   "execution_count": 60,
   "id": "looking-boxing",
   "metadata": {},
   "outputs": [
    {
     "name": "stdout",
     "output_type": "stream",
     "text": [
      "Test Scores\n",
      "Score:  75.37%\n",
      "F1 score:  45.38%\n",
      "Precision:  31.27%,  Test Recall:  82.63%\n"
     ]
    }
   ],
   "source": [
    "Classes.test_scores(y_test,y_predict)"
   ]
  },
  {
   "cell_type": "markdown",
   "id": "apparent-waterproof",
   "metadata": {},
   "source": [
    "# Part 2 - Excluding Artists"
   ]
  },
  {
   "cell_type": "code",
   "execution_count": 113,
   "id": "textile-walter",
   "metadata": {},
   "outputs": [],
   "source": [
    "# Seperate features from label\n",
    "\n",
    "X = df.loc[:,['danceability', 'energy', 'key', 'loudness', 'mode', 'speechiness',\n",
    "       'acousticness', 'instrumentalness', 'liveness', 'valence', 'tempo','year']]\n",
    "\n",
    "y = df['success']"
   ]
  },
  {
   "cell_type": "code",
   "execution_count": 114,
   "id": "continuing-karen",
   "metadata": {},
   "outputs": [],
   "source": [
    "#Split data into 2: 60% train, 8% test\n",
    "X_train, X_test, y_train, y_test = train_test_split(X, y, test_size=0.2, stratify=y)"
   ]
  },
  {
   "cell_type": "code",
   "execution_count": 115,
   "id": "adult-technician",
   "metadata": {},
   "outputs": [],
   "source": [
    "# Oversample\n",
    "\n",
    "ada = ADASYN(random_state=42)\n",
    "\n",
    "# Oversample training data\n",
    "X_adasyn_tr, y_adasyn_tr = ada.fit_resample(X_train,y_train)"
   ]
  },
  {
   "cell_type": "code",
   "execution_count": 116,
   "id": "reported-colon",
   "metadata": {},
   "outputs": [],
   "source": [
    "# Scale features \n",
    "scaler = StandardScaler()\n",
    "X_adasyn_tr = scaler.fit_transform(X_adasyn_tr)"
   ]
  },
  {
   "cell_type": "code",
   "execution_count": 117,
   "id": "excited-delicious",
   "metadata": {},
   "outputs": [],
   "source": [
    "# define the parameter values that should be searched\n",
    "k_range = list(range(1, 31))\n",
    "\n",
    "# list of weight options\n",
    "weight_options = ['uniform', 'distance']"
   ]
  },
  {
   "cell_type": "code",
   "execution_count": 118,
   "id": "overall-falls",
   "metadata": {},
   "outputs": [
    {
     "name": "stdout",
     "output_type": "stream",
     "text": [
      "{'n_neighbors': [1, 2, 3, 4, 5, 6, 7, 8, 9, 10, 11, 12, 13, 14, 15, 16, 17, 18, 19, 20, 21, 22, 23, 24, 25, 26, 27, 28, 29, 30], 'weights': ['uniform', 'distance']}\n"
     ]
    }
   ],
   "source": [
    "# create a parameter grid: map the parameter names to the values that should be searched\n",
    "# dictionary = dict(key=values, key=values)\n",
    "param_grid = dict(n_neighbors=k_range, weights=weight_options)\n",
    "print(param_grid)"
   ]
  },
  {
   "cell_type": "code",
   "execution_count": 119,
   "id": "apparent-clark",
   "metadata": {},
   "outputs": [],
   "source": [
    "# Define KNN\n",
    "knn = KNeighborsClassifier()"
   ]
  },
  {
   "cell_type": "code",
   "execution_count": 120,
   "id": "compound-cliff",
   "metadata": {},
   "outputs": [],
   "source": [
    "# Make scorer\n",
    "f1_scorer = make_scorer(f1_score, pos_label= 1)"
   ]
  },
  {
   "cell_type": "code",
   "execution_count": 121,
   "id": "signed-ownership",
   "metadata": {},
   "outputs": [],
   "source": [
    "# instantiate and fit the grid\n",
    "# exhaustive grid-search because it's trying every combination\n",
    "# 10-fold cross-validation is being performed 30 x 2 = 60 times\n",
    "\n",
    "grid = GridSearchCV(knn, param_grid, cv=10, scoring= f1_scorer)"
   ]
  },
  {
   "cell_type": "code",
   "execution_count": 122,
   "id": "dominican-security",
   "metadata": {},
   "outputs": [
    {
     "data": {
      "text/plain": [
       "GridSearchCV(cv=10, estimator=KNeighborsClassifier(),\n",
       "             param_grid={'n_neighbors': [1, 2, 3, 4, 5, 6, 7, 8, 9, 10, 11, 12,\n",
       "                                         13, 14, 15, 16, 17, 18, 19, 20, 21, 22,\n",
       "                                         23, 24, 25, 26, 27, 28, 29, 30],\n",
       "                         'weights': ['uniform', 'distance']},\n",
       "             scoring=make_scorer(f1_score, pos_label=1))"
      ]
     },
     "execution_count": 122,
     "metadata": {},
     "output_type": "execute_result"
    }
   ],
   "source": [
    "# Fit\n",
    "grid.fit(X_adasyn_tr, y_adasyn_tr)"
   ]
  },
  {
   "cell_type": "code",
   "execution_count": 123,
   "id": "annoying-failing",
   "metadata": {},
   "outputs": [
    {
     "data": {
      "text/plain": [
       "{'mean_fit_time': array([0.02137105, 0.02171187, 0.02163095, 0.02157691, 0.0210597 ,\n",
       "        0.02101486, 0.02194431, 0.0219964 , 0.02107179, 0.0233686 ,\n",
       "        0.02479386, 0.02514424, 0.0241385 , 0.02401905, 0.02477744,\n",
       "        0.02462306, 0.02157624, 0.0205399 , 0.0212595 , 0.02244656,\n",
       "        0.02368686, 0.02406447, 0.02285278, 0.02313862, 0.02474699,\n",
       "        0.02236249, 0.0217917 , 0.02258697, 0.02237883, 0.02213495,\n",
       "        0.02258589, 0.02231741, 0.0239867 , 0.02154748, 0.02127831,\n",
       "        0.02103138, 0.02231586, 0.0226712 , 0.02283404, 0.02280908,\n",
       "        0.02376313, 0.02299638, 0.02278328, 0.02159765, 0.02244699,\n",
       "        0.02256246, 0.02321317, 0.02271805, 0.02308841, 0.02384131,\n",
       "        0.02148881, 0.02263079, 0.02258608, 0.02228251, 0.02247477,\n",
       "        0.02263746, 0.02092602, 0.02204788, 0.02195203, 0.021662  ]),\n",
       " 'std_fit_time': array([0.00054086, 0.00110761, 0.00090527, 0.00074722, 0.00060094,\n",
       "        0.00070229, 0.0009271 , 0.00097401, 0.00067514, 0.00170376,\n",
       "        0.00285876, 0.0020414 , 0.00297636, 0.00149847, 0.00211656,\n",
       "        0.00675713, 0.00100139, 0.00065578, 0.001015  , 0.00100899,\n",
       "        0.00292301, 0.00245001, 0.00219396, 0.00320406, 0.00218961,\n",
       "        0.00073448, 0.00143482, 0.00114807, 0.00104211, 0.001319  ,\n",
       "        0.00060335, 0.00174527, 0.00276684, 0.00046331, 0.00062762,\n",
       "        0.00055608, 0.00095299, 0.00120416, 0.00067963, 0.00161422,\n",
       "        0.00297518, 0.00113073, 0.00068855, 0.0006187 , 0.00205266,\n",
       "        0.00148318, 0.00141266, 0.00148296, 0.00178064, 0.00090485,\n",
       "        0.00093145, 0.00126052, 0.00095136, 0.00133284, 0.00118465,\n",
       "        0.00127725, 0.00037202, 0.00105886, 0.0013528 , 0.00074114]),\n",
       " 'mean_score_time': array([0.08041973, 0.06344981, 0.0987695 , 0.07839694, 0.1077589 ,\n",
       "        0.09108765, 0.1217273 , 0.10263431, 0.12696943, 0.11608653,\n",
       "        0.15290523, 0.1328619 , 0.15776787, 0.13708513, 0.16653666,\n",
       "        0.13371251, 0.15081539, 0.13007634, 0.15415494, 0.14331441,\n",
       "        0.17507446, 0.14742908, 0.17263179, 0.15204072, 0.18045993,\n",
       "        0.1504169 , 0.16888652, 0.15629218, 0.17364361, 0.15451689,\n",
       "        0.18144848, 0.15919058, 0.19243519, 0.15578802, 0.17507946,\n",
       "        0.15556114, 0.18606417, 0.16831863, 0.19372652, 0.16849294,\n",
       "        0.19673741, 0.17593706, 0.19828372, 0.16447666, 0.19467912,\n",
       "        0.17299585, 0.1966455 , 0.17451401, 0.20273237, 0.18437386,\n",
       "        0.19083745, 0.17820132, 0.2032387 , 0.17988102, 0.19977276,\n",
       "        0.18581161, 0.18990967, 0.17394993, 0.19855742, 0.1728878 ]),\n",
       " 'std_score_time': array([0.00346942, 0.00530851, 0.00567314, 0.00554189, 0.00470294,\n",
       "        0.00541261, 0.00557506, 0.00654296, 0.00477977, 0.00720076,\n",
       "        0.00929418, 0.00859841, 0.01270716, 0.00803219, 0.00921032,\n",
       "        0.0076245 , 0.0060427 , 0.00347775, 0.00882186, 0.00428827,\n",
       "        0.01243777, 0.00599913, 0.01059171, 0.00986879, 0.00923344,\n",
       "        0.00498983, 0.00640732, 0.0073576 , 0.005483  , 0.00746843,\n",
       "        0.00566361, 0.00958896, 0.01601563, 0.00328861, 0.00623882,\n",
       "        0.00360127, 0.00617973, 0.0082457 , 0.00540169, 0.0105287 ,\n",
       "        0.01011138, 0.00982964, 0.00697409, 0.00495636, 0.01113688,\n",
       "        0.00528825, 0.01591532, 0.00374693, 0.00687441, 0.00538528,\n",
       "        0.00478777, 0.00679142, 0.00953573, 0.00593836, 0.00810892,\n",
       "        0.01151663, 0.00277282, 0.00458954, 0.00770149, 0.00354624]),\n",
       " 'param_n_neighbors': masked_array(data=[1, 1, 2, 2, 3, 3, 4, 4, 5, 5, 6, 6, 7, 7, 8, 8, 9, 9,\n",
       "                    10, 10, 11, 11, 12, 12, 13, 13, 14, 14, 15, 15, 16, 16,\n",
       "                    17, 17, 18, 18, 19, 19, 20, 20, 21, 21, 22, 22, 23, 23,\n",
       "                    24, 24, 25, 25, 26, 26, 27, 27, 28, 28, 29, 29, 30, 30],\n",
       "              mask=[False, False, False, False, False, False, False, False,\n",
       "                    False, False, False, False, False, False, False, False,\n",
       "                    False, False, False, False, False, False, False, False,\n",
       "                    False, False, False, False, False, False, False, False,\n",
       "                    False, False, False, False, False, False, False, False,\n",
       "                    False, False, False, False, False, False, False, False,\n",
       "                    False, False, False, False, False, False, False, False,\n",
       "                    False, False, False, False],\n",
       "        fill_value='?',\n",
       "             dtype=object),\n",
       " 'param_weights': masked_array(data=['uniform', 'distance', 'uniform', 'distance',\n",
       "                    'uniform', 'distance', 'uniform', 'distance',\n",
       "                    'uniform', 'distance', 'uniform', 'distance',\n",
       "                    'uniform', 'distance', 'uniform', 'distance',\n",
       "                    'uniform', 'distance', 'uniform', 'distance',\n",
       "                    'uniform', 'distance', 'uniform', 'distance',\n",
       "                    'uniform', 'distance', 'uniform', 'distance',\n",
       "                    'uniform', 'distance', 'uniform', 'distance',\n",
       "                    'uniform', 'distance', 'uniform', 'distance',\n",
       "                    'uniform', 'distance', 'uniform', 'distance',\n",
       "                    'uniform', 'distance', 'uniform', 'distance',\n",
       "                    'uniform', 'distance', 'uniform', 'distance',\n",
       "                    'uniform', 'distance', 'uniform', 'distance',\n",
       "                    'uniform', 'distance', 'uniform', 'distance',\n",
       "                    'uniform', 'distance', 'uniform', 'distance'],\n",
       "              mask=[False, False, False, False, False, False, False, False,\n",
       "                    False, False, False, False, False, False, False, False,\n",
       "                    False, False, False, False, False, False, False, False,\n",
       "                    False, False, False, False, False, False, False, False,\n",
       "                    False, False, False, False, False, False, False, False,\n",
       "                    False, False, False, False, False, False, False, False,\n",
       "                    False, False, False, False, False, False, False, False,\n",
       "                    False, False, False, False],\n",
       "        fill_value='?',\n",
       "             dtype=object),\n",
       " 'params': [{'n_neighbors': 1, 'weights': 'uniform'},\n",
       "  {'n_neighbors': 1, 'weights': 'distance'},\n",
       "  {'n_neighbors': 2, 'weights': 'uniform'},\n",
       "  {'n_neighbors': 2, 'weights': 'distance'},\n",
       "  {'n_neighbors': 3, 'weights': 'uniform'},\n",
       "  {'n_neighbors': 3, 'weights': 'distance'},\n",
       "  {'n_neighbors': 4, 'weights': 'uniform'},\n",
       "  {'n_neighbors': 4, 'weights': 'distance'},\n",
       "  {'n_neighbors': 5, 'weights': 'uniform'},\n",
       "  {'n_neighbors': 5, 'weights': 'distance'},\n",
       "  {'n_neighbors': 6, 'weights': 'uniform'},\n",
       "  {'n_neighbors': 6, 'weights': 'distance'},\n",
       "  {'n_neighbors': 7, 'weights': 'uniform'},\n",
       "  {'n_neighbors': 7, 'weights': 'distance'},\n",
       "  {'n_neighbors': 8, 'weights': 'uniform'},\n",
       "  {'n_neighbors': 8, 'weights': 'distance'},\n",
       "  {'n_neighbors': 9, 'weights': 'uniform'},\n",
       "  {'n_neighbors': 9, 'weights': 'distance'},\n",
       "  {'n_neighbors': 10, 'weights': 'uniform'},\n",
       "  {'n_neighbors': 10, 'weights': 'distance'},\n",
       "  {'n_neighbors': 11, 'weights': 'uniform'},\n",
       "  {'n_neighbors': 11, 'weights': 'distance'},\n",
       "  {'n_neighbors': 12, 'weights': 'uniform'},\n",
       "  {'n_neighbors': 12, 'weights': 'distance'},\n",
       "  {'n_neighbors': 13, 'weights': 'uniform'},\n",
       "  {'n_neighbors': 13, 'weights': 'distance'},\n",
       "  {'n_neighbors': 14, 'weights': 'uniform'},\n",
       "  {'n_neighbors': 14, 'weights': 'distance'},\n",
       "  {'n_neighbors': 15, 'weights': 'uniform'},\n",
       "  {'n_neighbors': 15, 'weights': 'distance'},\n",
       "  {'n_neighbors': 16, 'weights': 'uniform'},\n",
       "  {'n_neighbors': 16, 'weights': 'distance'},\n",
       "  {'n_neighbors': 17, 'weights': 'uniform'},\n",
       "  {'n_neighbors': 17, 'weights': 'distance'},\n",
       "  {'n_neighbors': 18, 'weights': 'uniform'},\n",
       "  {'n_neighbors': 18, 'weights': 'distance'},\n",
       "  {'n_neighbors': 19, 'weights': 'uniform'},\n",
       "  {'n_neighbors': 19, 'weights': 'distance'},\n",
       "  {'n_neighbors': 20, 'weights': 'uniform'},\n",
       "  {'n_neighbors': 20, 'weights': 'distance'},\n",
       "  {'n_neighbors': 21, 'weights': 'uniform'},\n",
       "  {'n_neighbors': 21, 'weights': 'distance'},\n",
       "  {'n_neighbors': 22, 'weights': 'uniform'},\n",
       "  {'n_neighbors': 22, 'weights': 'distance'},\n",
       "  {'n_neighbors': 23, 'weights': 'uniform'},\n",
       "  {'n_neighbors': 23, 'weights': 'distance'},\n",
       "  {'n_neighbors': 24, 'weights': 'uniform'},\n",
       "  {'n_neighbors': 24, 'weights': 'distance'},\n",
       "  {'n_neighbors': 25, 'weights': 'uniform'},\n",
       "  {'n_neighbors': 25, 'weights': 'distance'},\n",
       "  {'n_neighbors': 26, 'weights': 'uniform'},\n",
       "  {'n_neighbors': 26, 'weights': 'distance'},\n",
       "  {'n_neighbors': 27, 'weights': 'uniform'},\n",
       "  {'n_neighbors': 27, 'weights': 'distance'},\n",
       "  {'n_neighbors': 28, 'weights': 'uniform'},\n",
       "  {'n_neighbors': 28, 'weights': 'distance'},\n",
       "  {'n_neighbors': 29, 'weights': 'uniform'},\n",
       "  {'n_neighbors': 29, 'weights': 'distance'},\n",
       "  {'n_neighbors': 30, 'weights': 'uniform'},\n",
       "  {'n_neighbors': 30, 'weights': 'distance'}],\n",
       " 'split0_test_score': array([0.89782245, 0.89782245, 0.89276373, 0.89782245, 0.88157895,\n",
       "        0.88615889, 0.87917738, 0.88870569, 0.86229508, 0.87408611,\n",
       "        0.85857741, 0.8719611 , 0.84671533, 0.85966319, 0.84201681,\n",
       "        0.86429725, 0.83198708, 0.85191083, 0.83430475, 0.85553772,\n",
       "        0.81803543, 0.84085511, 0.82051282, 0.84737679, 0.81861958,\n",
       "        0.84500393, 0.81402936, 0.84318361, 0.81723863, 0.83855799,\n",
       "        0.82009724, 0.84251969, 0.81558029, 0.8354232 , 0.81033091,\n",
       "        0.83921569, 0.8085443 , 0.83151326, 0.80803213, 0.834375  ,\n",
       "        0.80570975, 0.828125  , 0.80256822, 0.8299532 , 0.80348653,\n",
       "        0.82866044, 0.8032    , 0.82892691, 0.8050513 , 0.83021807,\n",
       "        0.80255795, 0.8273717 , 0.80472441, 0.82699767, 0.80351438,\n",
       "        0.82635659, 0.80410742, 0.83021807, 0.80159363, 0.8257165 ]),\n",
       " 'split1_test_score': array([0.89637742, 0.89637742, 0.87488909, 0.89637742, 0.86393443,\n",
       "        0.86764706, 0.86513995, 0.87407407, 0.84652666, 0.85116653,\n",
       "        0.84016736, 0.85598047, 0.83106485, 0.84193805, 0.82684341,\n",
       "        0.84911717, 0.82598236, 0.83876092, 0.81353135, 0.84235669,\n",
       "        0.81687898, 0.83372734, 0.81572482, 0.83702532, 0.81487342,\n",
       "        0.83098592, 0.81583199, 0.8342498 , 0.81353265, 0.82645914,\n",
       "        0.81948882, 0.8303362 , 0.81504702, 0.82945736, 0.81593625,\n",
       "        0.83151326, 0.81568627, 0.82828283, 0.81240064, 0.8271028 ,\n",
       "        0.8153967 , 0.82801556, 0.81180223, 0.82645914, 0.81294396,\n",
       "        0.82903981, 0.81115538, 0.82866044, 0.80974843, 0.82774747,\n",
       "        0.81558029, 0.82877248, 0.81597494, 0.8317757 , 0.81925809,\n",
       "        0.83048212, 0.81400778, 0.82726569, 0.81220657, 0.82534776]),\n",
       " 'split2_test_score': array([0.88682432, 0.88682432, 0.85662759, 0.88682432, 0.85808039,\n",
       "        0.86921202, 0.84806867, 0.8704918 , 0.83453237, 0.84901186,\n",
       "        0.83860233, 0.8514377 , 0.8353222 , 0.84700315, 0.83402147,\n",
       "        0.85031847, 0.82111899, 0.83619345, 0.8261924 , 0.84094488,\n",
       "        0.81918239, 0.83398285, 0.82022472, 0.83659109, 0.81504702,\n",
       "        0.83074534, 0.812749  , 0.82919255, 0.81469898, 0.82843895,\n",
       "        0.81635926, 0.83514774, 0.81225452, 0.82881487, 0.81789137,\n",
       "        0.83307573, 0.81853888, 0.83346243, 0.81399046, 0.83372003,\n",
       "        0.81060016, 0.82779923, 0.81072555, 0.82705611, 0.8125    ,\n",
       "        0.82960678, 0.81136543, 0.8287037 , 0.80841121, 0.82615385,\n",
       "        0.81068342, 0.82742681, 0.81274281, 0.82605364, 0.81254902,\n",
       "        0.82705611, 0.81395349, 0.82578665, 0.81371785, 0.82642089]),\n",
       " 'split3_test_score': array([0.88647746, 0.88647746, 0.8627451 , 0.88647746, 0.85036795,\n",
       "        0.85876623, 0.8372093 , 0.86557377, 0.84065041, 0.85369775,\n",
       "        0.83838384, 0.85714286, 0.83536091, 0.8512    , 0.83666667,\n",
       "        0.85346216, 0.83104285, 0.84713376, 0.8312552 , 0.85211831,\n",
       "        0.82985554, 0.84694687, 0.83059211, 0.84670373, 0.82465973,\n",
       "        0.84135754, 0.8319739 , 0.84670373, 0.82829889, 0.84202212,\n",
       "        0.82714055, 0.83805031, 0.82492114, 0.83633516, 0.82786229,\n",
       "        0.83764706, 0.82519685, 0.83684621, 0.82643312, 0.83568075,\n",
       "        0.82445141, 0.83424125, 0.82185273, 0.83398285, 0.82067345,\n",
       "        0.83139083, 0.82120253, 0.83203733, 0.81429681, 0.82625483,\n",
       "        0.81440877, 0.82498072, 0.81515855, 0.82407407, 0.81654957,\n",
       "        0.82434515, 0.81832298, 0.82652274, 0.81498829, 0.82461538]),\n",
       " 'split4_test_score': array([0.86804979, 0.86804979, 0.85639229, 0.86804979, 0.85365854,\n",
       "        0.8592233 , 0.8590604 , 0.86433794, 0.84547638, 0.85282418,\n",
       "        0.83651452, 0.85805934, 0.83280255, 0.8463357 , 0.83550489,\n",
       "        0.851705  , 0.83399523, 0.8465775 , 0.83171521, 0.84858044,\n",
       "        0.83835182, 0.8465775 , 0.83373885, 0.8519685 , 0.82834646,\n",
       "        0.84267913, 0.82836422, 0.84820031, 0.82574568, 0.84096199,\n",
       "        0.82296651, 0.84071484, 0.82472613, 0.83656081, 0.82343626,\n",
       "        0.83900929, 0.82435597, 0.83821263, 0.82213439, 0.83796296,\n",
       "        0.82251759, 0.83821263, 0.81710214, 0.83731689, 0.81895882,\n",
       "        0.83653108, 0.81417323, 0.83384615, 0.81429681, 0.83282209,\n",
       "        0.81411765, 0.83218391, 0.81733746, 0.83320523, 0.81910728,\n",
       "        0.83282209, 0.81110254, 0.83091048, 0.81148177, 0.83091048]),\n",
       " 'split5_test_score': array([0.87689713, 0.87689713, 0.85333333, 0.87689713, 0.85363859,\n",
       "        0.85644372, 0.84791844, 0.86156352, 0.84721099, 0.85530547,\n",
       "        0.8452579 , 0.86037127, 0.83980583, 0.85188151, 0.83194676,\n",
       "        0.85140562, 0.83198708, 0.84780876, 0.82934872, 0.84892086,\n",
       "        0.82587859, 0.83952569, 0.82160393, 0.84193805, 0.81789137,\n",
       "        0.83713611, 0.8236246 , 0.84085511, 0.81904762, 0.83596215,\n",
       "        0.81774194, 0.83530339, 0.82399369, 0.83241542, 0.82465973,\n",
       "        0.83241542, 0.81962025, 0.83333333, 0.81891026, 0.83137255,\n",
       "        0.82269504, 0.83255086, 0.82352941, 0.83163665, 0.81754111,\n",
       "        0.8299532 , 0.81969817, 0.8303362 , 0.81498829, 0.82801556,\n",
       "        0.81132075, 0.8271028 , 0.8174727 , 0.82763975, 0.81382561,\n",
       "        0.82608696, 0.815625  , 0.82581649, 0.81475667, 0.82453416]),\n",
       " 'split6_test_score': array([0.89003436, 0.89003436, 0.85766758, 0.89003436, 0.86811352,\n",
       "        0.87375415, 0.85414847, 0.88329135, 0.8557296 , 0.86229508,\n",
       "        0.84661525, 0.87027915, 0.84502447, 0.85783522, 0.84104289,\n",
       "        0.86601307, 0.83536091, 0.85348279, 0.83194676, 0.85691318,\n",
       "        0.82532051, 0.84335443, 0.82815057, 0.84920635, 0.82174261,\n",
       "        0.8427673 , 0.82457559, 0.84566929, 0.81904762, 0.83516484,\n",
       "        0.81964573, 0.83713611, 0.82250396, 0.8372457 , 0.81898632,\n",
       "        0.84144427, 0.81832543, 0.8359375 , 0.81547139, 0.83659109,\n",
       "        0.81299525, 0.83163665, 0.813749  , 0.83255086, 0.81388013,\n",
       "        0.83151326, 0.81240064, 0.82957198, 0.81191223, 0.8273717 ,\n",
       "        0.81522601, 0.82828283, 0.81157154, 0.82416731, 0.8135861 ,\n",
       "        0.8248062 , 0.81034483, 0.8257165 , 0.81516588, 0.82763975]),\n",
       " 'split7_test_score': array([0.87973087, 0.87973087, 0.86355476, 0.87973087, 0.86136177,\n",
       "        0.86786297, 0.8680203 , 0.87684729, 0.85988791, 0.86330935,\n",
       "        0.85454545, 0.86746988, 0.84761905, 0.856917  , 0.8534202 ,\n",
       "        0.86258936, 0.8436019 , 0.85153181, 0.84534413, 0.85263987,\n",
       "        0.83504341, 0.84343037, 0.84219002, 0.8503937 , 0.83596215,\n",
       "        0.84392157, 0.83481064, 0.84663537, 0.82269504, 0.83840749,\n",
       "        0.82813749, 0.83684621, 0.82010998, 0.83307332, 0.82494005,\n",
       "        0.84087363, 0.82785603, 0.84046693, 0.82829889, 0.83956386,\n",
       "        0.82490272, 0.83681361, 0.82371542, 0.83785881, 0.81987578,\n",
       "        0.83706564, 0.82103611, 0.83294842, 0.812983  , 0.83166795,\n",
       "        0.81818182, 0.82949309, 0.81235521, 0.83076923, 0.8171875 ,\n",
       "        0.82822086, 0.81607419, 0.8297546 , 0.81690141, 0.82848392]),\n",
       " 'split8_test_score': array([0.89737065, 0.89737065, 0.88309353, 0.89737065, 0.8627451 ,\n",
       "        0.86829268, 0.84417808, 0.87725041, 0.84422922, 0.85873903,\n",
       "        0.83973289, 0.8626506 , 0.83481064, 0.85214626, 0.83527454,\n",
       "        0.85966319, 0.83187251, 0.84748428, 0.82882883, 0.85150079,\n",
       "        0.82884311, 0.84639498, 0.82938776, 0.84948779, 0.82764098,\n",
       "        0.84639498, 0.82930757, 0.8490566 , 0.82362205, 0.84021824,\n",
       "        0.82268371, 0.8421875 , 0.82564504, 0.83916084, 0.82193959,\n",
       "        0.84031008, 0.81775701, 0.83384615, 0.81510622, 0.83102919,\n",
       "        0.81487219, 0.82949309, 0.81667978, 0.83333333, 0.81635802,\n",
       "        0.82949309, 0.81435257, 0.82695253, 0.81139338, 0.82578665,\n",
       "        0.81114551, 0.82379863, 0.80860876, 0.82388974, 0.81148177,\n",
       "        0.8250573 , 0.81134969, 0.82379863, 0.80897138, 0.82254379]),\n",
       " 'split9_test_score': array([0.87772194, 0.87772194, 0.86481647, 0.87772194, 0.84715447,\n",
       "        0.8534413 , 0.84589041, 0.86411717, 0.83091787, 0.84462151,\n",
       "        0.82003396, 0.85369775, 0.81189711, 0.83425852, 0.79124579,\n",
       "        0.8406027 , 0.80288462, 0.82612116, 0.7970174 , 0.83412322,\n",
       "        0.79018211, 0.81959565, 0.79062247, 0.82123341, 0.78459119,\n",
       "        0.81361176, 0.77777778, 0.81332301, 0.78213166, 0.80831409,\n",
       "        0.78115016, 0.80893683, 0.77899687, 0.8080185 , 0.77033493,\n",
       "        0.80429777, 0.77725857, 0.80429777, 0.77944664, 0.80674847,\n",
       "        0.77795031, 0.80245023, 0.77020602, 0.80275229, 0.7688716 ,\n",
       "        0.79847328, 0.76947286, 0.79786423, 0.77279753, 0.79512567,\n",
       "        0.7734375 , 0.79328757, 0.76970634, 0.79207921, 0.77379095,\n",
       "        0.79207921, 0.77503852, 0.79360244, 0.77484472, 0.79328757]),\n",
       " 'mean_test_score': array([0.88573064, 0.88573064, 0.86658835, 0.88573064, 0.86006337,\n",
       "        0.86608023, 0.85488114, 0.8726253 , 0.84674565, 0.85650569,\n",
       "        0.84184309, 0.86090501, 0.83604229, 0.84991786, 0.83279834,\n",
       "        0.8549174 , 0.82898335, 0.84470053, 0.82694847, 0.8483636 ,\n",
       "        0.82275719, 0.83943908, 0.82327481, 0.84319247, 0.81893745,\n",
       "        0.83746036, 0.81930446, 0.83970694, 0.81660588, 0.8334507 ,\n",
       "        0.81754114, 0.83471788, 0.81637786, 0.83165052, 0.81563177,\n",
       "        0.83398022, 0.81531396, 0.83161991, 0.81402241, 0.83141467,\n",
       "        0.81320911, 0.82893381, 0.81119305, 0.82929001, 0.81050894,\n",
       "        0.82817274, 0.80980569, 0.82698479, 0.8075879 , 0.82511638,\n",
       "        0.80866597, 0.82427005, 0.80856527, 0.82406516, 0.81008503,\n",
       "        0.82373126, 0.80899265, 0.82393923, 0.80846282, 0.82295002]),\n",
       " 'std_test_score': array([0.00951899, 0.00951899, 0.0122965 , 0.00951899, 0.00947871,\n",
       "        0.00914054, 0.01220149, 0.008552  , 0.00969669, 0.0080165 ,\n",
       "        0.0100478 , 0.00666797, 0.009816  , 0.00739817, 0.01539783,\n",
       "        0.00759573, 0.01030595, 0.00809617, 0.01242789, 0.00679011,\n",
       "        0.01276184, 0.00803205, 0.01313342, 0.0089437 , 0.01306617,\n",
       "        0.00951282, 0.01561048, 0.01068603, 0.01233063, 0.00970277,\n",
       "        0.01265231, 0.00926552, 0.01324677, 0.00849667, 0.01585808,\n",
       "        0.01048735, 0.01369268, 0.00967793, 0.01298003, 0.00891923,\n",
       "        0.01324231, 0.00949327, 0.01499697, 0.00953971, 0.01466411,\n",
       "        0.01029795, 0.0144048 , 0.00991786, 0.01195501, 0.01025186,\n",
       "        0.01240852, 0.01055715, 0.01349182, 0.0111194 , 0.01285491,\n",
       "        0.01084902, 0.01191443, 0.01034416, 0.01194446, 0.01013284]),\n",
       " 'rank_test_score': array([ 1,  1,  5,  1,  8,  6, 11,  4, 14,  9, 17,  7, 21, 12, 25, 10, 30,\n",
       "        15, 34, 13, 42, 19, 40, 16, 44, 20, 43, 18, 46, 24, 45, 22, 47, 26,\n",
       "        48, 23, 49, 27, 50, 28, 51, 31, 52, 29, 53, 32, 55, 33, 60, 35, 57,\n",
       "        36, 58, 37, 54, 39, 56, 38, 59, 41])}"
      ]
     },
     "execution_count": 123,
     "metadata": {},
     "output_type": "execute_result"
    }
   ],
   "source": [
    "# view the complete results (list of named tuples)\n",
    "grid.cv_results_"
   ]
  },
  {
   "cell_type": "code",
   "execution_count": 124,
   "id": "beneficial-consortium",
   "metadata": {},
   "outputs": [
    {
     "name": "stdout",
     "output_type": "stream",
     "text": [
      "0.885730640682711\n",
      "{'n_neighbors': 1, 'weights': 'uniform'}\n",
      "KNeighborsClassifier(n_neighbors=1)\n"
     ]
    }
   ],
   "source": [
    "# examine the best model\n",
    "\n",
    "# Single best score achieved across all params (k)\n",
    "print(grid.best_score_)\n",
    "\n",
    "# Dictionary containing the parameters (k) used to generate that score\n",
    "print(grid.best_params_)\n",
    "\n",
    "# Actual model object fit with those best parameters\n",
    "# Shows default parameters that we did not specify\n",
    "print(grid.best_estimator_)"
   ]
  },
  {
   "cell_type": "markdown",
   "id": "general-manitoba",
   "metadata": {},
   "source": [
    "# Applying the best params"
   ]
  },
  {
   "cell_type": "code",
   "execution_count": 61,
   "id": "incorporate-symbol",
   "metadata": {},
   "outputs": [],
   "source": [
    "# Seperate features from label\n",
    "\n",
    "X = df.loc[:,['danceability', 'energy', 'key', 'loudness', 'mode', 'speechiness',\n",
    "       'acousticness', 'instrumentalness', 'liveness', 'valence', 'tempo','year']]\n",
    "\n",
    "y = df['success']"
   ]
  },
  {
   "cell_type": "code",
   "execution_count": 62,
   "id": "hourly-passing",
   "metadata": {},
   "outputs": [],
   "source": [
    "#Split data into 2: 80% train, 20% test\n",
    "X_train, X_test, y_train, y_test = train_test_split(X, y, test_size=0.2, stratify=y)"
   ]
  },
  {
   "cell_type": "code",
   "execution_count": 63,
   "id": "athletic-manufacturer",
   "metadata": {},
   "outputs": [],
   "source": [
    "# Oversample\n",
    "\n",
    "ada = ADASYN(random_state=42)\n",
    "\n",
    "# Oversample training data\n",
    "X_adasyn_tr, y_adasyn_tr = ada.fit_resample(X_train,y_train)"
   ]
  },
  {
   "cell_type": "code",
   "execution_count": 64,
   "id": "secret-suffering",
   "metadata": {},
   "outputs": [],
   "source": [
    "# Scale features \n",
    "scaler = StandardScaler()\n",
    "X_adasyn_tr = scaler.fit_transform(X_adasyn_tr)\n",
    "X_test = scaler.fit_transform(X_test)"
   ]
  },
  {
   "cell_type": "code",
   "execution_count": 86,
   "id": "accepting-pharmacology",
   "metadata": {},
   "outputs": [],
   "source": [
    "# run initial logistic regression\n",
    "# Define KNN\n",
    "model = KNeighborsClassifier(n_neighbors = 8, weights = 'uniform')\n",
    "model.fit(X_adasyn_tr, y_adasyn_tr)\n",
    "y_predict = model.predict(X_test)"
   ]
  },
  {
   "cell_type": "code",
   "execution_count": 87,
   "id": "moving-carnival",
   "metadata": {},
   "outputs": [
    {
     "name": "stdout",
     "output_type": "stream",
     "text": [
      "Train Scores\n",
      "Accuracy score:  87.23%\n"
     ]
    }
   ],
   "source": [
    "Classes.train_scores(model,X_adasyn_tr, y_adasyn_tr)"
   ]
  },
  {
   "cell_type": "code",
   "execution_count": 88,
   "id": "gothic-mambo",
   "metadata": {},
   "outputs": [
    {
     "name": "stdout",
     "output_type": "stream",
     "text": [
      "Test Scores\n",
      "Score:  65.73%\n",
      "F1 score:  30.24%\n",
      "Precision:  20.21%,  Test Recall:  60.00%\n"
     ]
    }
   ],
   "source": [
    "Classes.test_scores(y_test,y_predict)"
   ]
  },
  {
   "cell_type": "code",
   "execution_count": 12,
   "id": "heavy-kingdom",
   "metadata": {},
   "outputs": [
    {
     "data": {
      "text/plain": [
       "Text(93.77777777777786, 0.5, 'actual')"
      ]
     },
     "execution_count": 12,
     "metadata": {},
     "output_type": "execute_result"
    },
    {
     "data": {
      "image/png": "[encoded data removed]",
      "text/plain": [
       "<Figure size 480x320 with 2 Axes>"
      ]
     },
     "metadata": {
      "needs_background": "light"
     },
     "output_type": "display_data"
    }
   ],
   "source": [
    "# Plot confusion matrix\n",
    "success_confusion = confusion_matrix(y_test, y_predict)\n",
    "plt.figure(dpi=80)\n",
    "sns.heatmap(success_confusion, cmap=plt.cm.Blues, annot=True, square=True, fmt='d',\n",
    "        xticklabels=['not a success', 'success'],\n",
    "        yticklabels=['not a success', 'success']);\n",
    "plt.xlabel('prediction')\n",
    "plt.ylabel('actual')"
   ]
  },
  {
   "cell_type": "markdown",
   "id": "cordless-accordance",
   "metadata": {},
   "source": [
    "# Pickle out model - no aritst"
   ]
  },
  {
   "cell_type": "code",
   "execution_count": 121,
   "id": "contemporary-edition",
   "metadata": {},
   "outputs": [],
   "source": [
    "# Pickle model\n",
    "path = r\"C:\\Users\\Andrew\\Documents\\Metis\\TikTok_Hit_Predictor\\Pickle\\knn_model.pkl\"\n",
    "pickle.dump(model, open(path, 'wb'))"
   ]
  }
 ],
 "metadata": {
  "kernelspec": {
   "display_name": "Python 3",
   "language": "python",
   "name": "python3"
  },
  "language_info": {
   "codemirror_mode": {
    "name": "ipython",
    "version": 3
   },
   "file_extension": ".py",
   "mimetype": "text/x-python",
   "name": "python",
   "nbconvert_exporter": "python",
   "pygments_lexer": "ipython3",
   "version": "3.8.8"
  }
 },
 "nbformat": 4,
 "nbformat_minor": 5
}
