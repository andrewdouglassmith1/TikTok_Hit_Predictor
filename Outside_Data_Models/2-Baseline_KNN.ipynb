{
 "cells": [
  {
   "cell_type": "markdown",
   "id": "spoken-intersection",
   "metadata": {},
   "source": [
    "# Notebook Summary"
   ]
  },
  {
   "cell_type": "markdown",
   "id": "accessible-neighborhood",
   "metadata": {},
   "source": [
    "In this notebook I optimize a KNN model"
   ]
  },
  {
   "cell_type": "code",
   "execution_count": 1,
   "id": "stone-training",
   "metadata": {},
   "outputs": [],
   "source": [
    "import autoreload\n",
    "%load_ext autoreload\n",
    "%autoreload 2\n",
    "%reload_ext autoreload\n",
    "import Classes"
   ]
  },
  {
   "cell_type": "code",
   "execution_count": 2,
   "id": "furnished-bangkok",
   "metadata": {},
   "outputs": [],
   "source": [
    "import pickle\n",
    "from sklearn.linear_model import LogisticRegression\n",
    "import sklearn.model_selection\n",
    "from sklearn.model_selection import train_test_split\n",
    "import pandas as pd\n",
    "from sklearn.preprocessing import StandardScaler\n",
    "from sklearn.metrics import f1_score\n",
    "from sklearn.metrics import make_scorer, accuracy_score, precision_score, recall_score, f1_score\n",
    "from sklearn.model_selection import RandomizedSearchCV\n",
    "from sklearn.model_selection import GridSearchCV\n",
    "from imblearn.over_sampling import ADASYN\n",
    "from sklearn.neighbors import KNeighborsClassifier\n",
    "from sklearn.model_selection import cross_validate"
   ]
  },
  {
   "cell_type": "markdown",
   "id": "animated-health",
   "metadata": {},
   "source": [
    "# Pickle in Data"
   ]
  },
  {
   "cell_type": "code",
   "execution_count": 4,
   "id": "apparent-seven",
   "metadata": {},
   "outputs": [
    {
     "data": {
      "text/html": [
       "<div>\n",
       "<style scoped>\n",
       "    .dataframe tbody tr th:only-of-type {\n",
       "        vertical-align: middle;\n",
       "    }\n",
       "\n",
       "    .dataframe tbody tr th {\n",
       "        vertical-align: top;\n",
       "    }\n",
       "\n",
       "    .dataframe thead th {\n",
       "        text-align: right;\n",
       "    }\n",
       "</style>\n",
       "<table border=\"1\" class=\"dataframe\">\n",
       "  <thead>\n",
       "    <tr style=\"text-align: right;\">\n",
       "      <th></th>\n",
       "      <th>danceability</th>\n",
       "      <th>energy</th>\n",
       "      <th>key</th>\n",
       "      <th>loudness</th>\n",
       "      <th>mode</th>\n",
       "      <th>speechiness</th>\n",
       "      <th>acousticness</th>\n",
       "      <th>instrumentalness</th>\n",
       "      <th>liveness</th>\n",
       "      <th>valence</th>\n",
       "      <th>tempo</th>\n",
       "      <th>year</th>\n",
       "      <th>spotify_artists</th>\n",
       "      <th>success</th>\n",
       "    </tr>\n",
       "  </thead>\n",
       "  <tbody>\n",
       "    <tr>\n",
       "      <th>0</th>\n",
       "      <td>0.880</td>\n",
       "      <td>0.501</td>\n",
       "      <td>2.0</td>\n",
       "      <td>-6.774</td>\n",
       "      <td>1.0</td>\n",
       "      <td>0.062</td>\n",
       "      <td>0.0494</td>\n",
       "      <td>0.0695</td>\n",
       "      <td>0.4360</td>\n",
       "      <td>0.459</td>\n",
       "      <td>120.038</td>\n",
       "      <td>2020.0</td>\n",
       "      <td>0</td>\n",
       "      <td>1.0</td>\n",
       "    </tr>\n",
       "    <tr>\n",
       "      <th>1</th>\n",
       "      <td>0.935</td>\n",
       "      <td>0.454</td>\n",
       "      <td>1.0</td>\n",
       "      <td>-7.509</td>\n",
       "      <td>1.0</td>\n",
       "      <td>0.375</td>\n",
       "      <td>0.0194</td>\n",
       "      <td>0.0000</td>\n",
       "      <td>0.0824</td>\n",
       "      <td>0.357</td>\n",
       "      <td>133.073</td>\n",
       "      <td>2018.0</td>\n",
       "      <td>1</td>\n",
       "      <td>1.0</td>\n",
       "    </tr>\n",
       "  </tbody>\n",
       "</table>\n",
       "</div>"
      ],
      "text/plain": [
       "   danceability  energy  key  loudness  mode  speechiness  acousticness  \\\n",
       "0         0.880   0.501  2.0    -6.774   1.0        0.062        0.0494   \n",
       "1         0.935   0.454  1.0    -7.509   1.0        0.375        0.0194   \n",
       "\n",
       "   instrumentalness  liveness  valence    tempo    year  spotify_artists  \\\n",
       "0            0.0695    0.4360    0.459  120.038  2020.0                0   \n",
       "1            0.0000    0.0824    0.357  133.073  2018.0                1   \n",
       "\n",
       "   success  \n",
       "0      1.0  \n",
       "1      1.0  "
      ]
     },
     "execution_count": 4,
     "metadata": {},
     "output_type": "execute_result"
    }
   ],
   "source": [
    "# Pickle in factorized data\n",
    "\n",
    "path = r\"C:\\Users\\Andrew\\Documents\\Metis\\TikTok_Hit_Predictor\\Pickle\\supervised_factorized.pkl\"\n",
    "\n",
    "df = pickle.load(open(path,'rb'))\n",
    "df.head(2)"
   ]
  },
  {
   "cell_type": "markdown",
   "id": "typical-russia",
   "metadata": {},
   "source": [
    "# CV KNN"
   ]
  },
  {
   "cell_type": "code",
   "execution_count": 5,
   "id": "noticed-uruguay",
   "metadata": {},
   "outputs": [],
   "source": [
    "# Seperate features from label\n",
    "\n",
    "X = df.loc[:,['danceability', 'energy', 'key', 'loudness', 'mode', 'speechiness',\n",
    "       'acousticness', 'instrumentalness', 'liveness', 'valence', 'tempo','year','spotify_artists']]\n",
    "\n",
    "y = df['success']"
   ]
  },
  {
   "cell_type": "code",
   "execution_count": 6,
   "id": "average-supply",
   "metadata": {},
   "outputs": [],
   "source": [
    "#Split data into 3: 60% train, 20% validation, 20% test\n",
    "X_train, X_test, y_train, y_test = train_test_split(X, y, test_size=0.2, stratify=y)"
   ]
  },
  {
   "cell_type": "code",
   "execution_count": 7,
   "id": "preliminary-approach",
   "metadata": {},
   "outputs": [],
   "source": [
    "# Oversample\n",
    "\n",
    "ada = ADASYN(random_state=42)\n",
    "\n",
    "# Oversample training data\n",
    "X_adasyn_tr, y_adasyn_tr = ada.fit_resample(X_train,y_train)"
   ]
  },
  {
   "cell_type": "code",
   "execution_count": 8,
   "id": "transparent-efficiency",
   "metadata": {},
   "outputs": [],
   "source": [
    "# Scale features \n",
    "scaler = StandardScaler()\n",
    "X_adasyn_tr = scaler.fit_transform(X_adasyn_tr)"
   ]
  },
  {
   "cell_type": "code",
   "execution_count": 9,
   "id": "adequate-hygiene",
   "metadata": {},
   "outputs": [],
   "source": [
    "# specify \"parameter distributions\" rather than a \"parameter grid\"\n",
    "k_range = list(range(1, 31))\n",
    "weight_options = ['uniform', 'distance']\n",
    "param_dist = dict(n_neighbors=k_range, weights=weight_options)"
   ]
  },
  {
   "cell_type": "code",
   "execution_count": 10,
   "id": "increased-philadelphia",
   "metadata": {},
   "outputs": [
    {
     "name": "stdout",
     "output_type": "stream",
     "text": [
      "{'n_neighbors': [1, 2, 3, 4, 5, 6, 7, 8, 9, 10, 11, 12, 13, 14, 15, 16, 17, 18, 19, 20, 21, 22, 23, 24, 25, 26, 27, 28, 29, 30], 'weights': ['uniform', 'distance']}\n"
     ]
    }
   ],
   "source": [
    "# create a parameter grid: map the parameter names to the values that should be searched\n",
    "param_grid = dict(n_neighbors=k_range, weights=weight_options)\n",
    "print(param_grid)"
   ]
  },
  {
   "cell_type": "code",
   "execution_count": 11,
   "id": "confused-metropolitan",
   "metadata": {},
   "outputs": [],
   "source": [
    "# Define KNN\n",
    "knn = KNeighborsClassifier()"
   ]
  },
  {
   "cell_type": "code",
   "execution_count": 12,
   "id": "suspended-luther",
   "metadata": {},
   "outputs": [
    {
     "data": {
      "text/plain": [
       "{'mean_fit_time': array([0.02309914, 0.02293763, 0.02289209, 0.02371006, 0.02284214,\n",
       "        0.02304583, 0.02329388, 0.02289019, 0.02320864, 0.0236172 ]),\n",
       " 'std_fit_time': array([0.00031483, 0.00084126, 0.00028127, 0.00059262, 0.00053741,\n",
       "        0.00037344, 0.00099755, 0.00069059, 0.00039231, 0.00064798]),\n",
       " 'mean_score_time': array([0.09803848, 0.11643262, 0.20433989, 0.19791222, 0.14766216,\n",
       "        0.21684854, 0.1823195 , 0.21411512, 0.16821129, 0.20579994]),\n",
       " 'std_score_time': array([0.00370722, 0.00473737, 0.00239599, 0.00415684, 0.00375835,\n",
       "        0.00200153, 0.0059155 , 0.00249291, 0.00263487, 0.00294983]),\n",
       " 'param_weights': masked_array(data=['uniform', 'distance', 'uniform', 'distance',\n",
       "                    'distance', 'uniform', 'distance', 'uniform',\n",
       "                    'uniform', 'distance'],\n",
       "              mask=[False, False, False, False, False, False, False, False,\n",
       "                    False, False],\n",
       "        fill_value='?',\n",
       "             dtype=object),\n",
       " 'param_n_neighbors': masked_array(data=[1, 3, 19, 23, 7, 28, 17, 25, 7, 29],\n",
       "              mask=[False, False, False, False, False, False, False, False,\n",
       "                    False, False],\n",
       "        fill_value='?',\n",
       "             dtype=object),\n",
       " 'params': [{'weights': 'uniform', 'n_neighbors': 1},\n",
       "  {'weights': 'distance', 'n_neighbors': 3},\n",
       "  {'weights': 'uniform', 'n_neighbors': 19},\n",
       "  {'weights': 'distance', 'n_neighbors': 23},\n",
       "  {'weights': 'distance', 'n_neighbors': 7},\n",
       "  {'weights': 'uniform', 'n_neighbors': 28},\n",
       "  {'weights': 'distance', 'n_neighbors': 17},\n",
       "  {'weights': 'uniform', 'n_neighbors': 25},\n",
       "  {'weights': 'uniform', 'n_neighbors': 7},\n",
       "  {'weights': 'distance', 'n_neighbors': 29}],\n",
       " 'split0_test_score': array([0.91084559, 0.89613971, 0.85477941, 0.86488971, 0.890625  ,\n",
       "        0.86121324, 0.87224265, 0.85569853, 0.87959559, 0.86580882]),\n",
       " 'split1_test_score': array([0.92922794, 0.92003676, 0.88235294, 0.89154412, 0.90808824,\n",
       "        0.88511029, 0.89705882, 0.88602941, 0.90165441, 0.88419118]),\n",
       " 'split2_test_score': array([0.91360294, 0.90533088, 0.86213235, 0.86121324, 0.890625  ,\n",
       "        0.86121324, 0.87408088, 0.85294118, 0.88694853, 0.86213235]),\n",
       " 'split3_test_score': array([0.91819853, 0.89705882, 0.875     , 0.87040441, 0.890625  ,\n",
       "        0.87408088, 0.88419118, 0.87132353, 0.88602941, 0.86856618]),\n",
       " 'split4_test_score': array([0.921875  , 0.91176471, 0.87316176, 0.87224265, 0.89705882,\n",
       "        0.87132353, 0.87867647, 0.86672794, 0.89430147, 0.86856618]),\n",
       " 'split5_test_score': array([0.93474265, 0.91636029, 0.87959559, 0.87775735, 0.90257353,\n",
       "        0.86856618, 0.88327206, 0.87132353, 0.89797794, 0.87683824]),\n",
       " 'split6_test_score': array([0.91452206, 0.90165441, 0.86121324, 0.86213235, 0.88878676,\n",
       "        0.86029412, 0.86948529, 0.85845588, 0.87959559, 0.86213235]),\n",
       " 'split7_test_score': array([0.93290441, 0.91268382, 0.87867647, 0.87591912, 0.90625   ,\n",
       "        0.88143382, 0.88419118, 0.87775735, 0.90349265, 0.87775735]),\n",
       " 'split8_test_score': array([0.92830882, 0.90900735, 0.87867647, 0.88419118, 0.89981618,\n",
       "        0.88051471, 0.88235294, 0.87683824, 0.89430147, 0.87775735]),\n",
       " 'split9_test_score': array([0.93198529, 0.91452206, 0.87959559, 0.88878676, 0.89522059,\n",
       "        0.87683824, 0.89154412, 0.87867647, 0.88970588, 0.87959559]),\n",
       " 'mean_test_score': array([0.92362132, 0.90845588, 0.87251838, 0.87490809, 0.89696691,\n",
       "        0.87205882, 0.88170956, 0.86957721, 0.89136029, 0.87233456]),\n",
       " 'std_test_score': array([0.00843838, 0.0077468 , 0.00910854, 0.01021379, 0.00663358,\n",
       "        0.00862013, 0.00808667, 0.01039416, 0.00801057, 0.00742668]),\n",
       " 'rank_test_score': array([ 1,  2,  7,  6,  3,  9,  5, 10,  4,  8])}"
      ]
     },
     "execution_count": 12,
     "metadata": {},
     "output_type": "execute_result"
    }
   ],
   "source": [
    "# n_iter controls the number of searches\n",
    "rand = RandomizedSearchCV(knn, param_dist, cv=10, scoring='accuracy', n_iter=10, random_state=42)\n",
    "rand.fit(X_adasyn_tr, y_adasyn_tr)\n",
    "rand.cv_results_"
   ]
  },
  {
   "cell_type": "code",
   "execution_count": 14,
   "id": "precise-alpha",
   "metadata": {},
   "outputs": [
    {
     "name": "stdout",
     "output_type": "stream",
     "text": [
      "0.9236213235294117\n",
      "{'weights': 'uniform', 'n_neighbors': 1}\n",
      "KNeighborsClassifier(n_neighbors=1)\n"
     ]
    }
   ],
   "source": [
    "# examine the best model\n",
    "print(rand.best_score_)\n",
    "print(rand.best_params_)\n",
    "print(rand.best_estimator_)"
   ]
  },
  {
   "cell_type": "markdown",
   "id": "general-banks",
   "metadata": {},
   "source": [
    "# Applying best params"
   ]
  },
  {
   "cell_type": "code",
   "execution_count": 15,
   "id": "representative-defensive",
   "metadata": {},
   "outputs": [],
   "source": [
    "# Seperate features from label\n",
    "\n",
    "X = df.loc[:,['danceability', 'energy', 'key', 'loudness', 'mode', 'speechiness',\n",
    "       'acousticness', 'instrumentalness', 'liveness', 'valence', 'tempo','year','spotify_artists']]\n",
    "\n",
    "y = df['success']"
   ]
  },
  {
   "cell_type": "code",
   "execution_count": 16,
   "id": "joint-royal",
   "metadata": {},
   "outputs": [],
   "source": [
    "#Split data into 3: 60% train, 20% test\n",
    "X_train, X_test, y_train, y_test = train_test_split(X, y, test_size=0.2, stratify=y)"
   ]
  },
  {
   "cell_type": "code",
   "execution_count": 17,
   "id": "chubby-sheffield",
   "metadata": {},
   "outputs": [],
   "source": [
    "# Oversample\n",
    "\n",
    "ada = ADASYN(random_state=42)\n",
    "\n",
    "# Oversample training data\n",
    "X_adasyn_tr, y_adasyn_tr = ada.fit_resample(X_train,y_train)\n",
    "X_adasyn_test, y_adasyn_test = ada.fit_resample(X_test,y_test)"
   ]
  },
  {
   "cell_type": "code",
   "execution_count": 18,
   "id": "square-soccer",
   "metadata": {},
   "outputs": [],
   "source": [
    "# Scale features \n",
    "scaler = StandardScaler()\n",
    "X_adasyn_tr = scaler.fit_transform(X_adasyn_tr)\n",
    "X_adasyn_test = scaler.fit_transform(X_adasyn_test)"
   ]
  },
  {
   "cell_type": "code",
   "execution_count": 48,
   "id": "requested-horizon",
   "metadata": {},
   "outputs": [],
   "source": [
    "# run initial logistic regression\n",
    "# Define KNN\n",
    "model = KNeighborsClassifier(n_neighbors = 10, weights = 'uniform')\n",
    "model.fit(X_adasyn_tr, y_adasyn_tr)\n",
    "y_predict = model.predict(X_adasyn_test)"
   ]
  },
  {
   "cell_type": "code",
   "execution_count": 49,
   "id": "friendly-outside",
   "metadata": {},
   "outputs": [
    {
     "name": "stdout",
     "output_type": "stream",
     "text": [
      "Train Scores\n",
      "Accuracy score:  91.45%\n"
     ]
    }
   ],
   "source": [
    "Classes.train_scores(model,X_adasyn_tr, y_adasyn_tr)"
   ]
  },
  {
   "cell_type": "code",
   "execution_count": 50,
   "id": "looking-boxing",
   "metadata": {},
   "outputs": [
    {
     "name": "stdout",
     "output_type": "stream",
     "text": [
      "Test Scores\n",
      "Score:  87.40%\n",
      "F1 score:  88.21%\n",
      "Precision:  82.68%,  Test Recall:  94.54%\n"
     ]
    }
   ],
   "source": [
    "Classes.test_scores(y_adasyn_test,y_predict)"
   ]
  },
  {
   "cell_type": "markdown",
   "id": "competent-transcript",
   "metadata": {},
   "source": [
    "10 neighbors appears to be the best K valuem, the grid search i tried was too wide"
   ]
  },
  {
   "cell_type": "markdown",
   "id": "cordless-accordance",
   "metadata": {},
   "source": [
    "# Pickle out model"
   ]
  },
  {
   "cell_type": "code",
   "execution_count": 52,
   "id": "contemporary-edition",
   "metadata": {},
   "outputs": [],
   "source": [
    "# Pickle model\n",
    "path = r\"C:\\Users\\Andrew\\Documents\\Metis\\TikTok_Hit_Predictor\\Pickle\\knn_model.pkl\"\n",
    "pickle.dump(model, open(path, 'wb'))"
   ]
  }
 ],
 "metadata": {
  "kernelspec": {
   "display_name": "Python 3",
   "language": "python",
   "name": "python3"
  },
  "language_info": {
   "codemirror_mode": {
    "name": "ipython",
    "version": 3
   },
   "file_extension": ".py",
   "mimetype": "text/x-python",
   "name": "python",
   "nbconvert_exporter": "python",
   "pygments_lexer": "ipython3",
   "version": "3.8.8"
  }
 },
 "nbformat": 4,
 "nbformat_minor": 5
}
