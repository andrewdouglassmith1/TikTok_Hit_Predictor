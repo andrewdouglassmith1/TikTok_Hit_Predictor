{
 "cells": [
  {
   "cell_type": "markdown",
   "id": "revised-lightweight",
   "metadata": {},
   "source": [
    "# Notebook Summary\n",
    "In this notebook I test various decision tree based models"
   ]
  },
  {
   "cell_type": "code",
   "execution_count": 2,
   "id": "handy-intake",
   "metadata": {},
   "outputs": [],
   "source": [
    "import autoreload\n",
    "%load_ext autoreload\n",
    "%autoreload 2\n",
    "%reload_ext autoreload\n",
    "import Classes"
   ]
  },
  {
   "cell_type": "code",
   "execution_count": 3,
   "id": "endless-turkey",
   "metadata": {},
   "outputs": [],
   "source": [
    "import pickle\n",
    "from sklearn.model_selection import train_test_split\n",
    "import pandas as pd\n",
    "from sklearn.preprocessing import StandardScaler\n",
    "from sklearn.metrics import f1_score\n",
    "from sklearn.metrics import precision_score, recall_score, precision_recall_curve,f1_score, fbeta_score\n",
    "from imblearn.over_sampling import ADASYN\n",
    "from sklearn.ensemble import RandomForestClassifier\n",
    "from imblearn.ensemble import BalancedBaggingClassifier\n",
    "from imblearn.ensemble import BalancedRandomForestClassifier"
   ]
  },
  {
   "cell_type": "markdown",
   "id": "short-athletics",
   "metadata": {},
   "source": [
    "# Pickle in Data"
   ]
  },
  {
   "cell_type": "code",
   "execution_count": 4,
   "id": "manual-jordan",
   "metadata": {},
   "outputs": [
    {
     "data": {
      "text/html": [
       "<div>\n",
       "<style scoped>\n",
       "    .dataframe tbody tr th:only-of-type {\n",
       "        vertical-align: middle;\n",
       "    }\n",
       "\n",
       "    .dataframe tbody tr th {\n",
       "        vertical-align: top;\n",
       "    }\n",
       "\n",
       "    .dataframe thead th {\n",
       "        text-align: right;\n",
       "    }\n",
       "</style>\n",
       "<table border=\"1\" class=\"dataframe\">\n",
       "  <thead>\n",
       "    <tr style=\"text-align: right;\">\n",
       "      <th></th>\n",
       "      <th>level_0</th>\n",
       "      <th>danceability</th>\n",
       "      <th>energy</th>\n",
       "      <th>key</th>\n",
       "      <th>loudness</th>\n",
       "      <th>mode</th>\n",
       "      <th>speechiness</th>\n",
       "      <th>acousticness</th>\n",
       "      <th>instrumentalness</th>\n",
       "      <th>liveness</th>\n",
       "      <th>...</th>\n",
       "      <th>TikTok Link</th>\n",
       "      <th>Release Date</th>\n",
       "      <th>Position Change</th>\n",
       "      <th>spotify_uri</th>\n",
       "      <th>audio_analysis</th>\n",
       "      <th>feature_analysis</th>\n",
       "      <th>success</th>\n",
       "      <th>year</th>\n",
       "      <th>top_albums</th>\n",
       "      <th>top_artists</th>\n",
       "    </tr>\n",
       "  </thead>\n",
       "  <tbody>\n",
       "    <tr>\n",
       "      <th>0</th>\n",
       "      <td>0</td>\n",
       "      <td>0.880</td>\n",
       "      <td>0.501</td>\n",
       "      <td>2.0</td>\n",
       "      <td>-6.774</td>\n",
       "      <td>1.0</td>\n",
       "      <td>0.062</td>\n",
       "      <td>0.0494</td>\n",
       "      <td>0.0695</td>\n",
       "      <td>0.4360</td>\n",
       "      <td>...</td>\n",
       "      <td>https://www.tiktok.com/music/All-TikTok-Mashup...</td>\n",
       "      <td>2020-08-17</td>\n",
       "      <td>23.0</td>\n",
       "      <td>5TpvLkESnw1g9wDz52efeO</td>\n",
       "      <td>{'meta': {'analyzer_version': '4.0.0', 'platfo...</td>\n",
       "      <td>{'danceability': 0.88, 'energy': 0.501, 'key':...</td>\n",
       "      <td>1</td>\n",
       "      <td>2020.0</td>\n",
       "      <td>Other</td>\n",
       "      <td>Other</td>\n",
       "    </tr>\n",
       "    <tr>\n",
       "      <th>1</th>\n",
       "      <td>162</td>\n",
       "      <td>0.935</td>\n",
       "      <td>0.454</td>\n",
       "      <td>1.0</td>\n",
       "      <td>-7.509</td>\n",
       "      <td>1.0</td>\n",
       "      <td>0.375</td>\n",
       "      <td>0.0194</td>\n",
       "      <td>0.0000</td>\n",
       "      <td>0.0824</td>\n",
       "      <td>...</td>\n",
       "      <td>https://www.tiktok.com/music/WAP-Megan-Thee-St...</td>\n",
       "      <td>2018-03-22</td>\n",
       "      <td>15.0</td>\n",
       "      <td>4Oun2ylbjFKMPTiaSbbCih</td>\n",
       "      <td>{'meta': {'analyzer_version': '4.0.0', 'platfo...</td>\n",
       "      <td>{'danceability': 0.935, 'energy': 0.454, 'key'...</td>\n",
       "      <td>1</td>\n",
       "      <td>2018.0</td>\n",
       "      <td>Other</td>\n",
       "      <td>Cardi B</td>\n",
       "    </tr>\n",
       "  </tbody>\n",
       "</table>\n",
       "<p>2 rows × 45 columns</p>\n",
       "</div>"
      ],
      "text/plain": [
       "   level_0  danceability  energy  key  loudness  mode  speechiness  \\\n",
       "0        0         0.880   0.501  2.0    -6.774   1.0        0.062   \n",
       "1      162         0.935   0.454  1.0    -7.509   1.0        0.375   \n",
       "\n",
       "   acousticness  instrumentalness  liveness  ...  \\\n",
       "0        0.0494            0.0695    0.4360  ...   \n",
       "1        0.0194            0.0000    0.0824  ...   \n",
       "\n",
       "                                         TikTok Link  Release Date  \\\n",
       "0  https://www.tiktok.com/music/All-TikTok-Mashup...    2020-08-17   \n",
       "1  https://www.tiktok.com/music/WAP-Megan-Thee-St...    2018-03-22   \n",
       "\n",
       "  Position Change             spotify_uri  \\\n",
       "0            23.0  5TpvLkESnw1g9wDz52efeO   \n",
       "1            15.0  4Oun2ylbjFKMPTiaSbbCih   \n",
       "\n",
       "                                      audio_analysis  \\\n",
       "0  {'meta': {'analyzer_version': '4.0.0', 'platfo...   \n",
       "1  {'meta': {'analyzer_version': '4.0.0', 'platfo...   \n",
       "\n",
       "                                    feature_analysis success    year  \\\n",
       "0  {'danceability': 0.88, 'energy': 0.501, 'key':...       1  2020.0   \n",
       "1  {'danceability': 0.935, 'energy': 0.454, 'key'...       1  2018.0   \n",
       "\n",
       "   top_albums top_artists  \n",
       "0       Other       Other  \n",
       "1       Other     Cardi B  \n",
       "\n",
       "[2 rows x 45 columns]"
      ]
     },
     "execution_count": 4,
     "metadata": {},
     "output_type": "execute_result"
    }
   ],
   "source": [
    "# Pickle in cleaned dataframe\n",
    "\n",
    "# Designate path\n",
    "\n",
    "path = r\"C:\\Users\\Andrew\\Documents\\Metis\\TikTok_Song_Predictor\\Pickle\\df_agg.pkl\"\n",
    "\n",
    "df = pickle.load(open(path,'rb'))\n",
    "df.head(2)"
   ]
  },
  {
   "cell_type": "markdown",
   "id": "funny-binary",
   "metadata": {},
   "source": [
    "# 1) Random Forest"
   ]
  },
  {
   "cell_type": "code",
   "execution_count": 5,
   "id": "comprehensive-radiation",
   "metadata": {},
   "outputs": [],
   "source": [
    "# Seperate features from label\n",
    "\n",
    "X = df.loc[:,['danceability', 'energy', 'key', 'loudness', 'mode', 'speechiness',\n",
    "       'acousticness', 'instrumentalness', 'liveness', 'valence', 'tempo','year']]\n",
    "\n",
    "y = df['success']"
   ]
  },
  {
   "cell_type": "code",
   "execution_count": 6,
   "id": "relative-actress",
   "metadata": {},
   "outputs": [],
   "source": [
    "#Split data into 3: 60% train, 20% validation, 20% test\n",
    "X_train, X_test, y_train, y_test = train_test_split(X, y, test_size=0.2, stratify=y)\n",
    "X_train, X_val, y_train, y_val = train_test_split(X_train, y_train, test_size=0.25,stratify=y_train)"
   ]
  },
  {
   "cell_type": "code",
   "execution_count": 7,
   "id": "sophisticated-filing",
   "metadata": {},
   "outputs": [],
   "source": [
    "# Oversample training data\n",
    "ada = ADASYN(random_state=42)\n",
    "X_adasyn_tr, y_adasyn_tr = ada.fit_resample(X_train,y_train)"
   ]
  },
  {
   "cell_type": "code",
   "execution_count": 8,
   "id": "processed-disclosure",
   "metadata": {},
   "outputs": [
    {
     "name": "stdout",
     "output_type": "stream",
     "text": [
      "Scores for the clf\n",
      "Training score: 100.00%\n",
      "Val set score:  83.13%\n",
      "\n",
      "Precision / Recall\n",
      "Val F1 score:   0.25%\n",
      "Precision:  28.03%,   Recall:  23.16%\n"
     ]
    }
   ],
   "source": [
    "# run random forest\n",
    "clf = RandomForestClassifier()\n",
    "clf.fit(X_adasyn_tr, y_adasyn_tr)\n",
    "y_predict = clf.predict(X_val)\n",
    "\n",
    "#scores\n",
    "print(\"Scores for the clf\")\n",
    "print(\"Training score: {:6.2f}%\".format(100*clf.score(X_adasyn_tr, y_adasyn_tr)))\n",
    "print(\"Val set score: {:6.2f}%\".format(100*clf.score(X_val, y_val)))\n",
    "\n",
    "#precision/recall\n",
    "print(\"\\nPrecision / Recall\")\n",
    "print(\"Val F1 score: {:6.2f}%\".format(f1_score(clf.predict(X_val), y_val)))\n",
    "print(\"Precision: {:6.2f}%,   Recall: {:6.2f}%\".format(100*precision_score(y_val, y_predict), \n",
    "                                                     100*recall_score(y_val, y_predict)))"
   ]
  },
  {
   "cell_type": "markdown",
   "id": "desirable-honolulu",
   "metadata": {},
   "source": [
    "# 2) Balanced Random Forest Classifier"
   ]
  },
  {
   "cell_type": "code",
   "execution_count": 9,
   "id": "amended-fellow",
   "metadata": {},
   "outputs": [],
   "source": [
    "# Seperate features from label\n",
    "\n",
    "X = df.loc[:,['danceability', 'energy', 'key', 'loudness', 'mode', 'speechiness',\n",
    "       'acousticness', 'instrumentalness', 'liveness', 'valence', 'tempo','year']]\n",
    "\n",
    "y = df['success']"
   ]
  },
  {
   "cell_type": "code",
   "execution_count": 10,
   "id": "cordless-prairie",
   "metadata": {},
   "outputs": [],
   "source": [
    "#Split data into 3: 60% train, 20% validation, 20% test\n",
    "X_train, X_test, y_train, y_test = train_test_split(X, y, test_size=0.2, stratify=y)\n",
    "X_train, X_val, y_train, y_val = train_test_split(X_train, y_train, test_size=0.25,stratify=y_train)"
   ]
  },
  {
   "cell_type": "code",
   "execution_count": 11,
   "id": "million-printing",
   "metadata": {},
   "outputs": [],
   "source": [
    "model = BalancedRandomForestClassifier(n_estimators=10)"
   ]
  },
  {
   "cell_type": "code",
   "execution_count": 12,
   "id": "suspected-people",
   "metadata": {},
   "outputs": [
    {
     "name": "stdout",
     "output_type": "stream",
     "text": [
      "Scores for the random forest\n",
      "Training score:  75.24%\n",
      "Test set score:  66.78%\n",
      "\n",
      "Precision / Recall\n",
      "Val F1 score:  34.11%\n",
      "Val F2 score:  49.11%\n",
      "Precision:  22.60%\n",
      "Recall:  69.47%\n"
     ]
    }
   ],
   "source": [
    "# run model\n",
    "model.fit(X_train, y_train)\n",
    "y_predict = model.predict(X_val)\n",
    "\n",
    "#scores\n",
    "print(\"Scores for the random forest\")\n",
    "print(\"Training score: {:6.2f}%\".format(100*model.score(X_train, y_train)))\n",
    "print(\"Test set score: {:6.2f}%\".format(100*model.score(X_val, y_val)))\n",
    "\n",
    "#precision/recall\n",
    "print(\"\\nPrecision / Recall\")\n",
    "print(\"Val F1 score: {:6.2f}%\".format(100*f1_score(y_predict, y_val)))\n",
    "print(\"Val F2 score: {:6.2f}%\".format(100*fbeta_score(y_predict, y_val,beta=0.5)))\n",
    "print(\"Precision: {:6.2f}%\".format(100*precision_score(y_val, y_predict)))\n",
    "print(\"Recall: {:6.2f}%\".format(100*recall_score(y_val, y_predict)))"
   ]
  },
  {
   "cell_type": "markdown",
   "id": "involved-flood",
   "metadata": {},
   "source": [
    "This is the best model - let's pickle it for outside data"
   ]
  },
  {
   "cell_type": "code",
   "execution_count": 13,
   "id": "integral-payroll",
   "metadata": {},
   "outputs": [],
   "source": [
    "# Pickle model\n",
    "path = r\"C:\\Users\\Andrew\\Documents\\Metis\\TikTok_Song_Predictor\\Pickle\\brfc_model.pkl\"\n",
    "pickle.dump(model, open(path, 'wb'))"
   ]
  },
  {
   "cell_type": "markdown",
   "id": "monetary-expense",
   "metadata": {},
   "source": [
    "# 3) Balanced Bagging Classifier"
   ]
  },
  {
   "cell_type": "code",
   "execution_count": 12,
   "id": "electric-serve",
   "metadata": {},
   "outputs": [],
   "source": [
    "# Seperate features from label\n",
    "\n",
    "X = df.loc[:,['danceability', 'energy', 'key', 'loudness', 'mode', 'speechiness',\n",
    "       'acousticness', 'instrumentalness', 'liveness', 'valence', 'tempo','year']]\n",
    "\n",
    "y = df['success']"
   ]
  },
  {
   "cell_type": "code",
   "execution_count": 13,
   "id": "artistic-software",
   "metadata": {},
   "outputs": [],
   "source": [
    "#Split data into 3: 60% train, 20% validation, 20% test\n",
    "X_train, X_test, y_train, y_test = train_test_split(X, y, test_size=0.2, stratify=y)\n",
    "X_train, X_val, y_train, y_val = train_test_split(X_train, y_train, test_size=0.25,stratify=y_train)"
   ]
  },
  {
   "cell_type": "code",
   "execution_count": 14,
   "id": "expected-secret",
   "metadata": {},
   "outputs": [],
   "source": [
    "# define model\n",
    "model = BalancedBaggingClassifier()"
   ]
  },
  {
   "cell_type": "code",
   "execution_count": 15,
   "id": "reverse-adaptation",
   "metadata": {},
   "outputs": [
    {
     "name": "stdout",
     "output_type": "stream",
     "text": [
      "Scores for the random forest\n",
      "Training score:  84.58%\n",
      "Test set score:  72.05%\n",
      "\n",
      "Precision / Recall\n",
      "Val F1 score:  30.92%\n",
      "Val F2 score:  40.40%\n",
      "Precision:  22.22%\n",
      "Recall:  50.79%\n"
     ]
    }
   ],
   "source": [
    "# run model\n",
    "model.fit(X_train, y_train)\n",
    "y_predict = model.predict(X_val)\n",
    "\n",
    "#scores\n",
    "print(\"Scores for the random forest\")\n",
    "print(\"Training score: {:6.2f}%\".format(100*model.score(X_train, y_train)))\n",
    "print(\"Test set score: {:6.2f}%\".format(100*model.score(X_val, y_val)))\n",
    "\n",
    "#precision/recall\n",
    "print(\"\\nPrecision / Recall\")\n",
    "print(\"Val F1 score: {:6.2f}%\".format(100*f1_score(y_predict, y_val)))\n",
    "print(\"Val F2 score: {:6.2f}%\".format(100*fbeta_score(y_predict, y_val,beta=0.5)))\n",
    "print(\"Precision: {:6.2f}%\".format(100*precision_score(y_val, y_predict)))\n",
    "print(\"Recall: {:6.2f}%\".format(100*recall_score(y_val, y_predict)))"
   ]
  }
 ],
 "metadata": {
  "kernelspec": {
   "display_name": "Python 3",
   "language": "python",
   "name": "python3"
  },
  "language_info": {
   "codemirror_mode": {
    "name": "ipython",
    "version": 3
   },
   "file_extension": ".py",
   "mimetype": "text/x-python",
   "name": "python",
   "nbconvert_exporter": "python",
   "pygments_lexer": "ipython3",
   "version": "3.8.8"
  }
 },
 "nbformat": 4,
 "nbformat_minor": 5
}
