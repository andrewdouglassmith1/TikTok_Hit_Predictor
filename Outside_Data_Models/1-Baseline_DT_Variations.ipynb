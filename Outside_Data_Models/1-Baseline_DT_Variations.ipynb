{
 "cells": [
  {
   "cell_type": "markdown",
   "id": "revised-lightweight",
   "metadata": {},
   "source": [
    "# Notebook Summary\n",
    "In this notebook I test various decision tree based models"
   ]
  },
  {
   "cell_type": "code",
   "execution_count": 1,
   "id": "handy-intake",
   "metadata": {},
   "outputs": [],
   "source": [
    "import autoreload\n",
    "%load_ext autoreload\n",
    "%autoreload 2\n",
    "%reload_ext autoreload\n",
    "import Classes"
   ]
  },
  {
   "cell_type": "code",
   "execution_count": 2,
   "id": "endless-turkey",
   "metadata": {},
   "outputs": [],
   "source": [
    "import pickle\n",
    "from sklearn.model_selection import train_test_split\n",
    "import pandas as pd\n",
    "from sklearn.preprocessing import StandardScaler\n",
    "from sklearn.metrics import f1_score\n",
    "from sklearn.metrics import precision_score, recall_score, precision_recall_curve,f1_score, fbeta_score, accuracy_score\n",
    "from imblearn.over_sampling import ADASYN\n",
    "from sklearn.ensemble import RandomForestClassifier\n",
    "from imblearn.ensemble import BalancedBaggingClassifier\n",
    "from imblearn.ensemble import BalancedRandomForestClassifier"
   ]
  },
  {
   "cell_type": "markdown",
   "id": "short-athletics",
   "metadata": {},
   "source": [
    "# Pickle in Data"
   ]
  },
  {
   "cell_type": "code",
   "execution_count": 3,
   "id": "another-basket",
   "metadata": {},
   "outputs": [
    {
     "data": {
      "text/html": [
       "<div>\n",
       "<style scoped>\n",
       "    .dataframe tbody tr th:only-of-type {\n",
       "        vertical-align: middle;\n",
       "    }\n",
       "\n",
       "    .dataframe tbody tr th {\n",
       "        vertical-align: top;\n",
       "    }\n",
       "\n",
       "    .dataframe thead th {\n",
       "        text-align: right;\n",
       "    }\n",
       "</style>\n",
       "<table border=\"1\" class=\"dataframe\">\n",
       "  <thead>\n",
       "    <tr style=\"text-align: right;\">\n",
       "      <th></th>\n",
       "      <th>danceability</th>\n",
       "      <th>energy</th>\n",
       "      <th>key</th>\n",
       "      <th>loudness</th>\n",
       "      <th>mode</th>\n",
       "      <th>speechiness</th>\n",
       "      <th>acousticness</th>\n",
       "      <th>instrumentalness</th>\n",
       "      <th>liveness</th>\n",
       "      <th>valence</th>\n",
       "      <th>tempo</th>\n",
       "      <th>year</th>\n",
       "      <th>spotify_artists</th>\n",
       "      <th>success</th>\n",
       "    </tr>\n",
       "  </thead>\n",
       "  <tbody>\n",
       "    <tr>\n",
       "      <th>0</th>\n",
       "      <td>0.880</td>\n",
       "      <td>0.501</td>\n",
       "      <td>2.0</td>\n",
       "      <td>-6.774</td>\n",
       "      <td>1.0</td>\n",
       "      <td>0.062</td>\n",
       "      <td>0.0494</td>\n",
       "      <td>0.0695</td>\n",
       "      <td>0.4360</td>\n",
       "      <td>0.459</td>\n",
       "      <td>120.038</td>\n",
       "      <td>2020.0</td>\n",
       "      <td>0</td>\n",
       "      <td>1.0</td>\n",
       "    </tr>\n",
       "    <tr>\n",
       "      <th>1</th>\n",
       "      <td>0.935</td>\n",
       "      <td>0.454</td>\n",
       "      <td>1.0</td>\n",
       "      <td>-7.509</td>\n",
       "      <td>1.0</td>\n",
       "      <td>0.375</td>\n",
       "      <td>0.0194</td>\n",
       "      <td>0.0000</td>\n",
       "      <td>0.0824</td>\n",
       "      <td>0.357</td>\n",
       "      <td>133.073</td>\n",
       "      <td>2018.0</td>\n",
       "      <td>1</td>\n",
       "      <td>1.0</td>\n",
       "    </tr>\n",
       "  </tbody>\n",
       "</table>\n",
       "</div>"
      ],
      "text/plain": [
       "   danceability  energy  key  loudness  mode  speechiness  acousticness  \\\n",
       "0         0.880   0.501  2.0    -6.774   1.0        0.062        0.0494   \n",
       "1         0.935   0.454  1.0    -7.509   1.0        0.375        0.0194   \n",
       "\n",
       "   instrumentalness  liveness  valence    tempo    year  spotify_artists  \\\n",
       "0            0.0695    0.4360    0.459  120.038  2020.0                0   \n",
       "1            0.0000    0.0824    0.357  133.073  2018.0                1   \n",
       "\n",
       "   success  \n",
       "0      1.0  \n",
       "1      1.0  "
      ]
     },
     "execution_count": 3,
     "metadata": {},
     "output_type": "execute_result"
    }
   ],
   "source": [
    "# Pickle in factorized data\n",
    "\n",
    "path = r\"C:\\Users\\Andrew\\Documents\\Metis\\TikTok_Hit_Predictor\\Pickle\\supervised_factorized.pkl\"\n",
    "\n",
    "df_factorized = pickle.load(open(path,'rb'))\n",
    "df_factorized.head(2)"
   ]
  },
  {
   "cell_type": "code",
   "execution_count": 4,
   "id": "manual-jordan",
   "metadata": {},
   "outputs": [
    {
     "data": {
      "text/html": [
       "<div>\n",
       "<style scoped>\n",
       "    .dataframe tbody tr th:only-of-type {\n",
       "        vertical-align: middle;\n",
       "    }\n",
       "\n",
       "    .dataframe tbody tr th {\n",
       "        vertical-align: top;\n",
       "    }\n",
       "\n",
       "    .dataframe thead th {\n",
       "        text-align: right;\n",
       "    }\n",
       "</style>\n",
       "<table border=\"1\" class=\"dataframe\">\n",
       "  <thead>\n",
       "    <tr style=\"text-align: right;\">\n",
       "      <th></th>\n",
       "      <th>danceability</th>\n",
       "      <th>energy</th>\n",
       "      <th>key</th>\n",
       "      <th>loudness</th>\n",
       "      <th>mode</th>\n",
       "      <th>speechiness</th>\n",
       "      <th>acousticness</th>\n",
       "      <th>instrumentalness</th>\n",
       "      <th>liveness</th>\n",
       "      <th>valence</th>\n",
       "      <th>...</th>\n",
       "      <th>spotify_artists_Yes</th>\n",
       "      <th>spotify_artists_Yusuf / Cat Stevens</th>\n",
       "      <th>spotify_artists_Yves Montand</th>\n",
       "      <th>spotify_artists_ZZ Top</th>\n",
       "      <th>spotify_artists_Zofia Dromlewiczowa</th>\n",
       "      <th>spotify_artists_blink-182</th>\n",
       "      <th>spotify_artists_other</th>\n",
       "      <th>spotify_artists_Трумен Капоте</th>\n",
       "      <th>spotify_artists_Эрих Мария Ремарк</th>\n",
       "      <th>spotify_artists_Эрнест Хемингуэй</th>\n",
       "    </tr>\n",
       "  </thead>\n",
       "  <tbody>\n",
       "    <tr>\n",
       "      <th>0</th>\n",
       "      <td>0.880</td>\n",
       "      <td>0.501</td>\n",
       "      <td>2.0</td>\n",
       "      <td>-6.774</td>\n",
       "      <td>1.0</td>\n",
       "      <td>0.062</td>\n",
       "      <td>0.0494</td>\n",
       "      <td>0.0695</td>\n",
       "      <td>0.4360</td>\n",
       "      <td>0.459</td>\n",
       "      <td>...</td>\n",
       "      <td>0</td>\n",
       "      <td>0</td>\n",
       "      <td>0</td>\n",
       "      <td>0</td>\n",
       "      <td>0</td>\n",
       "      <td>0</td>\n",
       "      <td>1</td>\n",
       "      <td>0</td>\n",
       "      <td>0</td>\n",
       "      <td>0</td>\n",
       "    </tr>\n",
       "    <tr>\n",
       "      <th>1</th>\n",
       "      <td>0.935</td>\n",
       "      <td>0.454</td>\n",
       "      <td>1.0</td>\n",
       "      <td>-7.509</td>\n",
       "      <td>1.0</td>\n",
       "      <td>0.375</td>\n",
       "      <td>0.0194</td>\n",
       "      <td>0.0000</td>\n",
       "      <td>0.0824</td>\n",
       "      <td>0.357</td>\n",
       "      <td>...</td>\n",
       "      <td>0</td>\n",
       "      <td>0</td>\n",
       "      <td>0</td>\n",
       "      <td>0</td>\n",
       "      <td>0</td>\n",
       "      <td>0</td>\n",
       "      <td>1</td>\n",
       "      <td>0</td>\n",
       "      <td>0</td>\n",
       "      <td>0</td>\n",
       "    </tr>\n",
       "  </tbody>\n",
       "</table>\n",
       "<p>2 rows × 529 columns</p>\n",
       "</div>"
      ],
      "text/plain": [
       "   danceability  energy  key  loudness  mode  speechiness  acousticness  \\\n",
       "0         0.880   0.501  2.0    -6.774   1.0        0.062        0.0494   \n",
       "1         0.935   0.454  1.0    -7.509   1.0        0.375        0.0194   \n",
       "\n",
       "   instrumentalness  liveness  valence  ...  spotify_artists_Yes  \\\n",
       "0            0.0695    0.4360    0.459  ...                    0   \n",
       "1            0.0000    0.0824    0.357  ...                    0   \n",
       "\n",
       "   spotify_artists_Yusuf / Cat Stevens  spotify_artists_Yves Montand  \\\n",
       "0                                    0                             0   \n",
       "1                                    0                             0   \n",
       "\n",
       "   spotify_artists_ZZ Top  spotify_artists_Zofia Dromlewiczowa  \\\n",
       "0                       0                                    0   \n",
       "1                       0                                    0   \n",
       "\n",
       "   spotify_artists_blink-182  spotify_artists_other  \\\n",
       "0                          0                      1   \n",
       "1                          0                      1   \n",
       "\n",
       "   spotify_artists_Трумен Капоте  spotify_artists_Эрих Мария Ремарк  \\\n",
       "0                              0                                  0   \n",
       "1                              0                                  0   \n",
       "\n",
       "   spotify_artists_Эрнест Хемингуэй  \n",
       "0                                 0  \n",
       "1                                 0  \n",
       "\n",
       "[2 rows x 529 columns]"
      ]
     },
     "execution_count": 4,
     "metadata": {},
     "output_type": "execute_result"
    }
   ],
   "source": [
    "# Pickle in dummied data\n",
    "\n",
    "path = r\"C:\\Users\\Andrew\\Documents\\Metis\\TikTok_Hit_Predictor\\Pickle\\supervised_dummy.pkl\"\n",
    "\n",
    "df_dummy = pickle.load(open(path,'rb'))\n",
    "df_dummy.head(2)"
   ]
  },
  {
   "cell_type": "markdown",
   "id": "funny-binary",
   "metadata": {},
   "source": [
    "# 1.A) Random Forest - Factorized artists"
   ]
  },
  {
   "cell_type": "code",
   "execution_count": 5,
   "id": "comprehensive-radiation",
   "metadata": {},
   "outputs": [],
   "source": [
    "# Seperate features from label\n",
    "\n",
    "X = df_factorized.loc[:,['danceability', 'energy', 'key', 'loudness', 'mode', 'speechiness',\n",
    "       'acousticness', 'instrumentalness', 'liveness', 'valence', 'tempo','year','spotify_artists']]\n",
    "\n",
    "y = df_factorized['success']"
   ]
  },
  {
   "cell_type": "markdown",
   "id": "detected-immunology",
   "metadata": {},
   "source": [
    "I elect to only use a train / test split due to a limited dataset ~7,500 rows"
   ]
  },
  {
   "cell_type": "code",
   "execution_count": 40,
   "id": "relative-actress",
   "metadata": {},
   "outputs": [],
   "source": [
    "#Split data into 3: 80% train,20% test\n",
    "X_train, X_test, y_train, y_test = train_test_split(X, y, test_size=0.2, stratify=y)"
   ]
  },
  {
   "cell_type": "code",
   "execution_count": 41,
   "id": "sophisticated-filing",
   "metadata": {},
   "outputs": [],
   "source": [
    "# Oversample training data\n",
    "ada = ADASYN(random_state=42)\n",
    "X_adasyn_tr, y_adasyn_tr = ada.fit_resample(X_train,y_train)"
   ]
  },
  {
   "cell_type": "code",
   "execution_count": 8,
   "id": "processed-disclosure",
   "metadata": {},
   "outputs": [],
   "source": [
    "# run random forest\n",
    "clf = RandomForestClassifier()\n",
    "clf.fit(X_adasyn_tr, y_adasyn_tr)\n",
    "y_predict = clf.predict(X_test)"
   ]
  },
  {
   "cell_type": "code",
   "execution_count": 9,
   "id": "supported-charm",
   "metadata": {},
   "outputs": [
    {
     "name": "stdout",
     "output_type": "stream",
     "text": [
      "Train Scores\n",
      "Accuracy score: 100.00%\n"
     ]
    }
   ],
   "source": [
    "Classes.train_scores(clf,X_adasyn_tr, y_adasyn_tr)"
   ]
  },
  {
   "cell_type": "code",
   "execution_count": 10,
   "id": "cosmetic-puzzle",
   "metadata": {},
   "outputs": [
    {
     "name": "stdout",
     "output_type": "stream",
     "text": [
      "Test Scores\n",
      "Score:  93.16%\n",
      "F1 score:  76.82%\n",
      "Precision:  66.16%,  Test Recall:  91.58%\n"
     ]
    }
   ],
   "source": [
    "Classes.test_scores(y_test,y_predict)"
   ]
  },
  {
   "cell_type": "markdown",
   "id": "numerical-conditioning",
   "metadata": {},
   "source": [
    "# 1.B) Random Forest - Dummy artists"
   ]
  },
  {
   "cell_type": "code",
   "execution_count": 22,
   "id": "unable-bridge",
   "metadata": {},
   "outputs": [],
   "source": [
    "# Seperate features from label\n",
    "\n",
    "X = df_dummy.drop(['success'],axis=1)\n",
    "\n",
    "y = df_dummy['success']"
   ]
  },
  {
   "cell_type": "code",
   "execution_count": 23,
   "id": "consecutive-recording",
   "metadata": {},
   "outputs": [],
   "source": [
    "#Split data into 3: 80% train,20% test\n",
    "X_train, X_test, y_train, y_test = train_test_split(X, y, test_size=0.2, stratify=y)"
   ]
  },
  {
   "cell_type": "code",
   "execution_count": 24,
   "id": "expected-turtle",
   "metadata": {},
   "outputs": [],
   "source": [
    "# Oversample training data\n",
    "ada = ADASYN(random_state=42)\n",
    "X_adasyn_tr, y_adasyn_tr = ada.fit_resample(X_train,y_train)"
   ]
  },
  {
   "cell_type": "code",
   "execution_count": 25,
   "id": "illegal-member",
   "metadata": {},
   "outputs": [],
   "source": [
    "# run random forest\n",
    "clf = RandomForestClassifier()\n",
    "clf.fit(X_adasyn_tr, y_adasyn_tr)\n",
    "y_predict = clf.predict(X_test)"
   ]
  },
  {
   "cell_type": "code",
   "execution_count": 26,
   "id": "excited-double",
   "metadata": {},
   "outputs": [
    {
     "name": "stdout",
     "output_type": "stream",
     "text": [
      "Train Scores\n",
      "Accuracy score: 100.00%\n"
     ]
    }
   ],
   "source": [
    "Classes.train_scores(clf,X_adasyn_tr, y_adasyn_tr)"
   ]
  },
  {
   "cell_type": "code",
   "execution_count": 27,
   "id": "american-victorian",
   "metadata": {},
   "outputs": [
    {
     "name": "stdout",
     "output_type": "stream",
     "text": [
      "Test Scores\n",
      "Score:  83.26%\n",
      "F1 score:  32.90%\n",
      "Precision:  32.64%,  Test Recall:  33.16%\n"
     ]
    }
   ],
   "source": [
    "Classes.test_scores(y_test,y_predict)"
   ]
  },
  {
   "cell_type": "markdown",
   "id": "governing-heath",
   "metadata": {},
   "source": [
    "It seems that we have dimensionality problems here and so the score is much lower"
   ]
  },
  {
   "cell_type": "markdown",
   "id": "desirable-honolulu",
   "metadata": {},
   "source": [
    "# 2) Balanced Random Forest Classifier "
   ]
  },
  {
   "cell_type": "code",
   "execution_count": 28,
   "id": "amended-fellow",
   "metadata": {},
   "outputs": [],
   "source": [
    "# Seperate features from label\n",
    "\n",
    "X = df_factorized.loc[:,['danceability', 'energy', 'key', 'loudness', 'mode', 'speechiness',\n",
    "       'acousticness', 'instrumentalness', 'liveness', 'valence', 'tempo','year','spotify_artists']]\n",
    "\n",
    "y = df_factorized['success']"
   ]
  },
  {
   "cell_type": "code",
   "execution_count": 29,
   "id": "cordless-prairie",
   "metadata": {},
   "outputs": [],
   "source": [
    "#Split data into 3: 80% train,20% test\n",
    "X_train, X_test, y_train, y_test = train_test_split(X, y, test_size=0.2, stratify=y)"
   ]
  },
  {
   "cell_type": "code",
   "execution_count": 30,
   "id": "million-printing",
   "metadata": {},
   "outputs": [],
   "source": [
    "model = BalancedRandomForestClassifier(n_estimators=10)"
   ]
  },
  {
   "cell_type": "code",
   "execution_count": 31,
   "id": "suspected-people",
   "metadata": {},
   "outputs": [],
   "source": [
    "# run model\n",
    "model.fit(X_train, y_train)\n",
    "y_predict = model.predict(X_test)"
   ]
  },
  {
   "cell_type": "code",
   "execution_count": 32,
   "id": "cosmetic-diving",
   "metadata": {},
   "outputs": [
    {
     "name": "stdout",
     "output_type": "stream",
     "text": [
      "Train Scores\n",
      "Accuracy score:  94.10%\n"
     ]
    }
   ],
   "source": [
    "Classes.train_scores(model,X_train, y_train)"
   ]
  },
  {
   "cell_type": "code",
   "execution_count": 33,
   "id": "dangerous-netscape",
   "metadata": {},
   "outputs": [
    {
     "name": "stdout",
     "output_type": "stream",
     "text": [
      "Test Scores\n",
      "Score:  94.59%\n",
      "F1 score:  81.68%\n",
      "Precision:  70.34%,  Test Recall:  97.37%\n"
     ]
    }
   ],
   "source": [
    "Classes.test_scores(y_test,y_predict)"
   ]
  },
  {
   "cell_type": "markdown",
   "id": "monetary-expense",
   "metadata": {},
   "source": [
    "# 3) Balanced Bagging Classifier"
   ]
  },
  {
   "cell_type": "code",
   "execution_count": 34,
   "id": "electric-serve",
   "metadata": {},
   "outputs": [],
   "source": [
    "# Seperate features from label\n",
    "\n",
    "X = df_factorized.loc[:,['danceability', 'energy', 'key', 'loudness', 'mode', 'speechiness',\n",
    "       'acousticness', 'instrumentalness', 'liveness', 'valence', 'tempo','year','spotify_artists']]\n",
    "\n",
    "y = df_factorized['success']"
   ]
  },
  {
   "cell_type": "code",
   "execution_count": 35,
   "id": "artistic-software",
   "metadata": {},
   "outputs": [],
   "source": [
    "#Split data into 3: 60% train, 20% validation, 20% test\n",
    "X_train, X_test, y_train, y_test = train_test_split(X, y, test_size=0.2, stratify=y)"
   ]
  },
  {
   "cell_type": "code",
   "execution_count": 36,
   "id": "expected-secret",
   "metadata": {},
   "outputs": [],
   "source": [
    "# define model\n",
    "model = BalancedBaggingClassifier()"
   ]
  },
  {
   "cell_type": "code",
   "execution_count": 37,
   "id": "reverse-adaptation",
   "metadata": {},
   "outputs": [],
   "source": [
    "# run model\n",
    "model.fit(X_train, y_train)\n",
    "y_predict = model.predict(X_test)"
   ]
  },
  {
   "cell_type": "code",
   "execution_count": 38,
   "id": "christian-ancient",
   "metadata": {},
   "outputs": [
    {
     "name": "stdout",
     "output_type": "stream",
     "text": [
      "Train Scores\n",
      "Accuracy score:  94.66%\n"
     ]
    }
   ],
   "source": [
    "Classes.train_scores(model,X_train, y_train)"
   ]
  },
  {
   "cell_type": "code",
   "execution_count": 39,
   "id": "skilled-stereo",
   "metadata": {},
   "outputs": [
    {
     "name": "stdout",
     "output_type": "stream",
     "text": [
      "Test Scores\n",
      "Score:  94.33%\n",
      "F1 score:  80.96%\n",
      "Precision:  69.29%,  Test Recall:  97.37%\n"
     ]
    }
   ],
   "source": [
    "Classes.test_scores(y_test,y_predict)"
   ]
  }
 ],
 "metadata": {
  "kernelspec": {
   "display_name": "Python 3",
   "language": "python",
   "name": "python3"
  },
  "language_info": {
   "codemirror_mode": {
    "name": "ipython",
    "version": 3
   },
   "file_extension": ".py",
   "mimetype": "text/x-python",
   "name": "python",
   "nbconvert_exporter": "python",
   "pygments_lexer": "ipython3",
   "version": "3.8.8"
  }
 },
 "nbformat": 4,
 "nbformat_minor": 5
}
