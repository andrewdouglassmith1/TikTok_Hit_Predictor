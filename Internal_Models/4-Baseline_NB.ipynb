{
 "cells": [
  {
   "cell_type": "markdown",
   "id": "radical-behalf",
   "metadata": {},
   "source": [
    "# Notebook Summary"
   ]
  },
  {
   "cell_type": "markdown",
   "id": "aboriginal-generation",
   "metadata": {},
   "source": [
    "In this notebook I run a baseline naive bayes"
   ]
  },
  {
   "cell_type": "code",
   "execution_count": 1,
   "id": "injured-medicaid",
   "metadata": {},
   "outputs": [],
   "source": [
    "import autoreload\n",
    "%load_ext autoreload\n",
    "%autoreload 2\n",
    "%reload_ext autoreload\n",
    "import Classes"
   ]
  },
  {
   "cell_type": "code",
   "execution_count": 2,
   "id": "finnish-offering",
   "metadata": {},
   "outputs": [],
   "source": [
    "import pickle\n",
    "import pandas as pd\n",
    "from sklearn.model_selection import train_test_split\n",
    "from imblearn.over_sampling import ADASYN\n",
    "from sklearn.naive_bayes import CategoricalNB, GaussianNB\n",
    "from sklearn.metrics import f1_score\n",
    "from sklearn.metrics import precision_score, recall_score, precision_recall_curve,f1_score, fbeta_score"
   ]
  },
  {
   "cell_type": "markdown",
   "id": "great-mercury",
   "metadata": {},
   "source": [
    "# Pickle in Data"
   ]
  },
  {
   "cell_type": "code",
   "execution_count": 3,
   "id": "referenced-chocolate",
   "metadata": {},
   "outputs": [
    {
     "data": {
      "text/html": [
       "<div>\n",
       "<style scoped>\n",
       "    .dataframe tbody tr th:only-of-type {\n",
       "        vertical-align: middle;\n",
       "    }\n",
       "\n",
       "    .dataframe tbody tr th {\n",
       "        vertical-align: top;\n",
       "    }\n",
       "\n",
       "    .dataframe thead th {\n",
       "        text-align: right;\n",
       "    }\n",
       "</style>\n",
       "<table border=\"1\" class=\"dataframe\">\n",
       "  <thead>\n",
       "    <tr style=\"text-align: right;\">\n",
       "      <th></th>\n",
       "      <th>level_0</th>\n",
       "      <th>danceability</th>\n",
       "      <th>energy</th>\n",
       "      <th>key</th>\n",
       "      <th>loudness</th>\n",
       "      <th>mode</th>\n",
       "      <th>speechiness</th>\n",
       "      <th>acousticness</th>\n",
       "      <th>instrumentalness</th>\n",
       "      <th>liveness</th>\n",
       "      <th>...</th>\n",
       "      <th>TikTok Link</th>\n",
       "      <th>Release Date</th>\n",
       "      <th>Position Change</th>\n",
       "      <th>spotify_uri</th>\n",
       "      <th>audio_analysis</th>\n",
       "      <th>feature_analysis</th>\n",
       "      <th>success</th>\n",
       "      <th>year</th>\n",
       "      <th>top_albums</th>\n",
       "      <th>top_artists</th>\n",
       "    </tr>\n",
       "  </thead>\n",
       "  <tbody>\n",
       "    <tr>\n",
       "      <th>0</th>\n",
       "      <td>0</td>\n",
       "      <td>0.880</td>\n",
       "      <td>0.501</td>\n",
       "      <td>2.0</td>\n",
       "      <td>-6.774</td>\n",
       "      <td>1.0</td>\n",
       "      <td>0.062</td>\n",
       "      <td>0.0494</td>\n",
       "      <td>0.0695</td>\n",
       "      <td>0.4360</td>\n",
       "      <td>...</td>\n",
       "      <td>https://www.tiktok.com/music/All-TikTok-Mashup...</td>\n",
       "      <td>2020-08-17</td>\n",
       "      <td>23.0</td>\n",
       "      <td>5TpvLkESnw1g9wDz52efeO</td>\n",
       "      <td>{'meta': {'analyzer_version': '4.0.0', 'platfo...</td>\n",
       "      <td>{'danceability': 0.88, 'energy': 0.501, 'key':...</td>\n",
       "      <td>1</td>\n",
       "      <td>2020.0</td>\n",
       "      <td>Other</td>\n",
       "      <td>Other</td>\n",
       "    </tr>\n",
       "    <tr>\n",
       "      <th>1</th>\n",
       "      <td>162</td>\n",
       "      <td>0.935</td>\n",
       "      <td>0.454</td>\n",
       "      <td>1.0</td>\n",
       "      <td>-7.509</td>\n",
       "      <td>1.0</td>\n",
       "      <td>0.375</td>\n",
       "      <td>0.0194</td>\n",
       "      <td>0.0000</td>\n",
       "      <td>0.0824</td>\n",
       "      <td>...</td>\n",
       "      <td>https://www.tiktok.com/music/WAP-Megan-Thee-St...</td>\n",
       "      <td>2018-03-22</td>\n",
       "      <td>15.0</td>\n",
       "      <td>4Oun2ylbjFKMPTiaSbbCih</td>\n",
       "      <td>{'meta': {'analyzer_version': '4.0.0', 'platfo...</td>\n",
       "      <td>{'danceability': 0.935, 'energy': 0.454, 'key'...</td>\n",
       "      <td>1</td>\n",
       "      <td>2018.0</td>\n",
       "      <td>Other</td>\n",
       "      <td>Cardi B</td>\n",
       "    </tr>\n",
       "  </tbody>\n",
       "</table>\n",
       "<p>2 rows × 45 columns</p>\n",
       "</div>"
      ],
      "text/plain": [
       "   level_0  danceability  energy  key  loudness  mode  speechiness  \\\n",
       "0        0         0.880   0.501  2.0    -6.774   1.0        0.062   \n",
       "1      162         0.935   0.454  1.0    -7.509   1.0        0.375   \n",
       "\n",
       "   acousticness  instrumentalness  liveness  ...  \\\n",
       "0        0.0494            0.0695    0.4360  ...   \n",
       "1        0.0194            0.0000    0.0824  ...   \n",
       "\n",
       "                                         TikTok Link  Release Date  \\\n",
       "0  https://www.tiktok.com/music/All-TikTok-Mashup...    2020-08-17   \n",
       "1  https://www.tiktok.com/music/WAP-Megan-Thee-St...    2018-03-22   \n",
       "\n",
       "  Position Change             spotify_uri  \\\n",
       "0            23.0  5TpvLkESnw1g9wDz52efeO   \n",
       "1            15.0  4Oun2ylbjFKMPTiaSbbCih   \n",
       "\n",
       "                                      audio_analysis  \\\n",
       "0  {'meta': {'analyzer_version': '4.0.0', 'platfo...   \n",
       "1  {'meta': {'analyzer_version': '4.0.0', 'platfo...   \n",
       "\n",
       "                                    feature_analysis success    year  \\\n",
       "0  {'danceability': 0.88, 'energy': 0.501, 'key':...       1  2020.0   \n",
       "1  {'danceability': 0.935, 'energy': 0.454, 'key'...       1  2018.0   \n",
       "\n",
       "   top_albums top_artists  \n",
       "0       Other       Other  \n",
       "1       Other     Cardi B  \n",
       "\n",
       "[2 rows x 45 columns]"
      ]
     },
     "execution_count": 3,
     "metadata": {},
     "output_type": "execute_result"
    }
   ],
   "source": [
    "# Pickle in cleaned dataframe\n",
    "\n",
    "# Designate path\n",
    "\n",
    "path = r\"C:\\Users\\Andrew\\Documents\\Metis\\TikTok_Song_Predictor\\Pickle\\df_agg.pkl\"\n",
    "\n",
    "df = pickle.load(open(path,'rb'))\n",
    "df.head(2)"
   ]
  },
  {
   "cell_type": "markdown",
   "id": "operating-hypothesis",
   "metadata": {},
   "source": [
    "# Gausian Naive Bayes with oversampling"
   ]
  },
  {
   "cell_type": "code",
   "execution_count": 4,
   "id": "actual-transportation",
   "metadata": {},
   "outputs": [
    {
     "data": {
      "text/plain": [
       "Index(['level_0', 'danceability', 'energy', 'key', 'loudness', 'mode',\n",
       "       'speechiness', 'acousticness', 'instrumentalness', 'liveness',\n",
       "       'valence', 'tempo', 'type', 'id', 'uri', 'track_href', 'analysis_url',\n",
       "       'duration_ms', 'time_signature', 'ISRC', 'index', 'Playlist Add Date',\n",
       "       'Record Label', 'UPC', 'Album Name', 'name', 'Peak Position',\n",
       "       'Peak Date', 'Rank', 'Historical Positions', 'Time on Chart',\n",
       "       'Artist(s)', 'tiktok_track_id', 'Velocity', 'Historical Posts',\n",
       "       'TikTok Link', 'Release Date', 'Position Change', 'spotify_uri',\n",
       "       'audio_analysis', 'feature_analysis', 'success', 'year', 'top_albums',\n",
       "       'top_artists'],\n",
       "      dtype='object')"
      ]
     },
     "execution_count": 4,
     "metadata": {},
     "output_type": "execute_result"
    }
   ],
   "source": [
    "df.columns"
   ]
  },
  {
   "cell_type": "code",
   "execution_count": 5,
   "id": "approximate-endorsement",
   "metadata": {},
   "outputs": [],
   "source": [
    "# Seperate features from label\n",
    "\n",
    "X = df.loc[:,['danceability', 'energy', 'key', 'loudness', 'mode',\n",
    "       'speechiness', 'acousticness', 'instrumentalness', 'liveness',\n",
    "       'valence', 'tempo','time_signature','year']]\n",
    "\n",
    "y = df['success']"
   ]
  },
  {
   "cell_type": "code",
   "execution_count": 6,
   "id": "improved-honey",
   "metadata": {},
   "outputs": [],
   "source": [
    "#Split data into 3: 60% train, 20% validation, 20% test\n",
    "X_train, X_test, y_train, y_test = train_test_split(X, y, test_size=0.2, stratify=y)\n",
    "X_train, X_val, y_train, y_val = train_test_split(X_train, y_train, test_size=0.25,stratify=y_train)"
   ]
  },
  {
   "cell_type": "code",
   "execution_count": 7,
   "id": "latin-class",
   "metadata": {},
   "outputs": [],
   "source": [
    "ada = ADASYN(random_state=42)"
   ]
  },
  {
   "cell_type": "code",
   "execution_count": 8,
   "id": "molecular-bulgarian",
   "metadata": {},
   "outputs": [],
   "source": [
    "# Oversample training data\n",
    "X_adasyn_tr, y_adasyn_tr = ada.fit_resample(X_train,y_train)"
   ]
  },
  {
   "cell_type": "code",
   "execution_count": 9,
   "id": "unlikely-abortion",
   "metadata": {},
   "outputs": [
    {
     "data": {
      "text/plain": [
       "GaussianNB()"
      ]
     },
     "execution_count": 9,
     "metadata": {},
     "output_type": "execute_result"
    }
   ],
   "source": [
    "# Create Gaussian Model\n",
    "nb = GaussianNB()\n",
    "nb.fit(X_adasyn_tr, y_adasyn_tr)"
   ]
  },
  {
   "cell_type": "code",
   "execution_count": 10,
   "id": "english-blank",
   "metadata": {},
   "outputs": [
    {
     "name": "stdout",
     "output_type": "stream",
     "text": [
      "Scores for the gaussian bayes\n",
      "Training score:  74.15%\n",
      "Val set score:  60.78%\n",
      "\n",
      "Precision / Recall\n",
      "Val F1 score:   0.35%\n",
      "Precision: 0.2213,   Recall: 0.8677\n"
     ]
    }
   ],
   "source": [
    "# Further Metrics\n",
    "y_predict = nb.predict(X_val)\n",
    "#scores\n",
    "print(\"Scores for the gaussian bayes\")\n",
    "print(\"Training score: {:6.2f}%\".format(100*nb.score(X_adasyn_tr, y_adasyn_tr)))\n",
    "print(\"Val set score: {:6.2f}%\".format(100*nb.score(X_val, y_val)))\n",
    "#precision/recall\n",
    "print(\"\\nPrecision / Recall\")\n",
    "print(\"Val F1 score: {:6.2f}%\".format(f1_score(nb.predict(X_val), y_val)))\n",
    "print(\"Precision: {:6.4f},   Recall: {:6.4f}\".format(precision_score(y_val, y_predict), \n",
    "                                                     recall_score(y_val, y_predict)))"
   ]
  }
 ],
 "metadata": {
  "kernelspec": {
   "display_name": "Python 3",
   "language": "python",
   "name": "python3"
  },
  "language_info": {
   "codemirror_mode": {
    "name": "ipython",
    "version": 3
   },
   "file_extension": ".py",
   "mimetype": "text/x-python",
   "name": "python",
   "nbconvert_exporter": "python",
   "pygments_lexer": "ipython3",
   "version": "3.8.8"
  }
 },
 "nbformat": 4,
 "nbformat_minor": 5
}
