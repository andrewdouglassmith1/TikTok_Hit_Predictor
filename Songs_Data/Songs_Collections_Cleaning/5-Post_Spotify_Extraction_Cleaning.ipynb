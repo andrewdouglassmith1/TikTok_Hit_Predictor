{
 "cells": [
  {
   "cell_type": "markdown",
   "id": "alleged-executive",
   "metadata": {},
   "source": [
    "# Notebook Summary\n",
    "This notebook cleans the extracted Spotify data for analysis"
   ]
  },
  {
   "cell_type": "code",
   "execution_count": 1,
   "id": "rural-lodge",
   "metadata": {},
   "outputs": [],
   "source": [
    "import pickle\n",
    "import pandas as pd\n",
    "import numpy as np"
   ]
  },
  {
   "cell_type": "markdown",
   "id": "atomic-drunk",
   "metadata": {},
   "source": [
    "# Pickle in spotify data"
   ]
  },
  {
   "cell_type": "code",
   "execution_count": 2,
   "id": "featured-cutting",
   "metadata": {},
   "outputs": [
    {
     "data": {
      "text/html": [
       "<div>\n",
       "<style scoped>\n",
       "    .dataframe tbody tr th:only-of-type {\n",
       "        vertical-align: middle;\n",
       "    }\n",
       "\n",
       "    .dataframe tbody tr th {\n",
       "        vertical-align: top;\n",
       "    }\n",
       "\n",
       "    .dataframe thead th {\n",
       "        text-align: right;\n",
       "    }\n",
       "</style>\n",
       "<table border=\"1\" class=\"dataframe\">\n",
       "  <thead>\n",
       "    <tr style=\"text-align: right;\">\n",
       "      <th></th>\n",
       "      <th>index</th>\n",
       "      <th>Playlist Add Date</th>\n",
       "      <th>Record Label</th>\n",
       "      <th>UPC</th>\n",
       "      <th>Album Name</th>\n",
       "      <th>ISRC</th>\n",
       "      <th>name</th>\n",
       "      <th>Peak Position</th>\n",
       "      <th>Peak Date</th>\n",
       "      <th>Rank</th>\n",
       "      <th>...</th>\n",
       "      <th>Artist(s)</th>\n",
       "      <th>tiktok_track_id</th>\n",
       "      <th>Velocity</th>\n",
       "      <th>Historical Posts</th>\n",
       "      <th>TikTok Link</th>\n",
       "      <th>Release Date</th>\n",
       "      <th>Position Change</th>\n",
       "      <th>spotify_uri</th>\n",
       "      <th>audio_analysis</th>\n",
       "      <th>feature_analysis</th>\n",
       "    </tr>\n",
       "  </thead>\n",
       "  <tbody>\n",
       "    <tr>\n",
       "      <th>0</th>\n",
       "      <td>0</td>\n",
       "      <td>2020-08-23T00:00:00.000Z</td>\n",
       "      <td>JVKE</td>\n",
       "      <td>193436230483</td>\n",
       "      <td>Upside Down</td>\n",
       "      <td>QM24S2008283</td>\n",
       "      <td>All TikTok Mashup (JVKE - Upside Down)</td>\n",
       "      <td>1</td>\n",
       "      <td>2020-09-02</td>\n",
       "      <td>1</td>\n",
       "      <td>...</td>\n",
       "      <td>JVKE 🌩</td>\n",
       "      <td>All-TikTok-Mashup-JVKE-Upside-Down-68463501735...</td>\n",
       "      <td></td>\n",
       "      <td>100000, 300000</td>\n",
       "      <td>https://www.tiktok.com/music/All-TikTok-Mashup...</td>\n",
       "      <td>2020-08-17</td>\n",
       "      <td>23.0</td>\n",
       "      <td>5TpvLkESnw1g9wDz52efeO</td>\n",
       "      <td>{'meta': {'analyzer_version': '4.0.0', 'platfo...</td>\n",
       "      <td>{'danceability': 0.88, 'energy': 0.501, 'key':...</td>\n",
       "    </tr>\n",
       "    <tr>\n",
       "      <th>1</th>\n",
       "      <td>0</td>\n",
       "      <td>2020-11-03T00:00:00.000Z</td>\n",
       "      <td>ColliPark Music</td>\n",
       "      <td>859705372161</td>\n",
       "      <td>Alley: The Return of the Ying Yang Twins</td>\n",
       "      <td>USW9J1000104</td>\n",
       "      <td>Say I Yi Yi</td>\n",
       "      <td>1</td>\n",
       "      <td>2020-11-02</td>\n",
       "      <td>1</td>\n",
       "      <td>...</td>\n",
       "      <td>D-Roc</td>\n",
       "      <td>Say-I-Yi-Yi-6883981933215369989</td>\n",
       "      <td></td>\n",
       "      <td>105900, 148200, 177600, 229200, 200000, 200000</td>\n",
       "      <td>https://www.tiktok.com/music/Say-I-Yi-Yi-68839...</td>\n",
       "      <td>2002-03-25</td>\n",
       "      <td>2.0</td>\n",
       "      <td>46XvcuEZFFInDilbYUNHBn</td>\n",
       "      <td>{'meta': {'analyzer_version': '4.0.0', 'platfo...</td>\n",
       "      <td>{'danceability': 0.782, 'energy': 0.627, 'key'...</td>\n",
       "    </tr>\n",
       "    <tr>\n",
       "      <th>2</th>\n",
       "      <td>0</td>\n",
       "      <td>2020-11-01T00:00:00.000Z</td>\n",
       "      <td>MFLP</td>\n",
       "      <td>829410801386, 888072351684, 600406849243, 8880...</td>\n",
       "      <td>Halloween Howls, Halloween Howls: Fun &amp; Scary ...</td>\n",
       "      <td>USB440453203</td>\n",
       "      <td>Spooky, Scary Skeletons</td>\n",
       "      <td>1</td>\n",
       "      <td>2020-10-31</td>\n",
       "      <td>1</td>\n",
       "      <td>...</td>\n",
       "      <td>Andrew Gold</td>\n",
       "      <td>Spooky-Scary-Skeletons-6602666381370460933</td>\n",
       "      <td>2.14286</td>\n",
       "      <td>100000, 100000, 100000, 100000, 100000, 100000...</td>\n",
       "      <td>https://www.tiktok.com/music/Spooky-Scary-Skel...</td>\n",
       "      <td>2006-10-02</td>\n",
       "      <td>5.0</td>\n",
       "      <td>23V08GxMeaZNSf8Gy6KF6t</td>\n",
       "      <td>{'meta': {'analyzer_version': '4.0.0', 'platfo...</td>\n",
       "      <td>{'danceability': 0.806, 'energy': 0.447, 'key'...</td>\n",
       "    </tr>\n",
       "    <tr>\n",
       "      <th>3</th>\n",
       "      <td>0</td>\n",
       "      <td>2020-10-29T00:00:00.000Z</td>\n",
       "      <td>Astroknot Sounds, Opposition</td>\n",
       "      <td>193436238021</td>\n",
       "      <td>Garage Room Freestyle</td>\n",
       "      <td>QM24S2009905</td>\n",
       "      <td>Garage Room Freestyle (Reel It In)</td>\n",
       "      <td>1</td>\n",
       "      <td>2020-10-28</td>\n",
       "      <td>1</td>\n",
       "      <td>...</td>\n",
       "      <td>Number9ok</td>\n",
       "      <td>Garage-Room-Freestyle-Reel-It-In-6876123370077...</td>\n",
       "      <td>1.85714</td>\n",
       "      <td>40000, 81500, 123900, 116700, 74700, 72700, 78...</td>\n",
       "      <td>https://www.tiktok.com/music/Garage-Room-Frees...</td>\n",
       "      <td>2020-10-13</td>\n",
       "      <td>14.0</td>\n",
       "      <td>0buOF1gvLBupoSZSaycYWD</td>\n",
       "      <td>{'meta': {'analyzer_version': '4.0.0', 'platfo...</td>\n",
       "      <td>{'danceability': 0.849, 'energy': 0.195, 'key'...</td>\n",
       "    </tr>\n",
       "    <tr>\n",
       "      <th>4</th>\n",
       "      <td>0</td>\n",
       "      <td>2020-10-26T00:00:00.000Z</td>\n",
       "      <td>Not specified</td>\n",
       "      <td>886448446026</td>\n",
       "      <td>Ho, why is you here ?</td>\n",
       "      <td>USRC12002532</td>\n",
       "      <td>May I</td>\n",
       "      <td>1</td>\n",
       "      <td>2020-10-25</td>\n",
       "      <td>1</td>\n",
       "      <td>...</td>\n",
       "      <td>Flomilli</td>\n",
       "      <td>May-I-6852015601389438978</td>\n",
       "      <td>9.42857</td>\n",
       "      <td>38200, 34100, 39700, 31200, 35900, 44400, 4080...</td>\n",
       "      <td>https://www.tiktok.com/music/May-I-68520156013...</td>\n",
       "      <td>2020-07-23</td>\n",
       "      <td>76.0</td>\n",
       "      <td>1GcXzijYzyfMq6wryZjYW5</td>\n",
       "      <td>{'meta': {'analyzer_version': '4.0.0', 'platfo...</td>\n",
       "      <td>{'danceability': 0.896, 'energy': 0.78, 'key':...</td>\n",
       "    </tr>\n",
       "  </tbody>\n",
       "</table>\n",
       "<p>5 rows × 22 columns</p>\n",
       "</div>"
      ],
      "text/plain": [
       "   index         Playlist Add Date                  Record Label  \\\n",
       "0      0  2020-08-23T00:00:00.000Z                          JVKE   \n",
       "1      0  2020-11-03T00:00:00.000Z               ColliPark Music   \n",
       "2      0  2020-11-01T00:00:00.000Z                          MFLP   \n",
       "3      0  2020-10-29T00:00:00.000Z  Astroknot Sounds, Opposition   \n",
       "4      0  2020-10-26T00:00:00.000Z                 Not specified   \n",
       "\n",
       "                                                 UPC  \\\n",
       "0                                       193436230483   \n",
       "1                                       859705372161   \n",
       "2  829410801386, 888072351684, 600406849243, 8880...   \n",
       "3                                       193436238021   \n",
       "4                                       886448446026   \n",
       "\n",
       "                                          Album Name          ISRC  \\\n",
       "0                                        Upside Down  QM24S2008283   \n",
       "1           Alley: The Return of the Ying Yang Twins  USW9J1000104   \n",
       "2  Halloween Howls, Halloween Howls: Fun & Scary ...  USB440453203   \n",
       "3                              Garage Room Freestyle  QM24S2009905   \n",
       "4                              Ho, why is you here ?  USRC12002532   \n",
       "\n",
       "                                     name  Peak Position   Peak Date  Rank  \\\n",
       "0  All TikTok Mashup (JVKE - Upside Down)              1  2020-09-02     1   \n",
       "1                             Say I Yi Yi              1  2020-11-02     1   \n",
       "2                 Spooky, Scary Skeletons              1  2020-10-31     1   \n",
       "3      Garage Room Freestyle (Reel It In)              1  2020-10-28     1   \n",
       "4                                   May I              1  2020-10-25     1   \n",
       "\n",
       "   ...    Artist(s)                                    tiktok_track_id  \\\n",
       "0  ...       JVKE 🌩  All-TikTok-Mashup-JVKE-Upside-Down-68463501735...   \n",
       "1  ...        D-Roc                    Say-I-Yi-Yi-6883981933215369989   \n",
       "2  ...  Andrew Gold         Spooky-Scary-Skeletons-6602666381370460933   \n",
       "3  ...    Number9ok  Garage-Room-Freestyle-Reel-It-In-6876123370077...   \n",
       "4  ...     Flomilli                          May-I-6852015601389438978   \n",
       "\n",
       "  Velocity                                   Historical Posts  \\\n",
       "0                                              100000, 300000   \n",
       "1              105900, 148200, 177600, 229200, 200000, 200000   \n",
       "2  2.14286  100000, 100000, 100000, 100000, 100000, 100000...   \n",
       "3  1.85714  40000, 81500, 123900, 116700, 74700, 72700, 78...   \n",
       "4  9.42857  38200, 34100, 39700, 31200, 35900, 44400, 4080...   \n",
       "\n",
       "                                         TikTok Link Release Date  \\\n",
       "0  https://www.tiktok.com/music/All-TikTok-Mashup...   2020-08-17   \n",
       "1  https://www.tiktok.com/music/Say-I-Yi-Yi-68839...   2002-03-25   \n",
       "2  https://www.tiktok.com/music/Spooky-Scary-Skel...   2006-10-02   \n",
       "3  https://www.tiktok.com/music/Garage-Room-Frees...   2020-10-13   \n",
       "4  https://www.tiktok.com/music/May-I-68520156013...   2020-07-23   \n",
       "\n",
       "  Position Change             spotify_uri  \\\n",
       "0            23.0  5TpvLkESnw1g9wDz52efeO   \n",
       "1             2.0  46XvcuEZFFInDilbYUNHBn   \n",
       "2             5.0  23V08GxMeaZNSf8Gy6KF6t   \n",
       "3            14.0  0buOF1gvLBupoSZSaycYWD   \n",
       "4            76.0  1GcXzijYzyfMq6wryZjYW5   \n",
       "\n",
       "                                      audio_analysis  \\\n",
       "0  {'meta': {'analyzer_version': '4.0.0', 'platfo...   \n",
       "1  {'meta': {'analyzer_version': '4.0.0', 'platfo...   \n",
       "2  {'meta': {'analyzer_version': '4.0.0', 'platfo...   \n",
       "3  {'meta': {'analyzer_version': '4.0.0', 'platfo...   \n",
       "4  {'meta': {'analyzer_version': '4.0.0', 'platfo...   \n",
       "\n",
       "                                    feature_analysis  \n",
       "0  {'danceability': 0.88, 'energy': 0.501, 'key':...  \n",
       "1  {'danceability': 0.782, 'energy': 0.627, 'key'...  \n",
       "2  {'danceability': 0.806, 'energy': 0.447, 'key'...  \n",
       "3  {'danceability': 0.849, 'energy': 0.195, 'key'...  \n",
       "4  {'danceability': 0.896, 'energy': 0.78, 'key':...  \n",
       "\n",
       "[5 rows x 22 columns]"
      ]
     },
     "execution_count": 2,
     "metadata": {},
     "output_type": "execute_result"
    }
   ],
   "source": [
    "# Pickle in cleaned dataframe\n",
    "\n",
    "# Designate path\n",
    "\n",
    "path = r\"C:\\Users\\Andrew\\Documents\\Metis\\TikTok_Song_Predictor\\Pickle\\Feauture_Pickle.pkl\"\n",
    "\n",
    "df = pickle.load(open(path,'rb'))\n",
    "df.head()"
   ]
  },
  {
   "cell_type": "code",
   "execution_count": 3,
   "id": "practical-serum",
   "metadata": {},
   "outputs": [
    {
     "data": {
      "text/plain": [
       "(9930, 22)"
      ]
     },
     "execution_count": 3,
     "metadata": {},
     "output_type": "execute_result"
    }
   ],
   "source": [
    "df.shape"
   ]
  },
  {
   "cell_type": "code",
   "execution_count": 4,
   "id": "textile-findings",
   "metadata": {},
   "outputs": [],
   "source": [
    "# Extractng 'feature analysis' column into separate columns"
   ]
  },
  {
   "cell_type": "code",
   "execution_count": 5,
   "id": "psychological-burst",
   "metadata": {},
   "outputs": [],
   "source": [
    "list_features = [] # list to store each row in \n",
    "\n",
    "for index, row in df.iterrows():\n",
    "    my_dict = df['feature_analysis'][index]\n",
    "    exploded_features = pd.DataFrame.from_dict(my_dict,orient='index').T\n",
    "    exploded_features['ISRC'] = df['ISRC'][index]\n",
    "    # Concat with df\n",
    "    list_features.append(exploded_features)"
   ]
  },
  {
   "cell_type": "code",
   "execution_count": 6,
   "id": "hollow-wireless",
   "metadata": {},
   "outputs": [],
   "source": [
    "df_features = pd.concat(list_features)"
   ]
  },
  {
   "cell_type": "code",
   "execution_count": 7,
   "id": "cosmetic-digit",
   "metadata": {},
   "outputs": [
    {
     "data": {
      "text/plain": [
       "(9030, 19)"
      ]
     },
     "execution_count": 7,
     "metadata": {},
     "output_type": "execute_result"
    }
   ],
   "source": [
    "df_features.shape"
   ]
  },
  {
   "cell_type": "code",
   "execution_count": 8,
   "id": "compound-thousand",
   "metadata": {},
   "outputs": [
    {
     "data": {
      "text/html": [
       "<div>\n",
       "<style scoped>\n",
       "    .dataframe tbody tr th:only-of-type {\n",
       "        vertical-align: middle;\n",
       "    }\n",
       "\n",
       "    .dataframe tbody tr th {\n",
       "        vertical-align: top;\n",
       "    }\n",
       "\n",
       "    .dataframe thead th {\n",
       "        text-align: right;\n",
       "    }\n",
       "</style>\n",
       "<table border=\"1\" class=\"dataframe\">\n",
       "  <thead>\n",
       "    <tr style=\"text-align: right;\">\n",
       "      <th></th>\n",
       "      <th>danceability</th>\n",
       "      <th>energy</th>\n",
       "      <th>key</th>\n",
       "      <th>loudness</th>\n",
       "      <th>mode</th>\n",
       "      <th>speechiness</th>\n",
       "      <th>acousticness</th>\n",
       "      <th>instrumentalness</th>\n",
       "      <th>liveness</th>\n",
       "      <th>valence</th>\n",
       "      <th>tempo</th>\n",
       "      <th>type</th>\n",
       "      <th>id</th>\n",
       "      <th>uri</th>\n",
       "      <th>track_href</th>\n",
       "      <th>analysis_url</th>\n",
       "      <th>duration_ms</th>\n",
       "      <th>time_signature</th>\n",
       "      <th>ISRC</th>\n",
       "    </tr>\n",
       "  </thead>\n",
       "  <tbody>\n",
       "    <tr>\n",
       "      <th>0</th>\n",
       "      <td>0.88</td>\n",
       "      <td>0.501</td>\n",
       "      <td>2</td>\n",
       "      <td>-6.774</td>\n",
       "      <td>1</td>\n",
       "      <td>0.062</td>\n",
       "      <td>0.0494</td>\n",
       "      <td>0.0695</td>\n",
       "      <td>0.436</td>\n",
       "      <td>0.459</td>\n",
       "      <td>120.038</td>\n",
       "      <td>audio_features</td>\n",
       "      <td>5TpvLkESnw1g9wDz52efeO</td>\n",
       "      <td>spotify:track:5TpvLkESnw1g9wDz52efeO</td>\n",
       "      <td>https://api.spotify.com/v1/tracks/5TpvLkESnw1g...</td>\n",
       "      <td>https://api.spotify.com/v1/audio-analysis/5Tpv...</td>\n",
       "      <td>114500</td>\n",
       "      <td>4</td>\n",
       "      <td>QM24S2008283</td>\n",
       "    </tr>\n",
       "    <tr>\n",
       "      <th>0</th>\n",
       "      <td>0.782</td>\n",
       "      <td>0.627</td>\n",
       "      <td>8</td>\n",
       "      <td>-6.509</td>\n",
       "      <td>0</td>\n",
       "      <td>0.115</td>\n",
       "      <td>0.00233</td>\n",
       "      <td>1.27e-05</td>\n",
       "      <td>0.201</td>\n",
       "      <td>0.485</td>\n",
       "      <td>94.967</td>\n",
       "      <td>audio_features</td>\n",
       "      <td>46XvcuEZFFInDilbYUNHBn</td>\n",
       "      <td>spotify:track:46XvcuEZFFInDilbYUNHBn</td>\n",
       "      <td>https://api.spotify.com/v1/tracks/46XvcuEZFFIn...</td>\n",
       "      <td>https://api.spotify.com/v1/audio-analysis/46Xv...</td>\n",
       "      <td>272507</td>\n",
       "      <td>4</td>\n",
       "      <td>USW9J1000104</td>\n",
       "    </tr>\n",
       "    <tr>\n",
       "      <th>0</th>\n",
       "      <td>0.806</td>\n",
       "      <td>0.447</td>\n",
       "      <td>7</td>\n",
       "      <td>-10.181</td>\n",
       "      <td>1</td>\n",
       "      <td>0.0461</td>\n",
       "      <td>0.27</td>\n",
       "      <td>3.7e-06</td>\n",
       "      <td>0.335</td>\n",
       "      <td>0.914</td>\n",
       "      <td>77.033</td>\n",
       "      <td>audio_features</td>\n",
       "      <td>23V08GxMeaZNSf8Gy6KF6t</td>\n",
       "      <td>spotify:track:23V08GxMeaZNSf8Gy6KF6t</td>\n",
       "      <td>https://api.spotify.com/v1/tracks/23V08GxMeaZN...</td>\n",
       "      <td>https://api.spotify.com/v1/audio-analysis/23V0...</td>\n",
       "      <td>127627</td>\n",
       "      <td>5</td>\n",
       "      <td>USB440453203</td>\n",
       "    </tr>\n",
       "    <tr>\n",
       "      <th>0</th>\n",
       "      <td>0.849</td>\n",
       "      <td>0.195</td>\n",
       "      <td>7</td>\n",
       "      <td>-11.477</td>\n",
       "      <td>0</td>\n",
       "      <td>0.643</td>\n",
       "      <td>0.437</td>\n",
       "      <td>1.22e-05</td>\n",
       "      <td>0.375</td>\n",
       "      <td>0.0722</td>\n",
       "      <td>129.952</td>\n",
       "      <td>audio_features</td>\n",
       "      <td>0buOF1gvLBupoSZSaycYWD</td>\n",
       "      <td>spotify:track:0buOF1gvLBupoSZSaycYWD</td>\n",
       "      <td>https://api.spotify.com/v1/tracks/0buOF1gvLBup...</td>\n",
       "      <td>https://api.spotify.com/v1/audio-analysis/0buO...</td>\n",
       "      <td>74214</td>\n",
       "      <td>4</td>\n",
       "      <td>QM24S2009905</td>\n",
       "    </tr>\n",
       "    <tr>\n",
       "      <th>0</th>\n",
       "      <td>0.896</td>\n",
       "      <td>0.78</td>\n",
       "      <td>1</td>\n",
       "      <td>-3.547</td>\n",
       "      <td>1</td>\n",
       "      <td>0.202</td>\n",
       "      <td>0.0828</td>\n",
       "      <td>0</td>\n",
       "      <td>0.0857</td>\n",
       "      <td>0.85</td>\n",
       "      <td>106.032</td>\n",
       "      <td>audio_features</td>\n",
       "      <td>1GcXzijYzyfMq6wryZjYW5</td>\n",
       "      <td>spotify:track:1GcXzijYzyfMq6wryZjYW5</td>\n",
       "      <td>https://api.spotify.com/v1/tracks/1GcXzijYzyfM...</td>\n",
       "      <td>https://api.spotify.com/v1/audio-analysis/1GcX...</td>\n",
       "      <td>163019</td>\n",
       "      <td>4</td>\n",
       "      <td>USRC12002532</td>\n",
       "    </tr>\n",
       "  </tbody>\n",
       "</table>\n",
       "</div>"
      ],
      "text/plain": [
       "  danceability energy key loudness mode speechiness acousticness  \\\n",
       "0         0.88  0.501   2   -6.774    1       0.062       0.0494   \n",
       "0        0.782  0.627   8   -6.509    0       0.115      0.00233   \n",
       "0        0.806  0.447   7  -10.181    1      0.0461         0.27   \n",
       "0        0.849  0.195   7  -11.477    0       0.643        0.437   \n",
       "0        0.896   0.78   1   -3.547    1       0.202       0.0828   \n",
       "\n",
       "  instrumentalness liveness valence    tempo            type  \\\n",
       "0           0.0695    0.436   0.459  120.038  audio_features   \n",
       "0         1.27e-05    0.201   0.485   94.967  audio_features   \n",
       "0          3.7e-06    0.335   0.914   77.033  audio_features   \n",
       "0         1.22e-05    0.375  0.0722  129.952  audio_features   \n",
       "0                0   0.0857    0.85  106.032  audio_features   \n",
       "\n",
       "                       id                                   uri  \\\n",
       "0  5TpvLkESnw1g9wDz52efeO  spotify:track:5TpvLkESnw1g9wDz52efeO   \n",
       "0  46XvcuEZFFInDilbYUNHBn  spotify:track:46XvcuEZFFInDilbYUNHBn   \n",
       "0  23V08GxMeaZNSf8Gy6KF6t  spotify:track:23V08GxMeaZNSf8Gy6KF6t   \n",
       "0  0buOF1gvLBupoSZSaycYWD  spotify:track:0buOF1gvLBupoSZSaycYWD   \n",
       "0  1GcXzijYzyfMq6wryZjYW5  spotify:track:1GcXzijYzyfMq6wryZjYW5   \n",
       "\n",
       "                                          track_href  \\\n",
       "0  https://api.spotify.com/v1/tracks/5TpvLkESnw1g...   \n",
       "0  https://api.spotify.com/v1/tracks/46XvcuEZFFIn...   \n",
       "0  https://api.spotify.com/v1/tracks/23V08GxMeaZN...   \n",
       "0  https://api.spotify.com/v1/tracks/0buOF1gvLBup...   \n",
       "0  https://api.spotify.com/v1/tracks/1GcXzijYzyfM...   \n",
       "\n",
       "                                        analysis_url duration_ms  \\\n",
       "0  https://api.spotify.com/v1/audio-analysis/5Tpv...      114500   \n",
       "0  https://api.spotify.com/v1/audio-analysis/46Xv...      272507   \n",
       "0  https://api.spotify.com/v1/audio-analysis/23V0...      127627   \n",
       "0  https://api.spotify.com/v1/audio-analysis/0buO...       74214   \n",
       "0  https://api.spotify.com/v1/audio-analysis/1GcX...      163019   \n",
       "\n",
       "  time_signature          ISRC  \n",
       "0              4  QM24S2008283  \n",
       "0              4  USW9J1000104  \n",
       "0              5  USB440453203  \n",
       "0              4  QM24S2009905  \n",
       "0              4  USRC12002532  "
      ]
     },
     "execution_count": 8,
     "metadata": {},
     "output_type": "execute_result"
    }
   ],
   "source": [
    "df_features.head()"
   ]
  },
  {
   "cell_type": "code",
   "execution_count": 9,
   "id": "blocked-premiere",
   "metadata": {},
   "outputs": [
    {
     "data": {
      "text/plain": [
       "(9930, 22)"
      ]
     },
     "execution_count": 9,
     "metadata": {},
     "output_type": "execute_result"
    }
   ],
   "source": [
    "df.shape"
   ]
  },
  {
   "cell_type": "markdown",
   "id": "colonial-response",
   "metadata": {},
   "source": [
    "# Merge df_features with df"
   ]
  },
  {
   "cell_type": "code",
   "execution_count": 10,
   "id": "surprising-wheel",
   "metadata": {},
   "outputs": [],
   "source": [
    "# Perfrom a left merge with df_features\n",
    "\n",
    "df_agg = df_features.merge(df,how='inner',on='ISRC')"
   ]
  },
  {
   "cell_type": "code",
   "execution_count": 11,
   "id": "better-mount",
   "metadata": {},
   "outputs": [
    {
     "data": {
      "text/plain": [
       "Index(['danceability', 'energy', 'key', 'loudness', 'mode', 'speechiness',\n",
       "       'acousticness', 'instrumentalness', 'liveness', 'valence', 'tempo',\n",
       "       'type', 'id', 'uri', 'track_href', 'analysis_url', 'duration_ms',\n",
       "       'time_signature', 'ISRC', 'index', 'Playlist Add Date', 'Record Label',\n",
       "       'UPC', 'Album Name', 'name', 'Peak Position', 'Peak Date', 'Rank',\n",
       "       'Historical Positions', 'Time on Chart', 'Artist(s)', 'tiktok_track_id',\n",
       "       'Velocity', 'Historical Posts', 'TikTok Link', 'Release Date',\n",
       "       'Position Change', 'spotify_uri', 'audio_analysis', 'feature_analysis'],\n",
       "      dtype='object')"
      ]
     },
     "execution_count": 11,
     "metadata": {},
     "output_type": "execute_result"
    }
   ],
   "source": [
    "df_agg.columns"
   ]
  },
  {
   "cell_type": "code",
   "execution_count": 12,
   "id": "changing-print",
   "metadata": {},
   "outputs": [],
   "source": [
    "# Drop rows were tiktok id is not unique, keep the row were \n",
    "\n",
    "df_agg = df_agg.sort_values('Peak Position').drop_duplicates('uri', keep = 'first')"
   ]
  },
  {
   "cell_type": "code",
   "execution_count": 13,
   "id": "running-bibliography",
   "metadata": {},
   "outputs": [],
   "source": [
    "df_agg['success'] =  np.where(df_agg['Peak Position'] < 51, 1, 0)"
   ]
  },
  {
   "cell_type": "code",
   "execution_count": 14,
   "id": "formal-slovakia",
   "metadata": {},
   "outputs": [],
   "source": [
    "# Further Data Cleaning"
   ]
  },
  {
   "cell_type": "code",
   "execution_count": 15,
   "id": "focal-mileage",
   "metadata": {},
   "outputs": [
    {
     "name": "stdout",
     "output_type": "stream",
     "text": [
      "0    0.876482\n",
      "1    0.123518\n",
      "Name: success, dtype: float64\n"
     ]
    }
   ],
   "source": [
    "# check for distribution of the target\n",
    "target_pcts = df_agg.success.value_counts(normalize=True) \n",
    "print(target_pcts)"
   ]
  },
  {
   "cell_type": "markdown",
   "id": "charitable-columbia",
   "metadata": {},
   "source": [
    "# Add Further Features"
   ]
  },
  {
   "cell_type": "code",
   "execution_count": 16,
   "id": "geological-guidance",
   "metadata": {},
   "outputs": [
    {
     "data": {
      "text/plain": [
       "danceability             object\n",
       "energy                   object\n",
       "key                      object\n",
       "loudness                 object\n",
       "mode                     object\n",
       "speechiness              object\n",
       "acousticness             object\n",
       "instrumentalness         object\n",
       "liveness                 object\n",
       "valence                  object\n",
       "tempo                    object\n",
       "type                     object\n",
       "id                       object\n",
       "uri                      object\n",
       "track_href               object\n",
       "analysis_url             object\n",
       "duration_ms              object\n",
       "time_signature           object\n",
       "ISRC                     object\n",
       "index                     int64\n",
       "Playlist Add Date        object\n",
       "Record Label             object\n",
       "UPC                      object\n",
       "Album Name               object\n",
       "name                     object\n",
       "Peak Position             int64\n",
       "Peak Date                object\n",
       "Rank                      int64\n",
       "Historical Positions     object\n",
       "Time on Chart             int64\n",
       "Artist(s)                object\n",
       "tiktok_track_id          object\n",
       "Velocity                 object\n",
       "Historical Posts         object\n",
       "TikTok Link              object\n",
       "Release Date             object\n",
       "Position Change         float64\n",
       "spotify_uri              object\n",
       "audio_analysis           object\n",
       "feature_analysis         object\n",
       "success                   int32\n",
       "dtype: object"
      ]
     },
     "execution_count": 16,
     "metadata": {},
     "output_type": "execute_result"
    }
   ],
   "source": [
    "# Change dtype\n",
    "\n",
    "df_agg.dtypes"
   ]
  },
  {
   "cell_type": "code",
   "execution_count": 17,
   "id": "improving-pressing",
   "metadata": {},
   "outputs": [],
   "source": [
    "# Convert columns to float 64\n",
    "cols = ['danceability', 'energy', 'key', 'loudness', 'mode', 'speechiness',\n",
    "       'acousticness', 'instrumentalness', 'liveness', 'valence', 'tempo','duration_ms',\n",
    "       'time_signature','Velocity']\n",
    "df_agg[cols] = df_agg[cols].apply(pd.to_numeric, errors='coerce', axis=1)"
   ]
  },
  {
   "cell_type": "code",
   "execution_count": 18,
   "id": "substantial-saver",
   "metadata": {},
   "outputs": [
    {
     "data": {
      "text/plain": [
       "0        2020-08-17\n",
       "162      2020-08-06\n",
       "331      2017-06-15\n",
       "443      2017-09-26\n",
       "427      2020-08-13\n",
       "            ...    \n",
       "13264    2020-03-26\n",
       "13267    2012-11-22\n",
       "13265    2021-01-23\n",
       "13266    2006-12-31\n",
       "13268    2020-11-10\n",
       "Name: Release Date, Length: 7675, dtype: object"
      ]
     },
     "execution_count": 18,
     "metadata": {},
     "output_type": "execute_result"
    }
   ],
   "source": [
    "df_agg['Release Date']"
   ]
  },
  {
   "cell_type": "code",
   "execution_count": 19,
   "id": "written-concrete",
   "metadata": {},
   "outputs": [],
   "source": [
    "df_agg['Release Date']= pd.to_datetime(df['Release Date'],errors='coerce')"
   ]
  },
  {
   "cell_type": "code",
   "execution_count": 20,
   "id": "exceptional-oliver",
   "metadata": {},
   "outputs": [
    {
     "data": {
      "text/plain": [
       "danceability                   float64\n",
       "energy                         float64\n",
       "key                            float64\n",
       "loudness                       float64\n",
       "mode                           float64\n",
       "speechiness                    float64\n",
       "acousticness                   float64\n",
       "instrumentalness               float64\n",
       "liveness                       float64\n",
       "valence                        float64\n",
       "tempo                          float64\n",
       "type                            object\n",
       "id                              object\n",
       "uri                             object\n",
       "track_href                      object\n",
       "analysis_url                    object\n",
       "duration_ms                    float64\n",
       "time_signature                 float64\n",
       "ISRC                            object\n",
       "index                            int64\n",
       "Playlist Add Date               object\n",
       "Record Label                    object\n",
       "UPC                             object\n",
       "Album Name                      object\n",
       "name                            object\n",
       "Peak Position                    int64\n",
       "Peak Date                       object\n",
       "Rank                             int64\n",
       "Historical Positions            object\n",
       "Time on Chart                    int64\n",
       "Artist(s)                       object\n",
       "tiktok_track_id                 object\n",
       "Velocity                       float64\n",
       "Historical Posts                object\n",
       "TikTok Link                     object\n",
       "Release Date            datetime64[ns]\n",
       "Position Change                float64\n",
       "spotify_uri                     object\n",
       "audio_analysis                  object\n",
       "feature_analysis                object\n",
       "success                          int32\n",
       "dtype: object"
      ]
     },
     "execution_count": 20,
     "metadata": {},
     "output_type": "execute_result"
    }
   ],
   "source": [
    "df_agg.dtypes"
   ]
  },
  {
   "cell_type": "code",
   "execution_count": 21,
   "id": "interim-score",
   "metadata": {},
   "outputs": [],
   "source": [
    "# Create a year column\n",
    "\n",
    "df_agg['year'] = pd.DatetimeIndex(df_agg['Release Date']).year"
   ]
  },
  {
   "cell_type": "code",
   "execution_count": 22,
   "id": "joined-detector",
   "metadata": {},
   "outputs": [],
   "source": [
    "# Reset Index\n",
    "df_agg.reset_index(inplace=True)"
   ]
  },
  {
   "cell_type": "code",
   "execution_count": 23,
   "id": "exposed-entity",
   "metadata": {},
   "outputs": [],
   "source": [
    "df_agg['year'] = df_agg['year'].fillna(0)"
   ]
  },
  {
   "cell_type": "markdown",
   "id": "injured-cylinder",
   "metadata": {},
   "source": [
    "## Top / \"Other\" Albums and Artists column to make getting dummies manageable"
   ]
  },
  {
   "cell_type": "markdown",
   "id": "czech-adams",
   "metadata": {},
   "source": [
    "### Start with albums"
   ]
  },
  {
   "cell_type": "code",
   "execution_count": 24,
   "id": "juvenile-smooth",
   "metadata": {},
   "outputs": [],
   "source": [
    "# Adding a column for the top 10 artists and top ten albums (otherwise with get dummies -> too many columns)\n",
    "\n",
    "album_counts = df_agg['Album Name'].value_counts()\n",
    "df_album = pd.DataFrame(album_counts)"
   ]
  },
  {
   "cell_type": "code",
   "execution_count": 25,
   "id": "connected-darwin",
   "metadata": {
    "scrolled": true
   },
   "outputs": [
    {
     "data": {
      "text/plain": [
       "MAP OF THE SOUL : 7, MAP OF THE SOUL : 7, MAP OF THE SOUL : 7, MAP OF THE SOUL : 7                                           7\n",
       "UNDERTALE Soundtrack                                                                                                         6\n",
       "Fine Line                                                                                                                    6\n",
       "Age 19                                                                                                                       5\n",
       "Joytime III                                                                                                                  5\n",
       "THE ALBUM, THE ALBUM, THE ALBUM, THE ALBUM                                                                                   5\n",
       "Super Mario Games - Greatest Themes & Sounds                                                                                 4\n",
       "YHLQMDLG                                                                                                                     4\n",
       "Fearless                                                                                                                     4\n",
       "Easy Money Baby                                                                                                              4\n",
       "EL ÚLTIMO TOUR DEL MUNDO                                                                                                     4\n",
       "Christmas, Christmas, Christmas                                                                                              4\n",
       "Aura                                                                                                                         4\n",
       "17                                                                                                                           4\n",
       "Euphoria (Original Score from the HBO Series)                                                                                4\n",
       "ASTROWORLD                                                                                                                   4\n",
       "Spongebob Squarepants - The Yellow Album                                                                                     4\n",
       "AI YoungBoy                                                                                                                  3\n",
       "Hot Pink, Hot Pink (Japan Version)                                                                                           3\n",
       "Among Us                                                                                                                     3\n",
       "Dance Monkey                                                                                                                 3\n",
       "The Lion King: The Gift, The Lion King: The Gift [Deluxe Edition], The Lion King: The Gift [Deluxe Edition]                  3\n",
       "Wake Up                                                                                                                      3\n",
       "Smile                                                                                                                        3\n",
       "Love Yourself 承 'Her'                                                                                                        3\n",
       "Love Yourself 結 'Answer'                                                                                                     3\n",
       "Invasion of Privacy                                                                                                          3\n",
       "Addison Rae                                                                                                                  3\n",
       "SpongeBob's Greatest Hits, Spongebob Squarepants - The Yellow Album, SpongeBob's Greatest Hits, SpongeBob's Greatest Hits    3\n",
       "Someone You Loved                                                                                                            3\n",
       "Name: Album Name, dtype: int64"
      ]
     },
     "execution_count": 25,
     "metadata": {},
     "output_type": "execute_result"
    }
   ],
   "source": [
    "album_counts[0:30]"
   ]
  },
  {
   "cell_type": "code",
   "execution_count": 26,
   "id": "suburban-floor",
   "metadata": {},
   "outputs": [],
   "source": [
    "# Creating list of \"other albums with less than 5 appearances\"\n",
    "other_albums = list(album_counts[album_counts <= 30].index)"
   ]
  },
  {
   "cell_type": "code",
   "execution_count": 27,
   "id": "martial-month",
   "metadata": {},
   "outputs": [],
   "source": [
    "df_agg['top_albums'] = df_agg['Album Name'].replace(other_albums,'Other')"
   ]
  },
  {
   "cell_type": "markdown",
   "id": "cultural-permission",
   "metadata": {},
   "source": [
    "### Next artists"
   ]
  },
  {
   "cell_type": "code",
   "execution_count": 28,
   "id": "domestic-humor",
   "metadata": {},
   "outputs": [],
   "source": [
    "# Adding a column for the top 10 artists and top ten albums (otherwise with get dummies -> too many columns)\n",
    "\n",
    "artist_counts = df_agg['Artist(s)'].value_counts()\n",
    "df_album = pd.DataFrame(artist_counts)"
   ]
  },
  {
   "cell_type": "code",
   "execution_count": 29,
   "id": "least-appearance",
   "metadata": {},
   "outputs": [
    {
     "data": {
      "text/plain": [
       "BTS                 30\n",
       "Now United          24\n",
       "XXXTENTACION        20\n",
       "Justin Bieber       18\n",
       "Melanie Martinez    15\n",
       "                    ..\n",
       "Britney Spears       6\n",
       "Ricky Desktop        6\n",
       "SZA                  6\n",
       "Tiagz                6\n",
       "Ava Max              6\n",
       "Name: Artist(s), Length: 100, dtype: int64"
      ]
     },
     "execution_count": 29,
     "metadata": {},
     "output_type": "execute_result"
    }
   ],
   "source": [
    "artist_counts[0:100]"
   ]
  },
  {
   "cell_type": "code",
   "execution_count": 30,
   "id": "medical-offense",
   "metadata": {},
   "outputs": [],
   "source": [
    "# Creating list of \"other albums with less than 5 appearances\"\n",
    "other_artists = list(artist_counts[artist_counts <= 7].index)"
   ]
  },
  {
   "cell_type": "code",
   "execution_count": 31,
   "id": "fabulous-criticism",
   "metadata": {},
   "outputs": [],
   "source": [
    "df_agg['top_artists'] = df_agg['Artist(s)'].replace(other_artists,'Other')"
   ]
  },
  {
   "cell_type": "code",
   "execution_count": 32,
   "id": "mighty-pencil",
   "metadata": {},
   "outputs": [
    {
     "data": {
      "text/plain": [
       "Other                  7082\n",
       "BTS                      30\n",
       "Now United               24\n",
       "XXXTENTACION             20\n",
       "Justin Bieber            18\n",
       "Nicki Minaj              15\n",
       "Melanie Martinez         15\n",
       "Jason Derulo             14\n",
       "marshmello               13\n",
       "Bruno Mars               13\n",
       "Taylor Swift             13\n",
       "Meghan Trainor           13\n",
       "arianagrande             12\n",
       "Alan Walker              12\n",
       "Megan Thee Stallion      12\n",
       "Travis Scott             12\n",
       "Camilo                   11\n",
       "The Hit Crew             11\n",
       "OZUNA                    11\n",
       "blackpinkofficial        11\n",
       "Doja Cat                 11\n",
       "POP SMOKE 💫              11\n",
       "Dua Lipa                 11\n",
       "Ed Sheeran               11\n",
       "Jass Manak               11\n",
       "chrisbrownofficial       11\n",
       "Lil Uzi Vert             11\n",
       "Becky G                  11\n",
       "Juice WRLD               10\n",
       "One Direction            10\n",
       "Katy Perry               10\n",
       "Lana Del Rey              9\n",
       "Bad Bunny                 9\n",
       "HSHQ                      9\n",
       "Kane Brown                9\n",
       "Kehlani                   9\n",
       "Mariah Carey              9\n",
       "Lil Baby                  9\n",
       "Pitbull                   9\n",
       "Cardi B                   9\n",
       "TOPVIEW                   8\n",
       "Juan Luis                 8\n",
       "Miley Cyrus               8\n",
       "Aya Nakamura              8\n",
       "Dababy                    8\n",
       "J Balvin                  8\n",
       "Calvin Harris             8\n",
       "NLE choppa                8\n",
       "YNW Melly                 8\n",
       "rapidsongs                8\n",
       "LittleMix                 8\n",
       "AShamaluevMusic           8\n",
       "BILLIE EILISH             8\n",
       "Name: top_artists, dtype: int64"
      ]
     },
     "execution_count": 32,
     "metadata": {},
     "output_type": "execute_result"
    }
   ],
   "source": [
    "df_agg['top_artists'].value_counts()"
   ]
  },
  {
   "cell_type": "markdown",
   "id": "related-genius",
   "metadata": {},
   "source": [
    "# Pickle dataset for modelling"
   ]
  },
  {
   "cell_type": "code",
   "execution_count": 33,
   "id": "recognized-shelf",
   "metadata": {},
   "outputs": [],
   "source": [
    "# Designate path\n",
    "\n",
    "path = r\"C:\\Users\\Andrew\\Documents\\Metis\\TikTok_Song_Predictor\\Pickle\\df_agg.pkl\"\n",
    "with open(path, 'wb') as f:\n",
    "    pickle.dump(df_agg, f)"
   ]
  },
  {
   "cell_type": "code",
   "execution_count": 34,
   "id": "sitting-receiver",
   "metadata": {},
   "outputs": [
    {
     "data": {
      "text/plain": [
       "(7675, 45)"
      ]
     },
     "execution_count": 34,
     "metadata": {},
     "output_type": "execute_result"
    }
   ],
   "source": [
    "df_agg.shape"
   ]
  }
 ],
 "metadata": {
  "kernelspec": {
   "display_name": "Python 3",
   "language": "python",
   "name": "python3"
  },
  "language_info": {
   "codemirror_mode": {
    "name": "ipython",
    "version": 3
   },
   "file_extension": ".py",
   "mimetype": "text/x-python",
   "name": "python",
   "nbconvert_exporter": "python",
   "pygments_lexer": "ipython3",
   "version": "3.8.8"
  }
 },
 "nbformat": 4,
 "nbformat_minor": 5
}
